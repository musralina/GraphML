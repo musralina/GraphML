{
 "cells": [
  {
   "cell_type": "markdown",
   "id": "e5aaa6c0",
   "metadata": {
    "id": "e5aaa6c0"
   },
   "source": [
    "#  Structural Graph Embeddings"
   ]
  },
  {
   "cell_type": "code",
   "execution_count": 1,
   "id": "06d8e527",
   "metadata": {
    "id": "06d8e527"
   },
   "outputs": [],
   "source": [
    "from torch.optim import Adam\n",
    "from torch.utils.data import DataLoader\n",
    "from sklearn.manifold import TSNE\n",
    "import torch.nn as nn\n",
    "import numpy as np\n",
    "import torch\n",
    "from sklearn.metrics import mutual_info_score\n",
    "from sklearn.decomposition import PCA\n",
    "import requests\n",
    "from sklearn.cluster import k_means\n",
    "from tqdm.notebook import tqdm, trange\n",
    "from torch.utils.data import Dataset\n",
    "from scipy.sparse.linalg import svds\n",
    "import matplotlib.pyplot as plt\n",
    "from scipy.sparse import csr_matrix\n",
    "import networkx as nx"
   ]
  },
  {
   "cell_type": "markdown",
   "id": "1c1591f5",
   "metadata": {
    "id": "1c1591f5"
   },
   "source": [
    "### Facebook graph"
   ]
  },
  {
   "cell_type": "markdown",
   "id": "7974b182",
   "metadata": {
    "id": "7974b182"
   },
   "source": [
    "In this assignment, we will evaluate node embedding methods on the facebook graph where nodes are pages and edges are links. Each node has a category: government, tv-show, company, politician."
   ]
  },
  {
   "cell_type": "code",
   "execution_count": 2,
   "id": "96dd33df",
   "metadata": {
    "colab": {
     "base_uri": "https://localhost:8080/"
    },
    "id": "96dd33df",
    "outputId": "6b4b67e1-3a22-4065-ee04-c6739a96db34"
   },
   "outputs": [
    {
     "data": {
      "text/plain": [
       "(3873, array([2, 2, 2, ..., 3, 3, 3]))"
      ]
     },
     "execution_count": 2,
     "metadata": {},
     "output_type": "execute_result"
    }
   ],
   "source": [
    "url = 'https://raw.githubusercontent.com/netspractice/network-science/main/datasets/musae_facebook_ego_802.gml'\n",
    "open('musae_facebook_ego_802.gml', 'wb').write(requests.get(url).content)\n",
    "G = nx.read_gml('musae_facebook_ego_802.gml')\n",
    "G = nx.convert_node_labels_to_integers(G)\n",
    "_labels = np.array(list(nx.get_node_attributes(G, 'value').values()))\n",
    "unique = list(set(_labels))\n",
    "labels = np.array([unique.index(l) for l in _labels])\n",
    "len(G), labels"
   ]
  },
  {
   "cell_type": "markdown",
   "id": "265910b9",
   "metadata": {
    "id": "265910b9"
   },
   "source": [
    "### Task 1. DeepWalk (0 points)"
   ]
  },
  {
   "cell_type": "code",
   "execution_count": 3,
   "id": "5771763b",
   "metadata": {
    "id": "5771763b"
   },
   "outputs": [],
   "source": [
    "import warnings\n",
    "warnings.simplefilter(action='ignore', category=FutureWarning)"
   ]
  },
  {
   "cell_type": "markdown",
   "id": "5b9d9986",
   "metadata": {
    "id": "5b9d9986"
   },
   "source": [
    "Deepwalk is an approach for learning latent representations of nodes in a network. The motivation of DeepWalk is based on an observation that the frequency of nodes occurrence in the short random walks in social networks is similar to the frequency of words occurrence in sentences in natural languages.\n",
    "\n",
    "<img src=\"https://raw.githubusercontent.com/netspractice/network-science/main/images/node_word_powerlaw.png\" width=600>\n",
    "\n",
    "The both follow a power-law distribution, therefore NLP word embedding models can help to represent nodes in networks. DeepWalk is based on SkipGram model that is trained to predict the context for a given word.\n",
    "\n",
    "<img src='https://lena-voita.github.io/resources/lectures/word_emb/w2v/window_prob1-min.png' width=600>\n",
    "\n",
    "(an image is taken from [NLP Course For You](https://lena-voita.github.io/nlp_course.html))\n",
    "\n",
    "DeepWalk uses nodes instead of words and random walks on a network instead of sentences. Let a central word be a start node of a random walk, context words be nodes in a tail of a random walk."
   ]
  },
  {
   "cell_type": "markdown",
   "id": "9a003be8",
   "metadata": {
    "id": "9a003be8"
   },
   "source": [
    "Write a function `sample_random_walks` that takes a graph, number of walks per node and the length of walks, returns np.array of the shape (total number of walks) x (length)."
   ]
  },
  {
   "cell_type": "code",
   "execution_count": 4,
   "id": "8f27693a",
   "metadata": {
    "deletable": false,
    "id": "8f27693a",
    "nbgrader": {
     "cell_type": "code",
     "checksum": "d3ce58f440fdc8e196671a9575dd819b",
     "grade": false,
     "grade_id": "cell-6dae7ab8bdd8bca1",
     "locked": false,
     "schema_version": 3,
     "solution": true,
     "task": false
    }
   },
   "outputs": [],
   "source": [
    "def sample_random_walks(G, walks_per_node, length):\n",
    "    ### BEGIN SOLUTION\n",
    "    walks = []\n",
    "    for node in tqdm(G.nodes):\n",
    "        for _ in range(walks_per_node):\n",
    "            walk = [node]\n",
    "            current_node = node\n",
    "            for _ in range(length - 1):\n",
    "                next_node = np.random.choice(list(G.neighbors(current_node)))\n",
    "                walk.append(next_node)\n",
    "                current_node = next_node\n",
    "            walks.append(walk)\n",
    "    return np.array(walks)\n",
    "    ### END SOLUTION"
   ]
  },
  {
   "cell_type": "code",
   "execution_count": 5,
   "id": "2d724f95",
   "metadata": {
    "colab": {
     "base_uri": "https://localhost:8080/",
     "height": 49,
     "referenced_widgets": [
      "a1c7ada61d2d45449d8e001bc2c5c1eb",
      "db936dd0672e45798da317ea006dc3fb",
      "c77737d4a3c043f6a409117e74b568f8",
      "06dca8f971a148bb95cf8573b2fdf44b",
      "09e087a721da4d42bb4b17d4927a9df5",
      "4602bfd108804e8a81527d64d5fbe682",
      "83b0ad6d019341bf987212a79d28357f",
      "20efdad956f842b0a8b8bbe607980dac",
      "720f2d4e2344409c839ae8b8b2221dd0",
      "70c81e21b50b4729bbeb36816a4f48e9",
      "c444f03dff6e40f6909d547e5739a018"
     ]
    },
    "deletable": false,
    "editable": false,
    "id": "2d724f95",
    "nbgrader": {
     "cell_type": "code",
     "checksum": "bf580c164d7ab96868a44d09bf855390",
     "grade": true,
     "grade_id": "cell-6804ce30d354612f",
     "locked": true,
     "points": 0,
     "schema_version": 3,
     "solution": false,
     "task": false
    },
    "outputId": "b019ab19-214e-4eea-df16-3ae0ea45a216"
   },
   "outputs": [
    {
     "data": {
      "application/vnd.jupyter.widget-view+json": {
       "model_id": "812f88d1e6d54c4d88f7803d7adfdc77",
       "version_major": 2,
       "version_minor": 0
      },
      "text/plain": [
       "  0%|          | 0/3873 [00:00<?, ?it/s]"
      ]
     },
     "metadata": {},
     "output_type": "display_data"
    }
   ],
   "source": [
    "walks_per_node = 5\n",
    "length = 5\n",
    "rwalks = sample_random_walks(G, walks_per_node, length)\n",
    "assert rwalks.shape == (len(G) * walks_per_node, length)\n",
    "assert np.all(rwalks[:, 0][::5] == np.arange(len(G)))\n",
    "A = nx.to_numpy_array(G)\n",
    "assert np.all(A[rwalks[0, :-1], rwalks[0, 1:]] == 1)"
   ]
  },
  {
   "cell_type": "code",
   "execution_count": 6,
   "id": "e23d4119",
   "metadata": {
    "colab": {
     "base_uri": "https://localhost:8080/"
    },
    "id": "e23d4119",
    "outputId": "f965a7b2-0cbd-43cc-bab9-6b7c6ecc5171"
   },
   "outputs": [
    {
     "data": {
      "text/plain": [
       "array([[   0,   37,    7,   30,  101],\n",
       "       [   0,   10,   47,   13,  186],\n",
       "       [   0,   28,   23,  124,   64],\n",
       "       ...,\n",
       "       [3872, 1495,  169,  410,  248],\n",
       "       [3872, 1495, 3181,  409, 2148],\n",
       "       [3872, 1980, 2121,  253,  303]])"
      ]
     },
     "execution_count": 6,
     "metadata": {},
     "output_type": "execute_result"
    }
   ],
   "source": [
    "rwalks"
   ]
  },
  {
   "cell_type": "markdown",
   "id": "d836be95",
   "metadata": {
    "id": "d836be95"
   },
   "source": [
    "Consider a graph $G=(V,E)$. Let the first node in each random walk be _start node_ and others be _context nodes_. DeepWalk uses two embedding layers:\n",
    "* $v_i: \\{0, 1\\}^{|V|} \\to \\mathbb R^{d}$ embeds the one-hot encoded vector of the start node $i$ to latent space\n",
    "* $u_j: \\{0, 1\\}^{|V|} \\to \\mathbb R^{d}$ embeds the one-hot encoded vector of the context node $j$ to latent space\n",
    "\n",
    "The objective is to maximize the probability that $i$ and $j$ co-occur on a random walk over the network. Maximizing of the probability is equivalent to minimizing negative log-likelihood:\n",
    "\n",
    "$$\\mathcal L = - \\frac{1}{|V|\\times N} \\sum_{i=1}^{|V|\\times N} \\sum_{j=1}^L \\log P(j|i)$$\n",
    "\n",
    "where $N$ is the number of walks per node, $L$ is the length of a random walk excluding start node. $P(j|i)$ can be modelled by softmax with dot product similarity score $\\text{sim}(i, j) = u_i^\\top v_j$ as follows:\n",
    "\n",
    "$$\\mathcal L = - \\frac{1}{|V|\\times N} \\sum_{i=1}^{|V|\\times N} \\sum_{j=1}^L \\log \\frac{\\exp(v_i^\\top u_j)}{\\sum_{k=1}^{|V|}\\exp(u_k^\\top v_i)}$$\n",
    "\n",
    "However, calculating $\\sum_{k=1}^{|V|}\\exp(v_i^\\top u_j)$ is computationally expensive in a large network. To overcome such an obstacle, we can approximate softmax by binary cross-entropy with _negative sampling_. Instead of calculating softmax, we draw some random (negative) context and minimize binary cross-entropy using sigmoid function:\n",
    "\n",
    "$$\\mathcal L^{\\text{pos}}_{ij} = -\\log P(j|i) = - \\log \\sigma(v_i^\\top u_j) \\\\\n",
    "\\mathcal L^\\text{neg}_{ij} = -\\sum_{k=1}^K \\log P(k|i) = -\\sum_{k=1}^K \\log (1 - \\sigma(v_i^\\top u_k)) \\\\ \n",
    "\\mathcal L = \\frac{1}{|V|\\times N} \\sum_{i=1}^{|V|\\times N} \\sum_{j=1}^L \\left(\\mathcal L^{\\text{pos}}_{ij} + \\mathcal L^\\text{neg}_{ij}\\right)$$\n",
    "\n",
    "where $K$ is the number of negative nodes for each context node."
   ]
  },
  {
   "cell_type": "markdown",
   "id": "348dd491",
   "metadata": {
    "id": "348dd491"
   },
   "source": [
    "Let us create a dataset for computing a such loss function. Write a class `NodeContextDataset`. \n",
    "\n",
    "Function `__init__` takes random walks, the number of nodes in a graph and the number of negative nodes per each context node.\n",
    "\n",
    "Function `__len__` returns the number of random walks.\n",
    "\n",
    "Function `__getitem__` takes an index of random walk, sample a negative context and returns a tuple:\n",
    "\n",
    "* start node, torch.int64\n",
    "* positive context nodes, torch.tensor of the shape (number of context nodes)\n",
    "* negative context nodes, torch.tensor of the shape (number of context nodes, number of negative nodes)"
   ]
  },
  {
   "cell_type": "code",
   "execution_count": 7,
   "id": "7550cc9b",
   "metadata": {
    "deletable": false,
    "id": "7550cc9b",
    "nbgrader": {
     "cell_type": "code",
     "checksum": "f37ac528f7f9c27b886cd738c11ed47f",
     "grade": false,
     "grade_id": "cell-92d80df6a92f6fc2",
     "locked": false,
     "schema_version": 3,
     "solution": true,
     "task": false
    }
   },
   "outputs": [],
   "source": [
    "class NodeContextDataset(Dataset):\n",
    "    def __init__(self, rwalks, n_nodes, n_neg):\n",
    "        ### BEGIN SOLUTION\n",
    "        self.n_nodes = n_nodes\n",
    "        self.n_neg = n_neg\n",
    "        self.start_nodes = torch.tensor(rwalks[:, 0]).long()\n",
    "        self.pos_context = torch.tensor(rwalks[:, 1:]).long()\n",
    "        self.len_context = rwalks.shape[1] - 1\n",
    "        ### END SOLUTION\n",
    "\n",
    "    def __len__(self):\n",
    "        ### BEGIN SOLUTION\n",
    "        return len(self.start_nodes)\n",
    "        ### END SOLUTION\n",
    "\n",
    "    def __getitem__(self, idx):\n",
    "        ### BEGIN SOLUTION\n",
    "        neg_context = torch.randint(\n",
    "            high=self.n_nodes, \n",
    "            size=(self.len_context, self.n_neg)\n",
    "        )\n",
    "        return self.start_nodes[idx], self.pos_context[idx], neg_context\n",
    "        ### END SOLUTION"
   ]
  },
  {
   "cell_type": "code",
   "execution_count": 8,
   "id": "1625c384",
   "metadata": {
    "deletable": false,
    "editable": false,
    "id": "1625c384",
    "nbgrader": {
     "cell_type": "code",
     "checksum": "33e459957a271d9fbd1451657741be76",
     "grade": true,
     "grade_id": "cell-a745361ad8b8827a",
     "locked": true,
     "points": 0,
     "schema_version": 3,
     "solution": false,
     "task": false
    }
   },
   "outputs": [],
   "source": [
    "dataset = NodeContextDataset(rwalks, len(G), n_neg=5)\n",
    "assert len(dataset) == rwalks.shape[0]\n",
    "start_node, pos_context, neg_context0 = dataset[0]\n",
    "start_node, pos_context, neg_context1 = dataset[0]\n",
    "assert start_node == 0\n",
    "assert start_node.dtype == torch.int64\n",
    "assert start_node.shape == ()\n",
    "assert pos_context.shape == (4, )\n",
    "assert neg_context0.shape == neg_context1.shape ==(4, 5)\n",
    "assert not torch.all(neg_context0 == neg_context1)\n",
    "dloader = DataLoader(dataset, batch_size=2)\n",
    "for start_nodes, pos_context, neg_context in dloader:\n",
    "    break\n",
    "assert start_nodes.shape == (2,)\n",
    "assert pos_context.shape == (2, 4)\n",
    "assert neg_context.shape == (2, 4, 5)"
   ]
  },
  {
   "cell_type": "markdown",
   "id": "654e5e38",
   "metadata": {
    "id": "654e5e38"
   },
   "source": [
    "Write a function `cross_entropy` that takes vectors $v$, positive $u$, negative $u$ and returns the binary cross-entropy loss before reduction $\\frac{1}{|V|\\times N} \\sum_{i=1}^{|V|\\times N} \\sum_{j=1}^L$.\n",
    "\n",
    "_Remark: to prevent $-\\infty$ in log, add $\\varepsilon=1^{-6}$ as follows `torch.log(x + 1e-6)`_"
   ]
  },
  {
   "cell_type": "code",
   "execution_count": 9,
   "id": "f06c8044",
   "metadata": {
    "deletable": false,
    "id": "f06c8044",
    "nbgrader": {
     "cell_type": "code",
     "checksum": "8c52f1255915a57c9e9e136063d7a1bb",
     "grade": false,
     "grade_id": "cell-e2f4ba57342fd5e8",
     "locked": false,
     "schema_version": 3,
     "solution": true,
     "task": false
    }
   },
   "outputs": [],
   "source": [
    "def cross_entropy(v, u_pos, u_neg):\n",
    "    ### BEGIN SOLUTION\n",
    "    score = (v[:, None, :] * u_pos).sum(dim=2)\n",
    "    pos_loss = -torch.log(torch.sigmoid(score) + 1e-6)\n",
    "    score = (v[:, None, None, :] * u_neg).sum(dim=3)\n",
    "    neg_loss = -torch.log(1 - torch.sigmoid(score) + 1e-6).sum(dim=2)\n",
    "    loss = pos_loss + neg_loss\n",
    "    return loss\n",
    "    ### END SOLUTION"
   ]
  },
  {
   "cell_type": "code",
   "execution_count": 10,
   "id": "ca366b8b",
   "metadata": {
    "deletable": false,
    "editable": false,
    "id": "ca366b8b",
    "nbgrader": {
     "cell_type": "code",
     "checksum": "6560bbf935e37888e3e3b1bf47bd0881",
     "grade": true,
     "grade_id": "cell-588d17c4193a2d02",
     "locked": true,
     "points": 0,
     "schema_version": 3,
     "solution": false,
     "task": false
    }
   },
   "outputs": [],
   "source": [
    "np.random.seed(0)\n",
    "start_node_emb = torch.randn(len(G), 16)\n",
    "context_emb = torch.randn(len(G), 16)\n",
    "v = start_node_emb[start_nodes]\n",
    "u_pos = context_emb[pos_context]\n",
    "u_neg = context_emb[neg_context]\n",
    "loss = cross_entropy(v, u_pos, u_neg)\n",
    "assert loss.shape == (2, 4)\n",
    "lpos = -torch.log(torch.sigmoid(v[0] @ u_pos[0, 0]) + 1e-6)\n",
    "lneg = -torch.log(1 - torch.sigmoid(torch.tensor([v[0] @ u_neg[0, 0, i] for i in range(5)])) + 1e-6).sum()\n",
    "assert round((lpos + lneg).item(), 2) == round(loss[0, 0].item(), 2)"
   ]
  },
  {
   "cell_type": "markdown",
   "id": "442d3641",
   "metadata": {
    "id": "442d3641"
   },
   "source": [
    "Here is SkipGram model with negative sampling. It takes start nodes and positive, negative context nodes, returns cross-entropy loss."
   ]
  },
  {
   "cell_type": "code",
   "execution_count": 11,
   "id": "abf4c261",
   "metadata": {
    "deletable": false,
    "editable": false,
    "id": "abf4c261",
    "nbgrader": {
     "cell_type": "code",
     "checksum": "fc264bd4d5ca49b71b8ebd673adcb1d7",
     "grade": false,
     "grade_id": "cell-79e82ef853f9c439",
     "locked": true,
     "schema_version": 3,
     "solution": false,
     "task": false
    }
   },
   "outputs": [],
   "source": [
    "class SkipGramNegativeSampling(nn.Module):\n",
    "    def __init__(self, n_nodes, dim):\n",
    "        super().__init__()\n",
    "        self.start_node_emb = nn.Embedding(n_nodes, dim)\n",
    "        self.context_emb = nn.Embedding(n_nodes, dim)\n",
    "    def forward(self, start_nodes, pos_context, neg_context):\n",
    "        v = self.start_node_emb(start_nodes)\n",
    "        u_pos = self.context_emb(pos_context)\n",
    "        u_neg = self.context_emb(neg_context)\n",
    "        return cross_entropy(v, u_pos, u_neg)"
   ]
  },
  {
   "cell_type": "markdown",
   "id": "267a89d6",
   "metadata": {
    "id": "267a89d6"
   },
   "source": [
    "Let us train the model using Adam optimizer."
   ]
  },
  {
   "cell_type": "code",
   "execution_count": 12,
   "id": "624935a1",
   "metadata": {
    "colab": {
     "base_uri": "https://localhost:8080/",
     "height": 297,
     "referenced_widgets": [
      "898b4bb337c44c219cfd44a80e1753ff",
      "a64eeee1822e424d8da31b54da6de3c8",
      "3c468d4a7bfd401799aa63384a9f0c20",
      "0a145929fc374e6da960e7a5d2232fe4",
      "573ded28070a4dd9a314e062f58f6dac",
      "95f24bad29d64717bc2ce82a242c3951",
      "242d514ee3304cc7a23676e394c7c316",
      "1705b7e7c07a46db979130d26f6489e4",
      "5ad29ee1ab864727bcf474b512beebef",
      "8d6a82ace48c437d999975fa15239e89",
      "ed71268e0c39467a8271148bb68d0753"
     ]
    },
    "id": "624935a1",
    "outputId": "c4ffeb9a-955f-4ea0-aad6-d3504c3c7de1"
   },
   "outputs": [
    {
     "data": {
      "application/vnd.jupyter.widget-view+json": {
       "model_id": "efcc53956bfa4bc6a6b4541dc219db6f",
       "version_major": 2,
       "version_minor": 0
      },
      "text/plain": [
       "  0%|          | 0/50 [00:00<?, ?it/s]"
      ]
     },
     "metadata": {},
     "output_type": "display_data"
    },
    {
     "data": {
      "image/png": "[encoded data removed]",
      "text/plain": [
       "<Figure size 432x288 with 1 Axes>"
      ]
     },
     "metadata": {
      "needs_background": "light"
     },
     "output_type": "display_data"
    }
   ],
   "source": [
    "sgmodel = SkipGramNegativeSampling(n_nodes=len(G), dim=16)\n",
    "epoch_loss = []\n",
    "opt = Adam(sgmodel.parameters(), lr=0.1)\n",
    "dloader = DataLoader(dataset, batch_size=len(G))\n",
    "for epoch in trange(50):\n",
    "    for start_nodes, pos_context, neg_context in dloader:\n",
    "        loss = sgmodel(start_nodes, pos_context, neg_context).sum(dim=1).mean()\n",
    "        opt.zero_grad()\n",
    "        loss.backward()\n",
    "        opt.step()\n",
    "    epoch_loss.append(loss.item())\n",
    "plt.plot(epoch_loss);"
   ]
  },
  {
   "cell_type": "markdown",
   "id": "04914992",
   "metadata": {
    "id": "04914992"
   },
   "source": [
    "We evaluate the model by mutual information between ground truth labels and cluster indices."
   ]
  },
  {
   "cell_type": "code",
   "execution_count": 13,
   "id": "5f9b824f",
   "metadata": {
    "deletable": false,
    "editable": false,
    "id": "5f9b824f",
    "nbgrader": {
     "cell_type": "code",
     "checksum": "95d47fc2fc4c52f43987f446abb71cb2",
     "grade": true,
     "grade_id": "cell-1685a473a18d47f8",
     "locked": true,
     "points": 0,
     "schema_version": 3,
     "solution": false,
     "task": false
    }
   },
   "outputs": [],
   "source": [
    "with torch.no_grad():\n",
    "    emb = sgmodel.start_node_emb(torch.arange(len(G)))\n",
    "_, pred_labels, _ = k_means(emb, n_clusters=8)\n",
    "mi = mutual_info_score(labels, pred_labels)\n",
    "assert mi > 0.15"
   ]
  },
  {
   "cell_type": "markdown",
   "id": "ba459b3f",
   "metadata": {
    "id": "ba459b3f"
   },
   "source": [
    "Let us plot the t-SNE visualization of node embeddings."
   ]
  },
  {
   "cell_type": "code",
   "execution_count": 14,
   "id": "49b7eb41",
   "metadata": {
    "colab": {
     "base_uri": "https://localhost:8080/",
     "height": 499
    },
    "id": "49b7eb41",
    "outputId": "c6ec8e42-5805-4a5f-f4b4-f44791353596"
   },
   "outputs": [
    {
     "data": {
      "image/png": "[encoded data removed]",
      "text/plain": [
       "<Figure size 576x576 with 1 Axes>"
      ]
     },
     "metadata": {
      "needs_background": "light"
     },
     "output_type": "display_data"
    }
   ],
   "source": [
    "decomposition = TSNE(n_components=2)\n",
    "xy_emb = decomposition.fit_transform(emb)\n",
    "\n",
    "plt.figure(figsize=(8, 8))\n",
    "scatter = plt.scatter(xy_emb[:, 0], xy_emb[:, 1], c=labels, s=10, cmap=plt.cm.Set2)\n",
    "\n",
    "plt.legend(handles=scatter.legend_elements()[0], labels=unique)\n",
    "plt.title(f'MI: {mi:.4f}');"
   ]
  },
  {
   "cell_type": "markdown",
   "id": "0adfa1a2",
   "metadata": {
    "id": "0adfa1a2"
   },
   "source": [
    "### Task 2. Node2Vec (3 points)"
   ]
  },
  {
   "cell_type": "markdown",
   "id": "b48781ee",
   "metadata": {
    "id": "b48781ee"
   },
   "source": [
    "In this task, we will consider Node2Vec embedding algorithm. In Node2Vec, we learn a mapping of nodes to a low-dimensional space of features that maximizes the likelihood of preserving network neighborhoods of nodes. It is similar to DeepWalk, but uses *biased random walk procedure* which efficiently explores diverse neighborhoods. There are two parameters:\n",
    "\n",
    "* Return parameter $p$ controls the likelihood of immediately revisiting a node in the walk. Setting it to a high value ensures that we are less likely to sample an already-visited node in the following two steps.\n",
    "\n",
    "* In-out parameter $q$ allows the search to differentiate between “inward” and “outward” nodes. If $q > 1$, the random walk is biased towards nodes close to previous node. In contrast, if $q < 1$, the walk is more inclined to visit nodes which are further away from the previous node.\n",
    "\n",
    "<img src='https://raw.githubusercontent.com/netspractice/network-science/main/images/biased_random_walk.png' width=300>\n",
    "\n",
    "Consider that we just moved from the node $t$ to $v$ and now we want to decide on the next step so it evaluates the transition probabilities on edges ($v$, $x$) leading from $v$. Then the *unnormalized* probability is\n",
    "\n",
    "$$\\alpha = \\begin{cases}\n",
    "\\frac{1}{p} &  \\text{ if } d_{tx} = 0\\\\\n",
    "1 & \\text{ if } d_{tx} = 1\\\\\n",
    "\\frac{1}{q} & \\text{ if } d_{tx} = 2\\\\\n",
    "\\end{cases}$$\n",
    "\n",
    "where $d_{tx}$ is the shortest path distance between nodes $t$ and $x$. To compute the true probability, we need to normalize values so that the sum is 1."
   ]
  },
  {
   "cell_type": "markdown",
   "id": "2db9a3dd",
   "metadata": {
    "id": "2db9a3dd"
   },
   "source": [
    "Write a function `biased_random_walk` that takes a graph, node for which we start random walk, length of walk, parameters `p` and `q` and returns a list with random walks.\n",
    "\n",
    "*Hint: do not use `nx.shortest_path` to calcule shortest paths, it is too expensive. Look at the image above — we can explicitly calculate probabilities for all neighbors of $v$ using neighborhood of $t$*."
   ]
  },
  {
   "cell_type": "code",
   "execution_count": 15,
   "id": "e171df05",
   "metadata": {
    "deletable": false,
    "id": "e171df05",
    "nbgrader": {
     "cell_type": "code",
     "checksum": "248810a536b6d7a59e0b93a8937cf7a8",
     "grade": false,
     "grade_id": "cell-982226ce9aa30f91",
     "locked": false,
     "schema_version": 3,
     "solution": true,
     "task": false
    }
   },
   "outputs": [],
   "source": [
    "import random\n",
    "random.seed(7575)\n",
    "def biased_random_walk(G, node, length, p, q):\n",
    "    walk = []\n",
    "    #the first node\n",
    "    walk.append(node)\n",
    "    neighbor = list(nx.neighbors(G, node))\n",
    "    next_node = random.choice(list(nx.neighbors(G, node)))\n",
    "\n",
    "    for i in range(length - 1):\n",
    "      walk.append(next_node)\n",
    "      next_neighbor = list(nx.neighbors(G, next_node))\n",
    "      probabilities = []\n",
    "      for n in next_neighbor:\n",
    "        if n == node:\n",
    "          probabilities.append(1/p)\n",
    "        elif n in neighbor:\n",
    "          probabilities.append(1)\n",
    "        else:\n",
    "          probabilities.append(1/q)\n",
    "      probabilities = np.array(probabilities)\n",
    "      probabilities = probabilities / np.sum(probabilities)\n",
    "      node = next_node\n",
    "      next_node = np.random.choice(list(nx.neighbors(G, next_node)), replace = True, p=probabilities)\n",
    "      neighbor = next_neighbor\n",
    "    return walk"
   ]
  },
  {
   "cell_type": "code",
   "execution_count": 16,
   "id": "a34e23f0",
   "metadata": {
    "deletable": false,
    "editable": false,
    "id": "a34e23f0",
    "nbgrader": {
     "cell_type": "code",
     "checksum": "2435b88e56db99f5401d6df7bd8aac19",
     "grade": true,
     "grade_id": "cell-0404594e2e4226e7",
     "locked": true,
     "points": 1,
     "schema_version": 3,
     "solution": false,
     "task": false
    }
   },
   "outputs": [],
   "source": [
    "rwalks = biased_random_walk(G, 0, 10, 0.1, 0.5)\n",
    "assert len(rwalks) == 10\n",
    "rwalks = biased_random_walk(G, node=0, length=4, p=0.001, q=1000)\n",
    "assert rwalks[0] == rwalks[2]\n",
    "assert rwalks[1] == rwalks[3]\n",
    "rwalks = biased_random_walk(G, node=0, length=4, p=1000, q=0.001)\n",
    "assert len(set(rwalks)) >= 3"
   ]
  },
  {
   "cell_type": "markdown",
   "id": "66073985",
   "metadata": {
    "id": "66073985"
   },
   "source": [
    "Let us generate biased random walks."
   ]
  },
  {
   "cell_type": "code",
   "execution_count": 17,
   "id": "6d5dcc52",
   "metadata": {
    "id": "6d5dcc52"
   },
   "outputs": [],
   "source": [
    "def sample_biased_random_walks(G, walks_per_node, length, p, q):\n",
    "    walks = []\n",
    "    for node in tqdm(G.nodes, leave=False, desc='Sampling biased random walks'):\n",
    "        for _ in range(walks_per_node):\n",
    "            walk_from_node = biased_random_walk(G, node, length, p, q)\n",
    "            walks.append(walk_from_node)\n",
    "    return np.array(walks)"
   ]
  },
  {
   "cell_type": "code",
   "execution_count": 18,
   "id": "dc0478d8",
   "metadata": {
    "colab": {
     "base_uri": "https://localhost:8080/",
     "height": 136,
     "referenced_widgets": [
      "4b3b21330c3946c1a174465dc08d8087",
      "f68a77274ceb4e83a9e23eb64cdc7d2f",
      "e426aef8bb5b4e61ba8758ce7fa573eb",
      "4533b388a2aa490ea13623410ae043be",
      "15ef2da85966403ea010f24252241624",
      "65f1719536904f679d4b31b4282dfdd5",
      "6ad61718d1294136bb5c8dfa92f12a47",
      "631a83c893664e829b7887b98d6507d4",
      "389807371fdb4dddbcf2415e3e633538",
      "7bc35b0f52c44b08aa10d0ff54755401",
      "fc28deb5ea6d407699578ee033965805"
     ]
    },
    "id": "dc0478d8",
    "outputId": "2584fcfe-51e0-4aaa-ddd5-ca8deb7559d9"
   },
   "outputs": [
    {
     "data": {
      "application/vnd.jupyter.widget-view+json": {
       "model_id": "",
       "version_major": 2,
       "version_minor": 0
      },
      "text/plain": [
       "Sampling biased random walks:   0%|          | 0/3873 [00:00<?, ?it/s]"
      ]
     },
     "metadata": {},
     "output_type": "display_data"
    },
    {
     "data": {
      "text/plain": [
       "array([[   0,   32,    9,   74,  256],\n",
       "       [   0,   35,    0,   32,  189],\n",
       "       [   0,   36,  181,  185,   46],\n",
       "       ...,\n",
       "       [3872, 1980,  410,  119,  210],\n",
       "       [3872, 1495, 2116,  206, 2105],\n",
       "       [3872, 1980, 3872, 1980, 3178]])"
      ]
     },
     "execution_count": 18,
     "metadata": {},
     "output_type": "execute_result"
    }
   ],
   "source": [
    "walks_per_node = 5\n",
    "length = 5\n",
    "rwalks = sample_biased_random_walks(G, walks_per_node, length, p=0.25, q=0.25)\n",
    "rwalks"
   ]
  },
  {
   "cell_type": "markdown",
   "id": "11dea074",
   "metadata": {
    "id": "11dea074"
   },
   "source": [
    "Train the model."
   ]
  },
  {
   "cell_type": "code",
   "execution_count": 19,
   "id": "5d6bc7a1",
   "metadata": {
    "colab": {
     "base_uri": "https://localhost:8080/",
     "height": 297,
     "referenced_widgets": [
      "6985da9a64da435bb231f2210cc6791f",
      "7e6d9e91e76b42d2aaace614f7963a7c",
      "71b7c959fe6e4072a4b839801bc663d8",
      "d111f4875072446a900fa5626e4d91bd",
      "5239138e0d0e49afafab5631ad75ec3a",
      "6d187d48b6b848388952fe8f7dcc9966",
      "0acef93b04e544dc9151865da2e52fcd",
      "3a4b28b9b8774c938d42785ff5a60233",
      "1ec9d1cdeaf14b1c8a71681e92de8fe9",
      "2693102ee9cc42eba3cdd0ccdb10884b",
      "2da9ced8dc904e599ee003e286068842"
     ]
    },
    "id": "5d6bc7a1",
    "outputId": "3c20a448-764f-4ee7-8c11-1d36d38248c8"
   },
   "outputs": [
    {
     "data": {
      "application/vnd.jupyter.widget-view+json": {
       "model_id": "579cbdeb080a46d385c01919c6d064a5",
       "version_major": 2,
       "version_minor": 0
      },
      "text/plain": [
       "  0%|          | 0/50 [00:00<?, ?it/s]"
      ]
     },
     "metadata": {},
     "output_type": "display_data"
    },
    {
     "data": {
      "image/png": "[encoded data removed]",
      "text/plain": [
       "<Figure size 432x288 with 1 Axes>"
      ]
     },
     "metadata": {
      "needs_background": "light"
     },
     "output_type": "display_data"
    }
   ],
   "source": [
    "e_loss = []\n",
    "dataset = NodeContextDataset(rwalks, len(G), n_neg=5)\n",
    "dloader = DataLoader(dataset, batch_size=len(G))\n",
    "sgmodel = SkipGramNegativeSampling(n_nodes=len(G), dim=16)\n",
    "opt = Adam(sgmodel.parameters(), lr=0.1)\n",
    "for e in trange(50):\n",
    "    for start_nodes, pos_context, neg_context in dloader:\n",
    "        loss = sgmodel(start_nodes, pos_context, neg_context).sum(dim=1).mean()\n",
    "        opt.zero_grad()\n",
    "        loss.backward()\n",
    "        opt.step()\n",
    "    e_loss.append(loss.item())\n",
    "plt.plot(e_loss);"
   ]
  },
  {
   "cell_type": "code",
   "execution_count": 20,
   "id": "52d77af2",
   "metadata": {
    "deletable": false,
    "editable": false,
    "id": "52d77af2",
    "nbgrader": {
     "cell_type": "code",
     "checksum": "7005fe5ef24ada019070d2e796d90abd",
     "grade": true,
     "grade_id": "cell-d1d23ef4a88759f7",
     "locked": true,
     "points": 1,
     "schema_version": 3,
     "solution": false,
     "task": false
    }
   },
   "outputs": [],
   "source": [
    "with torch.no_grad():\n",
    "    emb = sgmodel.start_node_emb(torch.arange(len(G)))\n",
    "_, pred_labels, _ = k_means(emb, n_clusters=8)\n",
    "mi = mutual_info_score(labels, pred_labels)\n",
    "assert mi > 0.15"
   ]
  },
  {
   "cell_type": "markdown",
   "id": "40c59f8b",
   "metadata": {
    "id": "40c59f8b"
   },
   "source": [
    "Find the best $p$ and $q$. Write a function `grid_search_pq` that takes a graph, node labels and returns the best $p$ and $q$ by grid search in $\\{0.01, 0.2, 1, 2, 8\\}$. Sample biased random walks with 5 walks per node and the length 5. Evaluate the model by mutual information score between ground truth labels and k-means with 8 clusters. To pass time limits, calculate the best `p` and `q` and then rewrite the function as\n",
    "\n",
    "```python\n",
    "def grid_search_pq(graph):\n",
    "    return best_p, best_q\n",
    "    # your grid search implementation ...\n",
    "```"
   ]
  },
  {
   "cell_type": "code",
   "execution_count": 21,
   "id": "ec850b3e",
   "metadata": {
    "deletable": false,
    "id": "ec850b3e",
    "nbgrader": {
     "cell_type": "code",
     "checksum": "2381e148a50dffea83ac5792805d7c31",
     "grade": false,
     "grade_id": "cell-63bf0f1902240663",
     "locked": false,
     "schema_version": 3,
     "solution": true,
     "task": false
    }
   },
   "outputs": [],
   "source": [
    "def grid_search_pq(G, labels):\n",
    "    # YOUR CODE HERE\n",
    "    \n",
    "    return 8, 1"
   ]
  },
  {
   "cell_type": "code",
   "execution_count": 22,
   "id": "38008a01",
   "metadata": {
    "colab": {
     "base_uri": "https://localhost:8080/",
     "height": 49,
     "referenced_widgets": [
      "8e38ec14f0d848cebadc8d858c07d78e",
      "7bed684ceffa4837b18787d4a0ad811d",
      "1423f260b7144bb59d39ca6e0bb3238f",
      "ebce735551bb4a3d89cc8bd6039bbf90",
      "9964242d5ad94a189e3e63c4e7accc6c",
      "638fb368df6d42fc824ab2dbeef27817",
      "f5d843caf9bb4d3fa5b758e5564e2628",
      "ffbd6ce4d2ec436b808edd8a79eb5ac5",
      "3ff40b3cf7cf476aaacea6e23ccbe449",
      "cdc31d5ca00b462b9833642149ebc566",
      "6e479b6767914122868216a3601d8a67",
      "4907c6a262b34545b5bef6a1dd6d221b",
      "b5c3a5e35a9144e68d88540f1ac918a9",
      "8f8ab8cd959e42c48a9e46ddf757ac4b",
      "2814bba4e2a24462b90dbeafd55622f5",
      "48edb7bb5fa2448b8a8e1479b7531870",
      "a5c8b61165404fb19e046e68d073b867",
      "eb3d9404e1574e7bb6320692a0032d8d",
      "9c0138daffbb418a93cb3c041ce7deda",
      "a19cec5a811843c4aa50e9903a9860ef",
      "fcbd086ac66f40eeb578d7f2c3dc8dcf",
      "2595a643048b4fec8c65bf2b7c4d8899"
     ]
    },
    "deletable": false,
    "editable": false,
    "id": "38008a01",
    "nbgrader": {
     "cell_type": "code",
     "checksum": "8e792a5d6956322dfacef58e8503a355",
     "grade": true,
     "grade_id": "cell-6102dd78a7156238",
     "locked": true,
     "points": 1,
     "schema_version": 3,
     "solution": false,
     "task": false
    },
    "outputId": "2857324b-4936-494c-c875-77b131f98907"
   },
   "outputs": [
    {
     "data": {
      "application/vnd.jupyter.widget-view+json": {
       "model_id": "",
       "version_major": 2,
       "version_minor": 0
      },
      "text/plain": [
       "Sampling biased random walks:   0%|          | 0/3873 [00:00<?, ?it/s]"
      ]
     },
     "metadata": {},
     "output_type": "display_data"
    },
    {
     "data": {
      "application/vnd.jupyter.widget-view+json": {
       "model_id": "45a28d0696ee411891f232bb8972470c",
       "version_major": 2,
       "version_minor": 0
      },
      "text/plain": [
       "  0%|          | 0/50 [00:00<?, ?it/s]"
      ]
     },
     "metadata": {},
     "output_type": "display_data"
    }
   ],
   "source": [
    "best_p, best_q = grid_search_pq(G, labels)\n",
    "rwalks = sample_biased_random_walks(G, 5, 5, best_p, best_q)\n",
    "dataset = NodeContextDataset(rwalks, len(G), n_neg=5)\n",
    "dloader = DataLoader(dataset, batch_size=len(G))\n",
    "sgmodel = SkipGramNegativeSampling(n_nodes=len(G), dim=16)\n",
    "opt = Adam(sgmodel.parameters(), lr=0.1)\n",
    "dloader = DataLoader(dataset, batch_size=len(G))\n",
    "for epoch in trange(50):\n",
    "    for start_nodes, pos_context, neg_context in dloader:\n",
    "        loss = sgmodel(start_nodes, pos_context, neg_context).sum(dim=1).mean()\n",
    "        opt.zero_grad()\n",
    "        loss.backward()\n",
    "        opt.step()\n",
    "with torch.no_grad():\n",
    "    emb = sgmodel.start_node_emb(torch.arange(len(G)))\n",
    "_, pred_labels, _ = k_means(emb, n_clusters=8)\n",
    "mi = mutual_info_score(labels, pred_labels)\n",
    "assert mi > 0.21"
   ]
  },
  {
   "cell_type": "markdown",
   "id": "7e4a9967",
   "metadata": {
    "id": "7e4a9967"
   },
   "source": [
    "Plot t-SNE visualization of node embeddings."
   ]
  },
  {
   "cell_type": "code",
   "execution_count": 23,
   "id": "a02e4f55",
   "metadata": {
    "colab": {
     "base_uri": "https://localhost:8080/",
     "height": 499
    },
    "id": "a02e4f55",
    "outputId": "93d4e79b-6736-46cf-bea2-eace3b20a02c"
   },
   "outputs": [
    {
     "data": {
      "image/png": "[encoded data removed]",
      "text/plain": [
       "<Figure size 576x576 with 1 Axes>"
      ]
     },
     "metadata": {
      "needs_background": "light"
     },
     "output_type": "display_data"
    }
   ],
   "source": [
    "decomposition = TSNE(n_components=2)\n",
    "xy_emb = decomposition.fit_transform(emb)\n",
    "\n",
    "plt.figure(figsize=(8, 8))\n",
    "scatter = plt.scatter(xy_emb[:, 0], xy_emb[:, 1], c=labels, s=10, cmap=plt.cm.Set2)\n",
    "\n",
    "plt.legend(handles=scatter.legend_elements()[0], labels=unique)\n",
    "plt.title(f'MI: {mi:.4f}');"
   ]
  },
  {
   "cell_type": "markdown",
   "id": "c3e6f72b",
   "metadata": {
    "id": "c3e6f72b"
   },
   "source": [
    "### Task 3. Hierarchical softmax (4 points)"
   ]
  },
  {
   "cell_type": "markdown",
   "id": "c324da67",
   "metadata": {
    "id": "c324da67"
   },
   "source": [
    "Hierarchical softmax is an alternative way to approximate softmax in DeepWalk and similar models such as Walklets, Node2Vec. Remind the regular loss function with softmax:\n",
    "\n",
    "$$\\mathcal L = - \\frac{1}{|V|\\times N} \\sum_{i=1}^{|V|\\times N} \\sum_{j=1}^L \\log P(j|i) = - \\frac{1}{|V|\\times N} \\sum_{i=1}^{|V|\\times N} \\sum_{j=1}^L \\log \\frac{\\exp(v_i^\\top u_j)}{\\sum_{k=1}^{|V|}\\exp(v_i^\\top u_k)}$$\n",
    "\n",
    "We have observed that computing $\\sum_{k=1}^{|V|}\\exp(v_i^\\top u_k)$ is expensive in a large network. Indeed, it takes $O(|V|)$ since we need to compute $v_i^\\top u_k$ for each $k$. \n",
    "\n",
    "Hierarchical softmax allows to approximate softmax by propagation probabilities in a binary tree where leaves are nodes in the original network. Consider a simple network on 6 nodes and the corresponding binary tree.\n",
    "\n",
    "<img src=\"https://raw.githubusercontent.com/netspractice/network-science/main/images/hs_btree.png\" width=600>\n",
    "\n",
    "We observe that leaves correspond to nodes in the network: the leaf 5 corresponds to the node 0, the leaf 6 corresponds to the node 1 and so on. Let us call all other white nodes in the binary tree units.\n",
    "\n",
    "Write a function `get_binary_tree` that takes number of leaves and returns a binary tree.\n",
    "\n",
    "_Hint: create a binary tree by `nx.balanced_tree(2, depth, nx.DiGraph)` and drop extra leaves. The depth of the tree can be calculated as $\\lceil \\log_2 |V| \\rceil$._"
   ]
  },
  {
   "cell_type": "code",
   "execution_count": 24,
   "id": "b8647ca0",
   "metadata": {
    "deletable": false,
    "id": "b8647ca0",
    "nbgrader": {
     "cell_type": "code",
     "checksum": "01c8b6fa4bd256a22b699e36c1556bbd",
     "grade": false,
     "grade_id": "cell-fa6e506ce6741f45",
     "locked": false,
     "schema_version": 3,
     "solution": true,
     "task": false
    }
   },
   "outputs": [],
   "source": [
    "def get_binary_tree(n_leaves):\n",
    "    depth = int(np.ceil(np.log2(n_leaves)))\n",
    "    G = nx.balanced_tree(2, depth, nx.DiGraph)\n",
    "    actualNLeaves = 2**depth\n",
    "    last = 2**(depth + 1) - 2\n",
    "    while actualNLeaves > n_leaves:\n",
    "        G.remove_node(last)\n",
    "        G.remove_node(last - 1)\n",
    "        actualNLeaves -= 1\n",
    "        last -= 2\n",
    "    return G"
   ]
  },
  {
   "cell_type": "code",
   "execution_count": 25,
   "id": "76a0b83e",
   "metadata": {
    "deletable": false,
    "editable": false,
    "id": "76a0b83e",
    "nbgrader": {
     "cell_type": "code",
     "checksum": "8fcd40389d09de393cba575495e2513d",
     "grade": true,
     "grade_id": "cell-12931d335d97bb1c",
     "locked": true,
     "points": 1,
     "schema_version": 3,
     "solution": false,
     "task": false
    }
   },
   "outputs": [],
   "source": [
    "btree = get_binary_tree(n_leaves=len(G))\n",
    "leaves = [n for n in btree.nodes if btree.degree[n] == 1]\n",
    "assert len(leaves) == len(G)\n",
    "assert list(btree.nodes)[0] == 0\n",
    "assert nx.is_weakly_connected(btree)\n",
    "assert btree.in_degree[0] == 0\n",
    "assert np.all([btree.in_degree[n] == 1 for n in range(1, len(btree))])\n",
    "assert np.all([btree.out_degree[n] == 2 for n in range(len(btree) - len(leaves))])\n",
    "assert np.all([btree.out_degree[n] == 0 for n in range(len(btree) - len(leaves), len(btree))])"
   ]
  },
  {
   "cell_type": "markdown",
   "id": "66cccad2",
   "metadata": {
    "id": "66cccad2"
   },
   "source": [
    "If we assign a probability conditioned by the start node for each unit, we can calculate a probability of each context node as the product of probabilities of all units in the path from the root unit to a corresponding leaf taking $p_i$ if we go to the left and $1 - p_i$ if we go to the right from the unit $i$. For example, consider a path from the root unit to the context node 5 (leaf 10):\n",
    "\n",
    "<img src=\"https://raw.githubusercontent.com/netspractice/network-science/main/images/hs_btree_proba.png\" width=600>\n",
    "\n",
    "$$P(5|i) = p_0\\cdot (1-p_1) \\cdot (1-p_4)$$\n",
    "\n",
    "We can observe following thigs:\n",
    "* Each unit divides probability space into two subspace, so that probabilities on leaves are summed up to 1.\n",
    "* We make only 3 multiplucations instead of 6 summations in regular softmax. Indeed, the number of multiplications is equal to the depth of the binary tree $O(\\log_2|V|)$. The number of summations in regular softmax is $O(|V|)$. That is, the cost of calculating probabilities for all context nodes is reduced from $O(|V|^2)$ to $O(|V|\\log_2|V|)$.\n",
    "\n",
    "We condition probabilities by the start node as follows:\n",
    "\n",
    "$$p_j(i) = \\sigma(v_i^\\top u_j)$$\n",
    "\n",
    "where $v_i$ is embedding of the start node $i$ and $u_j$ is embedding of the unit $j$. Thus, we have no embeddings for context nodes in this model. Note that $1-\\sigma(v_i^\\top u_j)$ can be substituted to $\\sigma(-v_i^\\top u_j)$. Let us call a sign under the sigmoid a turn $t_k$: $-1$ if we go to the left and $1$ if we go to the right. Thus the probability of co-occurance of the context node 5 and the start node, say, 1 is\n",
    "\n",
    "$$P(5|1) = \\sigma(t_0 v_1^\\top u_0) \\cdot \\sigma(t_1 v_1^\\top u_1) \\cdot \\sigma(t_2 v_1^\\top u_4)$$\n",
    "\n",
    "where $t_0=1$, $t_1=-1$, $t_2=-1$. Our objective is to maximize the probability of co-occurance of start nodes and context nodes by minimizing the negative log-likelihood, thus the loss function is turned out to\n",
    "\n",
    "$$\\mathcal L = - \\frac{1}{|V|\\times N} \\sum_{i=1}^{|V|\\times N} \\sum_{j=1}^L \\sum_{k=1}^K\\log \\sigma(t_{[jk]} v_i^\\top u_{[jk]})$$\n",
    "\n",
    "where $K$ is the path length from the root to the leaf excluding the leaf. Subscript $[jk]$ means the index corresponded to k-th step of the path to j-th context node. Note that the path length depends on a leaf, it makes calculating loss in mini-batch training inconvenient, so let us set $K$ as the depth of the tree and multiply the loss by _training mask_ $z_{jk}$: $0$ for all $k$ that greater than path length and $1$ otherwise. The final loss function is\n",
    "\n",
    "$$\\mathcal L = - \\frac{1}{|V|\\times N} \\sum_{i=1}^{|V|\\times N} \\sum_{j=1}^L \\sum_{k=1}^K\\log \\sigma(t_{[jk]} v_i^\\top u_{[jk]}) z_{[jk]}$$"
   ]
  },
  {
   "cell_type": "markdown",
   "id": "24556f72",
   "metadata": {
    "id": "24556f72"
   },
   "source": [
    "Let us create a dataset for computing a such loss function. Write a class `NodePathDataset`. \n",
    "\n",
    "Function `__init__` takes random walks, binary tree, depth of the binary tree and finds paths for each leaf.\n",
    "\n",
    "Function `__len__` returns the number of random walks.\n",
    "\n",
    "Function `__getitem__` takes an index of random walk and returns a tuple:\n",
    "\n",
    "* start node, torch.int64\n",
    "* context nodes, torch.tensor of the shape (number of context nodes)\n",
    "* paths to the context nodes excluding a leaf: torch.tensor of the shape (number of context nodes, depth). Padded with zeros if the depth is greater than the path length.\n",
    "* turns on the paths: torch.tensor of the shape (number of context nodes, depth). Padded with zeros if the depth is greater than the path length. Define the left turn as a link to the even unit.\n",
    "* training mask on the paths: torch.tensor of the shape (number of context nodes, depth)\n",
    "\n",
    "_Hint: use `nx.shortest_path(btree, 0, n)` to find a path from the root unit to the leaf `n` in the tree._"
   ]
  },
  {
   "cell_type": "code",
   "execution_count": 26,
   "id": "10b5f08f",
   "metadata": {
    "deletable": false,
    "id": "10b5f08f",
    "nbgrader": {
     "cell_type": "code",
     "checksum": "c0cc9935a2395e5bc227fbeb197535d8",
     "grade": false,
     "grade_id": "cell-48de35ab799a5afd",
     "locked": false,
     "schema_version": 3,
     "solution": true,
     "task": false
    }
   },
   "outputs": [],
   "source": [
    "class NodePathDataset(Dataset):\n",
    "    def __init__(self, rwalks, btree, depth):\n",
    "        self.start_nodes = torch.tensor(rwalks[:, 0])\n",
    "        self.context = torch.tensor(rwalks[:, 1:])\n",
    "        self.paths = []\n",
    "        self.turns = []\n",
    "        self.masks = []\n",
    "\n",
    "        leaves = [g for g in btree.nodes if btree.degree[g] == 1]\n",
    "        for i in range(len(G)):\n",
    "            shortest_path = nx.shortest_path(btree, 0, leaves[i])\n",
    "            turns = []\n",
    "            for i in range(len(shortest_path) - 1):\n",
    "                if shortest_path[i + 1] % 2 == 0:\n",
    "                    turns.append(1)\n",
    "                else:\n",
    "                    turns.append(-1)\n",
    "            shortest_path = shortest_path[:-1]  \n",
    "            mask = [1] * len(shortest_path)\n",
    "            if len(shortest_path) < depth:\n",
    "                n_extra = depth - len(shortest_path)\n",
    "                shortest_path = shortest_path + [0] * n_extra\n",
    "                mask = mask + [0] * n_extra\n",
    "                turns = turns + [0] * n_extra\n",
    "            self.paths.append(shortest_path)\n",
    "            self.turns.append(turns) \n",
    "            self.masks.append(mask)\n",
    "\n",
    "        self.paths = torch.tensor(self.paths)\n",
    "        self.turns = torch.tensor(self.turns)\n",
    "        self.masks = torch.tensor(self.masks)\n",
    "\n",
    "    def __len__(self):\n",
    "        return len(self.start_nodes)\n",
    "\n",
    "    def __getitem__(self, idx):\n",
    "        return (\n",
    "            self.start_nodes[idx], \n",
    "            self.context[idx], \n",
    "            self.paths[self.context[idx]], \n",
    "            self.turns[self.context[idx]], \n",
    "            self.masks[self.context[idx]]\n",
    "        )"
   ]
  },
  {
   "cell_type": "code",
   "execution_count": 27,
   "id": "a3f3eca1",
   "metadata": {
    "deletable": false,
    "editable": false,
    "id": "a3f3eca1",
    "nbgrader": {
     "cell_type": "code",
     "checksum": "d8ce7f617444f4b2c156cc851907e46d",
     "grade": true,
     "grade_id": "cell-41adebff43c8f34d",
     "locked": true,
     "points": 1,
     "schema_version": 3,
     "solution": false,
     "task": false
    }
   },
   "outputs": [],
   "source": [
    "depth = 12\n",
    "dataset = NodePathDataset(rwalks, btree, depth)\n",
    "start_node, context, paths, turns, masks = dataset[0]\n",
    "assert start_node.shape == ()\n",
    "assert context.shape == (4,)\n",
    "assert paths.shape == turns.shape == masks.shape == (4, 12)\n",
    "assert start_node == 0\n",
    "leaves = [n for n in btree.nodes if btree.degree[n] == 1]\n",
    "shortest_path = nx.shortest_path(btree, 0, leaves[context[1]])[:-1]\n",
    "mask = [1] * len(shortest_path)\n",
    "if len(shortest_path) < depth:\n",
    "    n_extra_units = depth - len(shortest_path)\n",
    "    shortest_path = shortest_path + [0] * n_extra_units\n",
    "    mask = mask + [0] * n_extra_units\n",
    "assert np.all(shortest_path == paths[1].numpy())\n",
    "assert np.all(mask == masks[1].numpy())"
   ]
  },
  {
   "cell_type": "code",
   "execution_count": 28,
   "id": "b7907134",
   "metadata": {
    "colab": {
     "base_uri": "https://localhost:8080/"
    },
    "id": "b7907134",
    "outputId": "5bd8fcea-be44-460c-b94d-36994c2032b8"
   },
   "outputs": [
    {
     "data": {
      "text/plain": [
       "(torch.Size([2]),\n",
       " torch.Size([2, 4]),\n",
       " torch.Size([2, 4, 12]),\n",
       " torch.Size([2, 4, 12]),\n",
       " torch.Size([2, 4, 12]))"
      ]
     },
     "execution_count": 28,
     "metadata": {},
     "output_type": "execute_result"
    }
   ],
   "source": [
    "dloader = DataLoader(dataset, batch_size=2)\n",
    "for start_nodes, context, paths, turns, masks in dloader:\n",
    "    break\n",
    "start_nodes.shape, context.shape, paths.shape, turns.shape, masks.shape"
   ]
  },
  {
   "cell_type": "markdown",
   "id": "6872488a",
   "metadata": {
    "id": "6872488a"
   },
   "source": [
    "Write a function `hierarchical_softmax_loss` that takes vectors $v$, $u$ and returns the hierarchical softmax loss before reduction $\\frac{1}{|V|\\times N} \\sum_{i=1}^{|V|\\times N} \\sum_{j=1}^L$.\n",
    "\n",
    "_Remark: to prevent $-\\infty$ in log, add $\\varepsilon=1^{-6}$ as follows `torch.log(x + 1e-6)`_"
   ]
  },
  {
   "cell_type": "code",
   "execution_count": 29,
   "id": "0c95d02f",
   "metadata": {
    "deletable": false,
    "id": "0c95d02f",
    "nbgrader": {
     "cell_type": "code",
     "checksum": "2d24227f9a5b502d535b0beff12e17f1",
     "grade": false,
     "grade_id": "cell-5580ea00c3649ace",
     "locked": false,
     "schema_version": 3,
     "solution": true,
     "task": false
    }
   },
   "outputs": [],
   "source": [
    "def hierarchical_softmax_loss(v, u, turns, masks):\n",
    "    loss = torch.empty(turns.shape[0], turns.shape[1])\n",
    "    for i in range (turns.shape[0]):\n",
    "        for j in range(turns.shape[1]):\n",
    "            loss[i][j] = torch.sum(-torch.log(torch.sigmoid(torch.tensor([v[i] @ u[i, j, k] * turns[i, j, k] for k in range(turns.shape[2])])) + 1e-6) * masks[i, j])\n",
    "    return loss.requires_grad_()"
   ]
  },
  {
   "cell_type": "code",
   "execution_count": 30,
   "id": "1a3cc875",
   "metadata": {
    "colab": {
     "base_uri": "https://localhost:8080/",
     "height": 317
    },
    "deletable": false,
    "editable": false,
    "id": "1a3cc875",
    "nbgrader": {
     "cell_type": "code",
     "checksum": "77571345c5f803b3d52b802c082392e0",
     "grade": true,
     "grade_id": "cell-8c8320b2c7c030eb",
     "locked": true,
     "points": 1,
     "schema_version": 3,
     "solution": false,
     "task": false
    },
    "outputId": "5cf7ffdb-585f-4b45-ec62-503f1bf089ef"
   },
   "outputs": [],
   "source": [
    "np.random.seed(0)\n",
    "start_node_emb = torch.randn(len(G), 16)\n",
    "path_emb = torch.randn(len(G) - 1, 16)\n",
    "v = start_node_emb[start_nodes]\n",
    "u = path_emb[paths]\n",
    "loss = hierarchical_softmax_loss(v, u, turns, masks)\n",
    "assert loss.shape == (2, 4)\n",
    "l = -torch.log(torch.sigmoid(torch.tensor([v[0] @ u[0, 0, i] * turns[0, 0, i] for i in range(12)])) + 1e-6) * masks[0, 0]\n",
    "assert round(l.sum().item(), 2) == round(loss[0, 0].item(), 2)\n"
   ]
  },
  {
   "cell_type": "markdown",
   "id": "7d24a924",
   "metadata": {
    "id": "7d24a924"
   },
   "source": [
    "Here is SkipGram model with hierarchical softmax. The number of vectors in `path_emb` is `n_nodes - 1`, since it can be shown that the number of units is equal to $|V|-1$."
   ]
  },
  {
   "cell_type": "code",
   "execution_count": 31,
   "id": "e7fe472e",
   "metadata": {
    "deletable": false,
    "editable": false,
    "id": "e7fe472e",
    "nbgrader": {
     "cell_type": "code",
     "checksum": "8535c3166b0b7c5bc2e57ab2960ddc75",
     "grade": false,
     "grade_id": "cell-39c948726656b5ba",
     "locked": true,
     "schema_version": 3,
     "solution": false,
     "task": false
    }
   },
   "outputs": [],
   "source": [
    "class SkipGramHierarchicalSoftmax(nn.Module):\n",
    "    def __init__(self, n_nodes, dim):\n",
    "        super().__init__()\n",
    "        self.start_node_emb = nn.Embedding(n_nodes, dim)\n",
    "        self.path_emb = nn.Embedding(n_nodes - 1, dim)\n",
    "    def forward(self, start_nodes, paths, turns, masks):\n",
    "        v = self.start_node_emb(start_nodes)\n",
    "        u = self.path_emb(paths)\n",
    "        loss = hierarchical_softmax_loss(v, u, turns, masks)\n",
    "        return loss"
   ]
  },
  {
   "cell_type": "markdown",
   "id": "730249b3",
   "metadata": {
    "id": "730249b3"
   },
   "source": [
    "Train the model using Adam optimizer."
   ]
  },
  {
   "cell_type": "code",
   "execution_count": 32,
   "id": "51bdc9ea",
   "metadata": {
    "colab": {
     "base_uri": "https://localhost:8080/",
     "height": 373,
     "referenced_widgets": [
      "916b327e4eb448a5aa3bed897f05b1d6",
      "154ce1a39d0f401eb656d38694a82af0",
      "24e9a48604d749bd9fba62566c3be4ee",
      "5c5c66e773f649baa8e2a1571a23d6ef",
      "885fcf72820f465193b80046db15e8e6",
      "97d3ce3e402a490491e0df34b7899411",
      "9ac017d104414680acffdc4aa1b4ae95",
      "2fa87fdfa84a4e3d8d9ad0d002ad1bcf",
      "18fe8ac807634bf59e6a4b8134e501d9",
      "52ce2e791e88499daef0389bd35a24e2",
      "572c14f1ab34488cac8f16a6cd744546"
     ]
    },
    "id": "51bdc9ea",
    "outputId": "730ce8c0-1857-47ce-d126-ee9d6dc079b1"
   },
   "outputs": [
    {
     "data": {
      "application/vnd.jupyter.widget-view+json": {
       "model_id": "4622d23971004c7e89a61853550be5bf",
       "version_major": 2,
       "version_minor": 0
      },
      "text/plain": [
       "  0%|          | 0/50 [00:00<?, ?it/s]"
      ]
     },
     "metadata": {},
     "output_type": "display_data"
    },
    {
     "ename": "KeyboardInterrupt",
     "evalue": "",
     "output_type": "error",
     "traceback": [
      "\u001b[0;31m---------------------------------------------------------------------------\u001b[0m",
      "\u001b[0;31mKeyboardInterrupt\u001b[0m                         Traceback (most recent call last)",
      "Input \u001b[0;32mIn [32]\u001b[0m, in \u001b[0;36m<module>\u001b[0;34m\u001b[0m\n\u001b[1;32m      5\u001b[0m \u001b[38;5;28;01mfor\u001b[39;00m epoch \u001b[38;5;129;01min\u001b[39;00m trange(\u001b[38;5;241m50\u001b[39m):\n\u001b[1;32m      6\u001b[0m     \u001b[38;5;28;01mfor\u001b[39;00m start_nodes, context, paths, turns, masks \u001b[38;5;129;01min\u001b[39;00m dloader:\n\u001b[0;32m----> 7\u001b[0m         loss \u001b[38;5;241m=\u001b[39m \u001b[43msgmodel\u001b[49m\u001b[43m(\u001b[49m\u001b[43mstart_nodes\u001b[49m\u001b[43m,\u001b[49m\u001b[43m \u001b[49m\u001b[43mpaths\u001b[49m\u001b[43m,\u001b[49m\u001b[43m \u001b[49m\u001b[43mturns\u001b[49m\u001b[43m,\u001b[49m\u001b[43m \u001b[49m\u001b[43mmasks\u001b[49m\u001b[43m)\u001b[49m\u001b[38;5;241m.\u001b[39msum(dim\u001b[38;5;241m=\u001b[39m\u001b[38;5;241m1\u001b[39m)\u001b[38;5;241m.\u001b[39mmean()\n\u001b[1;32m      8\u001b[0m         opt\u001b[38;5;241m.\u001b[39mzero_grad()\n\u001b[1;32m      9\u001b[0m         loss\u001b[38;5;241m.\u001b[39mbackward()\n",
      "File \u001b[0;32m/Library/Frameworks/Python.framework/Versions/3.9/lib/python3.9/site-packages/torch/nn/modules/module.py:1110\u001b[0m, in \u001b[0;36mModule._call_impl\u001b[0;34m(self, *input, **kwargs)\u001b[0m\n\u001b[1;32m   1106\u001b[0m \u001b[38;5;66;03m# If we don't have any hooks, we want to skip the rest of the logic in\u001b[39;00m\n\u001b[1;32m   1107\u001b[0m \u001b[38;5;66;03m# this function, and just call forward.\u001b[39;00m\n\u001b[1;32m   1108\u001b[0m \u001b[38;5;28;01mif\u001b[39;00m \u001b[38;5;129;01mnot\u001b[39;00m (\u001b[38;5;28mself\u001b[39m\u001b[38;5;241m.\u001b[39m_backward_hooks \u001b[38;5;129;01mor\u001b[39;00m \u001b[38;5;28mself\u001b[39m\u001b[38;5;241m.\u001b[39m_forward_hooks \u001b[38;5;129;01mor\u001b[39;00m \u001b[38;5;28mself\u001b[39m\u001b[38;5;241m.\u001b[39m_forward_pre_hooks \u001b[38;5;129;01mor\u001b[39;00m _global_backward_hooks\n\u001b[1;32m   1109\u001b[0m         \u001b[38;5;129;01mor\u001b[39;00m _global_forward_hooks \u001b[38;5;129;01mor\u001b[39;00m _global_forward_pre_hooks):\n\u001b[0;32m-> 1110\u001b[0m     \u001b[38;5;28;01mreturn\u001b[39;00m \u001b[43mforward_call\u001b[49m\u001b[43m(\u001b[49m\u001b[38;5;241;43m*\u001b[39;49m\u001b[38;5;28;43minput\u001b[39;49m\u001b[43m,\u001b[49m\u001b[43m \u001b[49m\u001b[38;5;241;43m*\u001b[39;49m\u001b[38;5;241;43m*\u001b[39;49m\u001b[43mkwargs\u001b[49m\u001b[43m)\u001b[49m\n\u001b[1;32m   1111\u001b[0m \u001b[38;5;66;03m# Do not call functions when jit is used\u001b[39;00m\n\u001b[1;32m   1112\u001b[0m full_backward_hooks, non_full_backward_hooks \u001b[38;5;241m=\u001b[39m [], []\n",
      "Input \u001b[0;32mIn [31]\u001b[0m, in \u001b[0;36mSkipGramHierarchicalSoftmax.forward\u001b[0;34m(self, start_nodes, paths, turns, masks)\u001b[0m\n\u001b[1;32m      7\u001b[0m v \u001b[38;5;241m=\u001b[39m \u001b[38;5;28mself\u001b[39m\u001b[38;5;241m.\u001b[39mstart_node_emb(start_nodes)\n\u001b[1;32m      8\u001b[0m u \u001b[38;5;241m=\u001b[39m \u001b[38;5;28mself\u001b[39m\u001b[38;5;241m.\u001b[39mpath_emb(paths)\n\u001b[0;32m----> 9\u001b[0m loss \u001b[38;5;241m=\u001b[39m \u001b[43mhierarchical_softmax_loss\u001b[49m\u001b[43m(\u001b[49m\u001b[43mv\u001b[49m\u001b[43m,\u001b[49m\u001b[43m \u001b[49m\u001b[43mu\u001b[49m\u001b[43m,\u001b[49m\u001b[43m \u001b[49m\u001b[43mturns\u001b[49m\u001b[43m,\u001b[49m\u001b[43m \u001b[49m\u001b[43mmasks\u001b[49m\u001b[43m)\u001b[49m\n\u001b[1;32m     10\u001b[0m \u001b[38;5;28;01mreturn\u001b[39;00m loss\n",
      "Input \u001b[0;32mIn [29]\u001b[0m, in \u001b[0;36mhierarchical_softmax_loss\u001b[0;34m(v, u, turns, masks)\u001b[0m\n\u001b[1;32m      3\u001b[0m \u001b[38;5;28;01mfor\u001b[39;00m i \u001b[38;5;129;01min\u001b[39;00m \u001b[38;5;28mrange\u001b[39m (turns\u001b[38;5;241m.\u001b[39mshape[\u001b[38;5;241m0\u001b[39m]):\n\u001b[1;32m      4\u001b[0m     \u001b[38;5;28;01mfor\u001b[39;00m j \u001b[38;5;129;01min\u001b[39;00m \u001b[38;5;28mrange\u001b[39m(turns\u001b[38;5;241m.\u001b[39mshape[\u001b[38;5;241m1\u001b[39m]):\n\u001b[0;32m----> 5\u001b[0m         loss[i][j] \u001b[38;5;241m=\u001b[39m torch\u001b[38;5;241m.\u001b[39msum(\u001b[38;5;241;43m-\u001b[39;49m\u001b[43mtorch\u001b[49m\u001b[38;5;241;43m.\u001b[39;49m\u001b[43mlog\u001b[49m\u001b[43m(\u001b[49m\u001b[43mtorch\u001b[49m\u001b[38;5;241;43m.\u001b[39;49m\u001b[43msigmoid\u001b[49m\u001b[43m(\u001b[49m\u001b[43mtorch\u001b[49m\u001b[38;5;241;43m.\u001b[39;49m\u001b[43mtensor\u001b[49m\u001b[43m(\u001b[49m\u001b[43m[\u001b[49m\u001b[43mv\u001b[49m\u001b[43m[\u001b[49m\u001b[43mi\u001b[49m\u001b[43m]\u001b[49m\u001b[43m \u001b[49m\u001b[38;5;241;43m@\u001b[39;49m\u001b[43m \u001b[49m\u001b[43mu\u001b[49m\u001b[43m[\u001b[49m\u001b[43mi\u001b[49m\u001b[43m,\u001b[49m\u001b[43m \u001b[49m\u001b[43mj\u001b[49m\u001b[43m,\u001b[49m\u001b[43m \u001b[49m\u001b[43mk\u001b[49m\u001b[43m]\u001b[49m\u001b[43m \u001b[49m\u001b[38;5;241;43m*\u001b[39;49m\u001b[43m \u001b[49m\u001b[43mturns\u001b[49m\u001b[43m[\u001b[49m\u001b[43mi\u001b[49m\u001b[43m,\u001b[49m\u001b[43m \u001b[49m\u001b[43mj\u001b[49m\u001b[43m,\u001b[49m\u001b[43m \u001b[49m\u001b[43mk\u001b[49m\u001b[43m]\u001b[49m\u001b[43m \u001b[49m\u001b[38;5;28;43;01mfor\u001b[39;49;00m\u001b[43m \u001b[49m\u001b[43mk\u001b[49m\u001b[43m \u001b[49m\u001b[38;5;129;43;01min\u001b[39;49;00m\u001b[43m \u001b[49m\u001b[38;5;28;43mrange\u001b[39;49m\u001b[43m(\u001b[49m\u001b[43mturns\u001b[49m\u001b[38;5;241;43m.\u001b[39;49m\u001b[43mshape\u001b[49m\u001b[43m[\u001b[49m\u001b[38;5;241;43m2\u001b[39;49m\u001b[43m]\u001b[49m\u001b[43m)\u001b[49m\u001b[43m]\u001b[49m\u001b[43m)\u001b[49m\u001b[43m)\u001b[49m\u001b[43m \u001b[49m\u001b[38;5;241;43m+\u001b[39;49m\u001b[43m \u001b[49m\u001b[38;5;241;43m1e-6\u001b[39;49m\u001b[43m)\u001b[49m\u001b[43m \u001b[49m\u001b[38;5;241;43m*\u001b[39;49m\u001b[43m \u001b[49m\u001b[43mmasks\u001b[49m\u001b[43m[\u001b[49m\u001b[43mi\u001b[49m\u001b[43m,\u001b[49m\u001b[43m \u001b[49m\u001b[43mj\u001b[49m\u001b[43m]\u001b[49m)\n\u001b[1;32m      7\u001b[0m \u001b[38;5;28;01mreturn\u001b[39;00m loss\u001b[38;5;241m.\u001b[39mrequires_grad_()\n",
      "\u001b[0;31mKeyboardInterrupt\u001b[0m: "
     ]
    }
   ],
   "source": [
    "sgmodel = SkipGramHierarchicalSoftmax(n_nodes=len(G), dim=16)\n",
    "epoch_loss = []\n",
    "opt = Adam(sgmodel.parameters(), lr=0.1)\n",
    "dloader = DataLoader(dataset, batch_size=len(G))\n",
    "for epoch in trange(50):\n",
    "    for start_nodes, context, paths, turns, masks in dloader:\n",
    "        loss = sgmodel(start_nodes, paths, turns, masks).sum(dim=1).mean()\n",
    "        opt.zero_grad()\n",
    "        loss.backward()\n",
    "        opt.step()\n",
    "    epoch_loss.append(loss.item())\n",
    "plt.plot(epoch_loss);"
   ]
  },
  {
   "cell_type": "markdown",
   "id": "57ecd6d2",
   "metadata": {
    "id": "57ecd6d2"
   },
   "source": [
    "Evaluate the model by mutual information between ground truth labels and cluster indices."
   ]
  },
  {
   "cell_type": "code",
   "execution_count": null,
   "id": "0e737cab",
   "metadata": {
    "colab": {
     "base_uri": "https://localhost:8080/",
     "height": 198
    },
    "deletable": false,
    "editable": false,
    "id": "0e737cab",
    "nbgrader": {
     "cell_type": "code",
     "checksum": "163de70b349c978e9503141a12c90a5e",
     "grade": true,
     "grade_id": "cell-736c8f9bf1ffccd8",
     "locked": true,
     "points": 1,
     "schema_version": 3,
     "solution": false,
     "task": false
    },
    "outputId": "5a0cacf2-b2f4-466a-b177-ab72be05aa63"
   },
   "outputs": [],
   "source": [
    "with torch.no_grad():\n",
    "    emb = sgmodel.start_node_emb(torch.arange(len(G)))\n",
    "_, pred_labels, _ = k_means(emb, n_clusters=8)\n",
    "mi = mutual_info_score(labels, pred_labels)\n",
    "assert mi > 0.15"
   ]
  },
  {
   "cell_type": "markdown",
   "id": "aa516657",
   "metadata": {
    "id": "aa516657"
   },
   "source": [
    "Plot t-SNE visualization of node embeddings."
   ]
  },
  {
   "cell_type": "code",
   "execution_count": null,
   "id": "301ff014",
   "metadata": {
    "colab": {
     "base_uri": "https://localhost:8080/",
     "height": 392
    },
    "id": "301ff014",
    "outputId": "d7dabcb5-14a4-484a-c3b8-d028c43b4531"
   },
   "outputs": [],
   "source": [
    "decomposition = TSNE(n_components=2)\n",
    "xy_emb = decomposition.fit_transform(emb)\n",
    "\n",
    "plt.figure(figsize=(8, 8))\n",
    "scatter = plt.scatter(xy_emb[:, 0], xy_emb[:, 1], c=labels, s=10, cmap=plt.cm.Set2)\n",
    "plt.legend(handles=scatter.legend_elements()[0], labels=unique)\n",
    "plt.title(f'MI: {mi:.4f}');"
   ]
  },
  {
   "cell_type": "markdown",
   "id": "35fcbfed",
   "metadata": {
    "id": "35fcbfed"
   },
   "source": [
    "The hierarchical softmax can be improved by building a binary tree where hubs are closer to the root unit. In this task we have used the randomly builded binary tree and we can see that it works pretty well with respect to negative sampling."
   ]
  },
  {
   "cell_type": "markdown",
   "id": "ff2fe14c",
   "metadata": {
    "id": "ff2fe14c"
   },
   "source": [
    "### Task 4. GraRep (3 points)"
   ]
  },
  {
   "cell_type": "markdown",
   "id": "029a1c52",
   "metadata": {
    "id": "029a1c52"
   },
   "source": [
    "The idea behind GraRep is to account for multiscale relationships between nodes. For example,a student can have 1-hop neighborhood of friends, 2-hop neighborhood of classmates, 3-hop neighborhood of society and so on.\n",
    "\n",
    "<img src=\"https://raw.githubusercontent.com/netspractice/network-science/main/images/multiscale_relationships.png\" width=350>\n",
    "\n",
    "Unlike DeepWalk, GraRep defines different objective functions for capturing the different $k$-step local relational information by manipulating transition matrices in the $k$-th powers defined over the graph. Recall that the transition matrix is $P = D^{-1}A$ where $D$ is a degree matrix. $P_{ij}$ refers to a probability to move from the node $i$ to the node $j$ in one step of a random walk. Therefore, $P^k_{ij}$ is a probability to move from the node $i$ to the node $j$ in $k$ steps of a random walk. "
   ]
  },
  {
   "cell_type": "markdown",
   "id": "a2d2db59",
   "metadata": {
    "id": "a2d2db59"
   },
   "source": [
    "Write a function `csr_transition_matrix` that takes a graph and returns a transition matrix. To save memory and speed up the following calculation of powers, convert transition matrix to sparse format by `scipy.sparse.csr_matrix`."
   ]
  },
  {
   "cell_type": "code",
   "execution_count": null,
   "id": "b19d518d",
   "metadata": {
    "deletable": false,
    "id": "b19d518d",
    "nbgrader": {
     "cell_type": "code",
     "checksum": "bec7a132a8e91292a33f9ce803d9e648",
     "grade": false,
     "grade_id": "cell-f0ec11b1c4da2c21",
     "locked": false,
     "schema_version": 3,
     "solution": true,
     "task": false
    }
   },
   "outputs": [],
   "source": [
    "import scipy\n",
    "def csr_transition_matrix(G):\n",
    "    i = range(len(G.nodes()))\n",
    "    degs = [1/v for k,v in G.degree]\n",
    "    D1 = csr_matrix((degs, (i, i)),\n",
    "                            shape=(G.number_of_nodes(),\n",
    "                            G.number_of_nodes()),\n",
    "                            dtype=np.float32)\n",
    "    A = csr_matrix(nx.adjacency_matrix(G, i)) \n",
    "    tr_matrix = csr_matrix(D1.dot(A))\n",
    "    return tr_matrix"
   ]
  },
  {
   "cell_type": "code",
   "execution_count": null,
   "id": "038b83de",
   "metadata": {
    "deletable": false,
    "editable": false,
    "id": "038b83de",
    "nbgrader": {
     "cell_type": "code",
     "checksum": "89c5d34c88f598b589ecaf7c68858755",
     "grade": true,
     "grade_id": "cell-2d2f99d8bac11893",
     "locked": true,
     "points": 0.75,
     "schema_version": 3,
     "solution": false,
     "task": false
    }
   },
   "outputs": [],
   "source": [
    "P = csr_transition_matrix(G)\n",
    "assert type(P) == csr_matrix\n",
    "assert P.shape == (len(G), len(G))\n",
    "assert round(P[3, 9], 4) == 0.0417"
   ]
  },
  {
   "cell_type": "markdown",
   "id": "b606b04a",
   "metadata": {
    "id": "b606b04a"
   },
   "source": [
    "Similar to DeepWalk, there are two types of embeddings:\n",
    "* $v_i$ is a vector that represents the start node $i$\n",
    "* $u_j$ is a vector that represents the context node $j$\n",
    "\n",
    "Our objective aims to maximize: 1) the probability that these pairs come from the graph, and 2) the probability that all other pairs do not come from the graph (negative samples). The objective function for nodes $i, j$ in the transition matrix of the power $k$ is\n",
    "\n",
    "$$\\mathcal L^k_{ij} = P^k_{ij}\\log \\sigma(v_i^\\top u_j) + \\frac{\\lambda}{|V|}\\sum_{t=1}^{|V|}P^k_{tj}\\log \\sigma(-v_t^\\top u_j)$$\n",
    "\n",
    "where $\\lambda$ is the hyperparameter indicating the number of negative samples. Optimizing this objective makes observed pairs $(i, j)$ have similar embeddings, while scattering unobserved pairs $(t, j)$. Substitution $v_i^\\top u_j = X_{ij}$ and setting $\\frac{\\partial \\mathcal L_{ij}}{ \\partial X_{ij}} = 0$ yields\n",
    "\n",
    "$$v_i^\\top u_j = X_{ij}^k = \\log \\frac{P^k_{ij}}{\\sum_{t=1}^{|V|}P^k_{tj}} - \\log\\frac{\\lambda}{|V|}$$"
   ]
  },
  {
   "cell_type": "markdown",
   "id": "021aa465",
   "metadata": {
    "id": "021aa465"
   },
   "source": [
    "Let us call $X^k$ log probabilistic matrix. Write a function `log_probabilistic_matrix` that takes a transition matrix, hyperparameter $\\lambda$ and returns a log probabilistic matrix.\n",
    "\n",
    "_Remark: to prevent $-\\infty$ in log, add $\\varepsilon=1^{-6}$ as follows `np.log(x + 1e-6)`_"
   ]
  },
  {
   "cell_type": "code",
   "execution_count": null,
   "id": "2a1437d6",
   "metadata": {
    "deletable": false,
    "id": "2a1437d6",
    "nbgrader": {
     "cell_type": "code",
     "checksum": "63684003d32189034bf77a52da99cd2b",
     "grade": false,
     "grade_id": "cell-c949fe784127c31a",
     "locked": false,
     "schema_version": 3,
     "solution": true,
     "task": false
    }
   },
   "outputs": [],
   "source": [
    "def log_probabilistic_matrix(P, lambd):\n",
    "    c_sum = P.sum(axis=0)\n",
    "    const = np.full(P.shape, lambd / P.shape[0])\n",
    "    P = P / c_sum\n",
    "    X = np.log(P + 1e-6) - np.log(const + 1e-6)\n",
    "    return X"
   ]
  },
  {
   "cell_type": "code",
   "execution_count": null,
   "id": "b73c3a43",
   "metadata": {
    "deletable": false,
    "editable": false,
    "id": "b73c3a43",
    "nbgrader": {
     "cell_type": "code",
     "checksum": "f81afad0435cd21fc8814f7974fd775b",
     "grade": true,
     "grade_id": "cell-624f6d1384718d6f",
     "locked": true,
     "points": 0.75,
     "schema_version": 3,
     "solution": false,
     "task": false
    }
   },
   "outputs": [],
   "source": [
    "X = log_probabilistic_matrix(P, lambd=5)\n",
    "assert type(X) == np.matrix\n",
    "assert X.shape == (len(G), len(G))\n",
    "assert round(X[3, 9], 4) == 3.182"
   ]
  },
  {
   "cell_type": "markdown",
   "id": "f048f649",
   "metadata": {
    "id": "f048f649"
   },
   "source": [
    "The log probabilistic matrix $X^k$ can be approximated by truncated SVD so that\n",
    "\n",
    "$$X^k \\approx X_d^k = U_d^k \\Sigma_d^k (V_d^k)^\\top$$\n",
    "\n",
    "where $d$ is the number of singular values of truncated SVD. Thus, embeddings of start nodes can be obtained by \n",
    "\n",
    "$$v_i = \\left[U_d^k \\sqrt{\\Sigma_d^k}\\right]_i$$ \n",
    "\n",
    "and embeddings of context nodes by \n",
    "\n",
    "$$u_j = \\left[\\sqrt{\\Sigma_d^k} (V_d^k)^\\top\\right]_j$$ \n",
    "\n",
    "_Remark: the power 1/2 makes SVD symmetric. It is empirically shown that the symmetric SVD is better for social graphs and makes embeddings more \"similar\" to corresponding embeddings of SkipGram with negative sampling in a sence of some matrix properties._"
   ]
  },
  {
   "cell_type": "markdown",
   "id": "1b53945c",
   "metadata": {
    "id": "1b53945c"
   },
   "source": [
    "Write a function `svd_emb` that takes a log probabilistic matrix, number of dimensions (number of largest singular values) in truncated SVD and returns embeddings of start nodes.\n",
    "\n",
    "_Hint: use `scipy.sparse.linalg.svds` to calculate truncated SVD for a given number of singular values._"
   ]
  },
  {
   "cell_type": "code",
   "execution_count": null,
   "id": "08289b64",
   "metadata": {
    "deletable": false,
    "id": "08289b64",
    "nbgrader": {
     "cell_type": "code",
     "checksum": "64aa1dc62ca5b5035ec1eedfc7372ab7",
     "grade": false,
     "grade_id": "cell-683cb8f26df5fd3a",
     "locked": false,
     "schema_version": 3,
     "solution": true,
     "task": false
    }
   },
   "outputs": [],
   "source": [
    "def svd_emb(X, dim):\n",
    "    u, s, vh = svds(X, dim)\n",
    "    truncated_SVD = u @ np.diag(np.sqrt(s))\n",
    "    return truncated_SVD"
   ]
  },
  {
   "cell_type": "code",
   "execution_count": null,
   "id": "22c1fc22",
   "metadata": {
    "deletable": false,
    "editable": false,
    "id": "22c1fc22",
    "nbgrader": {
     "cell_type": "code",
     "checksum": "b79ac0db377db5bae1f2923b7877e2dc",
     "grade": true,
     "grade_id": "cell-426bb9037fe96aba",
     "locked": true,
     "points": 0.75,
     "schema_version": 3,
     "solution": false,
     "task": false
    }
   },
   "outputs": [],
   "source": [
    "_emb = svd_emb(X, dim=4)\n",
    "assert type(_emb) == np.ndarray\n",
    "assert _emb.shape == (3873, 4)"
   ]
  },
  {
   "cell_type": "markdown",
   "id": "bdf94e93",
   "metadata": {
    "id": "bdf94e93"
   },
   "source": [
    "\n",
    "The resulting node embeddings are concatenated from the log probabilistic matrices $X, X^2, ..., X^k$.\n",
    "\n",
    "In `grarep_emb`, we calculate powers of transition matrix $P, P^2, \\dots, P^k$, calculate and concatenate embeddings of start nodes, then we compress them to the original number of dimensions by PCA."
   ]
  },
  {
   "cell_type": "code",
   "execution_count": null,
   "id": "96cc8099",
   "metadata": {
    "deletable": false,
    "editable": false,
    "id": "96cc8099",
    "nbgrader": {
     "cell_type": "code",
     "checksum": "08744ba53988cb545f953cce607f67c6",
     "grade": false,
     "grade_id": "cell-fe1d6156e8d730ad",
     "locked": true,
     "schema_version": 3,
     "solution": false,
     "task": false
    }
   },
   "outputs": [],
   "source": [
    "def grarep_emb(G, dim, k, lambd):\n",
    "    emb = []\n",
    "    P_1 = csr_transition_matrix(G)\n",
    "    P = P_1.copy()\n",
    "    for i in trange(k):\n",
    "        X = log_probabilistic_matrix(P, lambd=lambd)\n",
    "        _emb = svd_emb(X, dim=dim)\n",
    "        emb.append(_emb)\n",
    "        if i == (k - 1):\n",
    "            continue\n",
    "        P = P @ P_1\n",
    "    emb = PCA(n_components=dim).fit_transform(np.concatenate(emb, axis=1))\n",
    "    return emb"
   ]
  },
  {
   "cell_type": "markdown",
   "id": "feb5bf22",
   "metadata": {
    "id": "feb5bf22"
   },
   "source": [
    "Finally, we evaluate the model by mutual information between ground truth labels and cluster indices."
   ]
  },
  {
   "cell_type": "code",
   "execution_count": null,
   "id": "9dbc6e60",
   "metadata": {
    "colab": {
     "base_uri": "https://localhost:8080/",
     "height": 49,
     "referenced_widgets": [
      "3fed9c26d81544ba98bdbca63d14c242",
      "2c75a8e7bb034c05aea54c5701d4c13e",
      "d9899d4516b54c90809425be23aed45d",
      "4d4405c998e44e45aa49d98a7da87c7a",
      "36348de82fb34b15b814942be1a70d85",
      "f4dff16cc9a1438c9adf2bd2da197035",
      "382d134cdbac4025b47d3895e259a834",
      "a0ebf54e1b2843fbbf5454ad371bd045",
      "dc300baf7ca94ec89d8f5f615fe2b799",
      "a0b4565dda414a77b77c8ea02f49677a",
      "5d13d76e9ae3462cb1ccb0925657ac24"
     ]
    },
    "deletable": false,
    "editable": false,
    "id": "9dbc6e60",
    "nbgrader": {
     "cell_type": "code",
     "checksum": "a8be8f00f7fc401b45409cd399e91d28",
     "grade": true,
     "grade_id": "cell-a016b73d556e34c9",
     "locked": true,
     "points": 0.75,
     "schema_version": 3,
     "solution": false,
     "task": false
    },
    "outputId": "9ce8cc4d-3f5c-43c5-e166-8aa82450a92c"
   },
   "outputs": [],
   "source": [
    "emb = grarep_emb(G, dim=16, k=4, lambd=5)\n",
    "assert emb.shape == (len(G), 16)\n",
    "_, pred_labels, _ = k_means(emb, n_clusters=8)\n",
    "mi = mutual_info_score(labels, pred_labels)\n",
    "assert mi > 0.22"
   ]
  },
  {
   "cell_type": "markdown",
   "id": "1e6401e9",
   "metadata": {
    "id": "1e6401e9"
   },
   "source": [
    "Plot t-SNE visualization of node embeddings."
   ]
  },
  {
   "cell_type": "code",
   "execution_count": null,
   "id": "9e08daa1",
   "metadata": {
    "colab": {
     "base_uri": "https://localhost:8080/",
     "height": 499
    },
    "id": "9e08daa1",
    "outputId": "55e068de-e26e-4151-b691-1e548bf6b1bd"
   },
   "outputs": [],
   "source": [
    "decomposition = TSNE(n_components=2)\n",
    "xy_emb = decomposition.fit_transform(emb)\n",
    "\n",
    "plt.figure(figsize=(8, 8))\n",
    "scatter = plt.scatter(xy_emb[:, 0], xy_emb[:, 1], c=labels, s=10, cmap=plt.cm.Set2)\n",
    "plt.legend(handles=scatter.legend_elements()[0], labels=unique)\n",
    "plt.title(f'MI: {mi:.4f}');"
   ]
  },
  {
   "cell_type": "code",
   "execution_count": null,
   "id": "9d085390",
   "metadata": {
    "id": "9d085390"
   },
   "outputs": [],
   "source": []
  }
 ],
 "metadata": {
  "colab": {
   "collapsed_sections": [
    "c3e6f72b",
    "ff2fe14c"
   ],
   "name": "Copy of 04_Structural_Graph_Embeddings.ipynb",
   "provenance": []
  },
  "kernelspec": {
   "display_name": "Python 3 (ipykernel)",
   "language": "python",
   "name": "python3"
  },
  "language_info": {
   "codemirror_mode": {
    "name": "ipython",
    "version": 3
   },
   "file_extension": ".py",
   "mimetype": "text/x-python",
   "name": "python",
   "nbconvert_exporter": "python",
   "pygments_lexer": "ipython3",
   "version": "3.9.7"
  },
  "widgets": {
   "application/vnd.jupyter.widget-state+json": {
    "06dca8f971a148bb95cf8573b2fdf44b": {
     "model_module": "@jupyter-widgets/controls",
     "model_module_version": "1.5.0",
     "model_name": "HTMLModel",
     "state": {
      "_dom_classes": [],
      "_model_module": "@jupyter-widgets/controls",
      "_model_module_version": "1.5.0",
      "_model_name": "HTMLModel",
      "_view_count": null,
      "_view_module": "@jupyter-widgets/controls",
      "_view_module_version": "1.5.0",
      "_view_name": "HTMLView",
      "description": "",
      "description_tooltip": null,
      "layout": "IPY_MODEL_70c81e21b50b4729bbeb36816a4f48e9",
      "placeholder": "​",
      "style": "IPY_MODEL_c444f03dff6e40f6909d547e5739a018",
      "value": " 3873/3873 [00:02&lt;00:00, 1305.10it/s]"
     }
    },
    "09e087a721da4d42bb4b17d4927a9df5": {
     "model_module": "@jupyter-widgets/base",
     "model_module_version": "1.2.0",
     "model_name": "LayoutModel",
     "state": {
      "_model_module": "@jupyter-widgets/base",
      "_model_module_version": "1.2.0",
      "_model_name": "LayoutModel",
      "_view_count": null,
      "_view_module": "@jupyter-widgets/base",
      "_view_module_version": "1.2.0",
      "_view_name": "LayoutView",
      "align_content": null,
      "align_items": null,
      "align_self": null,
      "border": null,
      "bottom": null,
      "display": null,
      "flex": null,
      "flex_flow": null,
      "grid_area": null,
      "grid_auto_columns": null,
      "grid_auto_flow": null,
      "grid_auto_rows": null,
      "grid_column": null,
      "grid_gap": null,
      "grid_row": null,
      "grid_template_areas": null,
      "grid_template_columns": null,
      "grid_template_rows": null,
      "height": null,
      "justify_content": null,
      "justify_items": null,
      "left": null,
      "margin": null,
      "max_height": null,
      "max_width": null,
      "min_height": null,
      "min_width": null,
      "object_fit": null,
      "object_position": null,
      "order": null,
      "overflow": null,
      "overflow_x": null,
      "overflow_y": null,
      "padding": null,
      "right": null,
      "top": null,
      "visibility": null,
      "width": null
     }
    },
    "0a145929fc374e6da960e7a5d2232fe4": {
     "model_module": "@jupyter-widgets/controls",
     "model_module_version": "1.5.0",
     "model_name": "HTMLModel",
     "state": {
      "_dom_classes": [],
      "_model_module": "@jupyter-widgets/controls",
      "_model_module_version": "1.5.0",
      "_model_name": "HTMLModel",
      "_view_count": null,
      "_view_module": "@jupyter-widgets/controls",
      "_view_module_version": "1.5.0",
      "_view_name": "HTMLView",
      "description": "",
      "description_tooltip": null,
      "layout": "IPY_MODEL_8d6a82ace48c437d999975fa15239e89",
      "placeholder": "​",
      "style": "IPY_MODEL_ed71268e0c39467a8271148bb68d0753",
      "value": " 50/50 [00:23&lt;00:00,  2.17it/s]"
     }
    },
    "0acef93b04e544dc9151865da2e52fcd": {
     "model_module": "@jupyter-widgets/controls",
     "model_module_version": "1.5.0",
     "model_name": "DescriptionStyleModel",
     "state": {
      "_model_module": "@jupyter-widgets/controls",
      "_model_module_version": "1.5.0",
      "_model_name": "DescriptionStyleModel",
      "_view_count": null,
      "_view_module": "@jupyter-widgets/base",
      "_view_module_version": "1.2.0",
      "_view_name": "StyleView",
      "description_width": ""
     }
    },
    "1423f260b7144bb59d39ca6e0bb3238f": {
     "model_module": "@jupyter-widgets/controls",
     "model_module_version": "1.5.0",
     "model_name": "FloatProgressModel",
     "state": {
      "_dom_classes": [],
      "_model_module": "@jupyter-widgets/controls",
      "_model_module_version": "1.5.0",
      "_model_name": "FloatProgressModel",
      "_view_count": null,
      "_view_module": "@jupyter-widgets/controls",
      "_view_module_version": "1.5.0",
      "_view_name": "ProgressView",
      "bar_style": "",
      "description": "",
      "description_tooltip": null,
      "layout": "IPY_MODEL_ffbd6ce4d2ec436b808edd8a79eb5ac5",
      "max": 3873,
      "min": 0,
      "orientation": "horizontal",
      "style": "IPY_MODEL_3ff40b3cf7cf476aaacea6e23ccbe449",
      "value": 3873
     }
    },
    "154ce1a39d0f401eb656d38694a82af0": {
     "model_module": "@jupyter-widgets/controls",
     "model_module_version": "1.5.0",
     "model_name": "HTMLModel",
     "state": {
      "_dom_classes": [],
      "_model_module": "@jupyter-widgets/controls",
      "_model_module_version": "1.5.0",
      "_model_name": "HTMLModel",
      "_view_count": null,
      "_view_module": "@jupyter-widgets/controls",
      "_view_module_version": "1.5.0",
      "_view_name": "HTMLView",
      "description": "",
      "description_tooltip": null,
      "layout": "IPY_MODEL_97d3ce3e402a490491e0df34b7899411",
      "placeholder": "​",
      "style": "IPY_MODEL_9ac017d104414680acffdc4aa1b4ae95",
      "value": "  0%"
     }
    },
    "15ef2da85966403ea010f24252241624": {
     "model_module": "@jupyter-widgets/base",
     "model_module_version": "1.2.0",
     "model_name": "LayoutModel",
     "state": {
      "_model_module": "@jupyter-widgets/base",
      "_model_module_version": "1.2.0",
      "_model_name": "LayoutModel",
      "_view_count": null,
      "_view_module": "@jupyter-widgets/base",
      "_view_module_version": "1.2.0",
      "_view_name": "LayoutView",
      "align_content": null,
      "align_items": null,
      "align_self": null,
      "border": null,
      "bottom": null,
      "display": null,
      "flex": null,
      "flex_flow": null,
      "grid_area": null,
      "grid_auto_columns": null,
      "grid_auto_flow": null,
      "grid_auto_rows": null,
      "grid_column": null,
      "grid_gap": null,
      "grid_row": null,
      "grid_template_areas": null,
      "grid_template_columns": null,
      "grid_template_rows": null,
      "height": null,
      "justify_content": null,
      "justify_items": null,
      "left": null,
      "margin": null,
      "max_height": null,
      "max_width": null,
      "min_height": null,
      "min_width": null,
      "object_fit": null,
      "object_position": null,
      "order": null,
      "overflow": null,
      "overflow_x": null,
      "overflow_y": null,
      "padding": null,
      "right": null,
      "top": null,
      "visibility": null,
      "width": null
     }
    },
    "1705b7e7c07a46db979130d26f6489e4": {
     "model_module": "@jupyter-widgets/base",
     "model_module_version": "1.2.0",
     "model_name": "LayoutModel",
     "state": {
      "_model_module": "@jupyter-widgets/base",
      "_model_module_version": "1.2.0",
      "_model_name": "LayoutModel",
      "_view_count": null,
      "_view_module": "@jupyter-widgets/base",
      "_view_module_version": "1.2.0",
      "_view_name": "LayoutView",
      "align_content": null,
      "align_items": null,
      "align_self": null,
      "border": null,
      "bottom": null,
      "display": null,
      "flex": null,
      "flex_flow": null,
      "grid_area": null,
      "grid_auto_columns": null,
      "grid_auto_flow": null,
      "grid_auto_rows": null,
      "grid_column": null,
      "grid_gap": null,
      "grid_row": null,
      "grid_template_areas": null,
      "grid_template_columns": null,
      "grid_template_rows": null,
      "height": null,
      "justify_content": null,
      "justify_items": null,
      "left": null,
      "margin": null,
      "max_height": null,
      "max_width": null,
      "min_height": null,
      "min_width": null,
      "object_fit": null,
      "object_position": null,
      "order": null,
      "overflow": null,
      "overflow_x": null,
      "overflow_y": null,
      "padding": null,
      "right": null,
      "top": null,
      "visibility": null,
      "width": null
     }
    },
    "18fe8ac807634bf59e6a4b8134e501d9": {
     "model_module": "@jupyter-widgets/controls",
     "model_module_version": "1.5.0",
     "model_name": "ProgressStyleModel",
     "state": {
      "_model_module": "@jupyter-widgets/controls",
      "_model_module_version": "1.5.0",
      "_model_name": "ProgressStyleModel",
      "_view_count": null,
      "_view_module": "@jupyter-widgets/base",
      "_view_module_version": "1.2.0",
      "_view_name": "StyleView",
      "bar_color": null,
      "description_width": ""
     }
    },
    "1ec9d1cdeaf14b1c8a71681e92de8fe9": {
     "model_module": "@jupyter-widgets/controls",
     "model_module_version": "1.5.0",
     "model_name": "ProgressStyleModel",
     "state": {
      "_model_module": "@jupyter-widgets/controls",
      "_model_module_version": "1.5.0",
      "_model_name": "ProgressStyleModel",
      "_view_count": null,
      "_view_module": "@jupyter-widgets/base",
      "_view_module_version": "1.2.0",
      "_view_name": "StyleView",
      "bar_color": null,
      "description_width": ""
     }
    },
    "20efdad956f842b0a8b8bbe607980dac": {
     "model_module": "@jupyter-widgets/base",
     "model_module_version": "1.2.0",
     "model_name": "LayoutModel",
     "state": {
      "_model_module": "@jupyter-widgets/base",
      "_model_module_version": "1.2.0",
      "_model_name": "LayoutModel",
      "_view_count": null,
      "_view_module": "@jupyter-widgets/base",
      "_view_module_version": "1.2.0",
      "_view_name": "LayoutView",
      "align_content": null,
      "align_items": null,
      "align_self": null,
      "border": null,
      "bottom": null,
      "display": null,
      "flex": null,
      "flex_flow": null,
      "grid_area": null,
      "grid_auto_columns": null,
      "grid_auto_flow": null,
      "grid_auto_rows": null,
      "grid_column": null,
      "grid_gap": null,
      "grid_row": null,
      "grid_template_areas": null,
      "grid_template_columns": null,
      "grid_template_rows": null,
      "height": null,
      "justify_content": null,
      "justify_items": null,
      "left": null,
      "margin": null,
      "max_height": null,
      "max_width": null,
      "min_height": null,
      "min_width": null,
      "object_fit": null,
      "object_position": null,
      "order": null,
      "overflow": null,
      "overflow_x": null,
      "overflow_y": null,
      "padding": null,
      "right": null,
      "top": null,
      "visibility": null,
      "width": null
     }
    },
    "242d514ee3304cc7a23676e394c7c316": {
     "model_module": "@jupyter-widgets/controls",
     "model_module_version": "1.5.0",
     "model_name": "DescriptionStyleModel",
     "state": {
      "_model_module": "@jupyter-widgets/controls",
      "_model_module_version": "1.5.0",
      "_model_name": "DescriptionStyleModel",
      "_view_count": null,
      "_view_module": "@jupyter-widgets/base",
      "_view_module_version": "1.2.0",
      "_view_name": "StyleView",
      "description_width": ""
     }
    },
    "24e9a48604d749bd9fba62566c3be4ee": {
     "model_module": "@jupyter-widgets/controls",
     "model_module_version": "1.5.0",
     "model_name": "FloatProgressModel",
     "state": {
      "_dom_classes": [],
      "_model_module": "@jupyter-widgets/controls",
      "_model_module_version": "1.5.0",
      "_model_name": "FloatProgressModel",
      "_view_count": null,
      "_view_module": "@jupyter-widgets/controls",
      "_view_module_version": "1.5.0",
      "_view_name": "ProgressView",
      "bar_style": "danger",
      "description": "",
      "description_tooltip": null,
      "layout": "IPY_MODEL_2fa87fdfa84a4e3d8d9ad0d002ad1bcf",
      "max": 50,
      "min": 0,
      "orientation": "horizontal",
      "style": "IPY_MODEL_18fe8ac807634bf59e6a4b8134e501d9",
      "value": 0
     }
    },
    "2595a643048b4fec8c65bf2b7c4d8899": {
     "model_module": "@jupyter-widgets/controls",
     "model_module_version": "1.5.0",
     "model_name": "DescriptionStyleModel",
     "state": {
      "_model_module": "@jupyter-widgets/controls",
      "_model_module_version": "1.5.0",
      "_model_name": "DescriptionStyleModel",
      "_view_count": null,
      "_view_module": "@jupyter-widgets/base",
      "_view_module_version": "1.2.0",
      "_view_name": "StyleView",
      "description_width": ""
     }
    },
    "2693102ee9cc42eba3cdd0ccdb10884b": {
     "model_module": "@jupyter-widgets/base",
     "model_module_version": "1.2.0",
     "model_name": "LayoutModel",
     "state": {
      "_model_module": "@jupyter-widgets/base",
      "_model_module_version": "1.2.0",
      "_model_name": "LayoutModel",
      "_view_count": null,
      "_view_module": "@jupyter-widgets/base",
      "_view_module_version": "1.2.0",
      "_view_name": "LayoutView",
      "align_content": null,
      "align_items": null,
      "align_self": null,
      "border": null,
      "bottom": null,
      "display": null,
      "flex": null,
      "flex_flow": null,
      "grid_area": null,
      "grid_auto_columns": null,
      "grid_auto_flow": null,
      "grid_auto_rows": null,
      "grid_column": null,
      "grid_gap": null,
      "grid_row": null,
      "grid_template_areas": null,
      "grid_template_columns": null,
      "grid_template_rows": null,
      "height": null,
      "justify_content": null,
      "justify_items": null,
      "left": null,
      "margin": null,
      "max_height": null,
      "max_width": null,
      "min_height": null,
      "min_width": null,
      "object_fit": null,
      "object_position": null,
      "order": null,
      "overflow": null,
      "overflow_x": null,
      "overflow_y": null,
      "padding": null,
      "right": null,
      "top": null,
      "visibility": null,
      "width": null
     }
    },
    "2814bba4e2a24462b90dbeafd55622f5": {
     "model_module": "@jupyter-widgets/controls",
     "model_module_version": "1.5.0",
     "model_name": "HTMLModel",
     "state": {
      "_dom_classes": [],
      "_model_module": "@jupyter-widgets/controls",
      "_model_module_version": "1.5.0",
      "_model_name": "HTMLModel",
      "_view_count": null,
      "_view_module": "@jupyter-widgets/controls",
      "_view_module_version": "1.5.0",
      "_view_name": "HTMLView",
      "description": "",
      "description_tooltip": null,
      "layout": "IPY_MODEL_fcbd086ac66f40eeb578d7f2c3dc8dcf",
      "placeholder": "​",
      "style": "IPY_MODEL_2595a643048b4fec8c65bf2b7c4d8899",
      "value": " 50/50 [00:27&lt;00:00,  2.13it/s]"
     }
    },
    "2c75a8e7bb034c05aea54c5701d4c13e": {
     "model_module": "@jupyter-widgets/controls",
     "model_module_version": "1.5.0",
     "model_name": "HTMLModel",
     "state": {
      "_dom_classes": [],
      "_model_module": "@jupyter-widgets/controls",
      "_model_module_version": "1.5.0",
      "_model_name": "HTMLModel",
      "_view_count": null,
      "_view_module": "@jupyter-widgets/controls",
      "_view_module_version": "1.5.0",
      "_view_name": "HTMLView",
      "description": "",
      "description_tooltip": null,
      "layout": "IPY_MODEL_f4dff16cc9a1438c9adf2bd2da197035",
      "placeholder": "​",
      "style": "IPY_MODEL_382d134cdbac4025b47d3895e259a834",
      "value": "100%"
     }
    },
    "2da9ced8dc904e599ee003e286068842": {
     "model_module": "@jupyter-widgets/controls",
     "model_module_version": "1.5.0",
     "model_name": "DescriptionStyleModel",
     "state": {
      "_model_module": "@jupyter-widgets/controls",
      "_model_module_version": "1.5.0",
      "_model_name": "DescriptionStyleModel",
      "_view_count": null,
      "_view_module": "@jupyter-widgets/base",
      "_view_module_version": "1.2.0",
      "_view_name": "StyleView",
      "description_width": ""
     }
    },
    "2fa87fdfa84a4e3d8d9ad0d002ad1bcf": {
     "model_module": "@jupyter-widgets/base",
     "model_module_version": "1.2.0",
     "model_name": "LayoutModel",
     "state": {
      "_model_module": "@jupyter-widgets/base",
      "_model_module_version": "1.2.0",
      "_model_name": "LayoutModel",
      "_view_count": null,
      "_view_module": "@jupyter-widgets/base",
      "_view_module_version": "1.2.0",
      "_view_name": "LayoutView",
      "align_content": null,
      "align_items": null,
      "align_self": null,
      "border": null,
      "bottom": null,
      "display": null,
      "flex": null,
      "flex_flow": null,
      "grid_area": null,
      "grid_auto_columns": null,
      "grid_auto_flow": null,
      "grid_auto_rows": null,
      "grid_column": null,
      "grid_gap": null,
      "grid_row": null,
      "grid_template_areas": null,
      "grid_template_columns": null,
      "grid_template_rows": null,
      "height": null,
      "justify_content": null,
      "justify_items": null,
      "left": null,
      "margin": null,
      "max_height": null,
      "max_width": null,
      "min_height": null,
      "min_width": null,
      "object_fit": null,
      "object_position": null,
      "order": null,
      "overflow": null,
      "overflow_x": null,
      "overflow_y": null,
      "padding": null,
      "right": null,
      "top": null,
      "visibility": null,
      "width": null
     }
    },
    "36348de82fb34b15b814942be1a70d85": {
     "model_module": "@jupyter-widgets/base",
     "model_module_version": "1.2.0",
     "model_name": "LayoutModel",
     "state": {
      "_model_module": "@jupyter-widgets/base",
      "_model_module_version": "1.2.0",
      "_model_name": "LayoutModel",
      "_view_count": null,
      "_view_module": "@jupyter-widgets/base",
      "_view_module_version": "1.2.0",
      "_view_name": "LayoutView",
      "align_content": null,
      "align_items": null,
      "align_self": null,
      "border": null,
      "bottom": null,
      "display": null,
      "flex": null,
      "flex_flow": null,
      "grid_area": null,
      "grid_auto_columns": null,
      "grid_auto_flow": null,
      "grid_auto_rows": null,
      "grid_column": null,
      "grid_gap": null,
      "grid_row": null,
      "grid_template_areas": null,
      "grid_template_columns": null,
      "grid_template_rows": null,
      "height": null,
      "justify_content": null,
      "justify_items": null,
      "left": null,
      "margin": null,
      "max_height": null,
      "max_width": null,
      "min_height": null,
      "min_width": null,
      "object_fit": null,
      "object_position": null,
      "order": null,
      "overflow": null,
      "overflow_x": null,
      "overflow_y": null,
      "padding": null,
      "right": null,
      "top": null,
      "visibility": null,
      "width": null
     }
    },
    "382d134cdbac4025b47d3895e259a834": {
     "model_module": "@jupyter-widgets/controls",
     "model_module_version": "1.5.0",
     "model_name": "DescriptionStyleModel",
     "state": {
      "_model_module": "@jupyter-widgets/controls",
      "_model_module_version": "1.5.0",
      "_model_name": "DescriptionStyleModel",
      "_view_count": null,
      "_view_module": "@jupyter-widgets/base",
      "_view_module_version": "1.2.0",
      "_view_name": "StyleView",
      "description_width": ""
     }
    },
    "389807371fdb4dddbcf2415e3e633538": {
     "model_module": "@jupyter-widgets/controls",
     "model_module_version": "1.5.0",
     "model_name": "ProgressStyleModel",
     "state": {
      "_model_module": "@jupyter-widgets/controls",
      "_model_module_version": "1.5.0",
      "_model_name": "ProgressStyleModel",
      "_view_count": null,
      "_view_module": "@jupyter-widgets/base",
      "_view_module_version": "1.2.0",
      "_view_name": "StyleView",
      "bar_color": null,
      "description_width": ""
     }
    },
    "3a4b28b9b8774c938d42785ff5a60233": {
     "model_module": "@jupyter-widgets/base",
     "model_module_version": "1.2.0",
     "model_name": "LayoutModel",
     "state": {
      "_model_module": "@jupyter-widgets/base",
      "_model_module_version": "1.2.0",
      "_model_name": "LayoutModel",
      "_view_count": null,
      "_view_module": "@jupyter-widgets/base",
      "_view_module_version": "1.2.0",
      "_view_name": "LayoutView",
      "align_content": null,
      "align_items": null,
      "align_self": null,
      "border": null,
      "bottom": null,
      "display": null,
      "flex": null,
      "flex_flow": null,
      "grid_area": null,
      "grid_auto_columns": null,
      "grid_auto_flow": null,
      "grid_auto_rows": null,
      "grid_column": null,
      "grid_gap": null,
      "grid_row": null,
      "grid_template_areas": null,
      "grid_template_columns": null,
      "grid_template_rows": null,
      "height": null,
      "justify_content": null,
      "justify_items": null,
      "left": null,
      "margin": null,
      "max_height": null,
      "max_width": null,
      "min_height": null,
      "min_width": null,
      "object_fit": null,
      "object_position": null,
      "order": null,
      "overflow": null,
      "overflow_x": null,
      "overflow_y": null,
      "padding": null,
      "right": null,
      "top": null,
      "visibility": null,
      "width": null
     }
    },
    "3c468d4a7bfd401799aa63384a9f0c20": {
     "model_module": "@jupyter-widgets/controls",
     "model_module_version": "1.5.0",
     "model_name": "FloatProgressModel",
     "state": {
      "_dom_classes": [],
      "_model_module": "@jupyter-widgets/controls",
      "_model_module_version": "1.5.0",
      "_model_name": "FloatProgressModel",
      "_view_count": null,
      "_view_module": "@jupyter-widgets/controls",
      "_view_module_version": "1.5.0",
      "_view_name": "ProgressView",
      "bar_style": "success",
      "description": "",
      "description_tooltip": null,
      "layout": "IPY_MODEL_1705b7e7c07a46db979130d26f6489e4",
      "max": 50,
      "min": 0,
      "orientation": "horizontal",
      "style": "IPY_MODEL_5ad29ee1ab864727bcf474b512beebef",
      "value": 50
     }
    },
    "3fed9c26d81544ba98bdbca63d14c242": {
     "model_module": "@jupyter-widgets/controls",
     "model_module_version": "1.5.0",
     "model_name": "HBoxModel",
     "state": {
      "_dom_classes": [],
      "_model_module": "@jupyter-widgets/controls",
      "_model_module_version": "1.5.0",
      "_model_name": "HBoxModel",
      "_view_count": null,
      "_view_module": "@jupyter-widgets/controls",
      "_view_module_version": "1.5.0",
      "_view_name": "HBoxView",
      "box_style": "",
      "children": [
       "IPY_MODEL_2c75a8e7bb034c05aea54c5701d4c13e",
       "IPY_MODEL_d9899d4516b54c90809425be23aed45d",
       "IPY_MODEL_4d4405c998e44e45aa49d98a7da87c7a"
      ],
      "layout": "IPY_MODEL_36348de82fb34b15b814942be1a70d85"
     }
    },
    "3ff40b3cf7cf476aaacea6e23ccbe449": {
     "model_module": "@jupyter-widgets/controls",
     "model_module_version": "1.5.0",
     "model_name": "ProgressStyleModel",
     "state": {
      "_model_module": "@jupyter-widgets/controls",
      "_model_module_version": "1.5.0",
      "_model_name": "ProgressStyleModel",
      "_view_count": null,
      "_view_module": "@jupyter-widgets/base",
      "_view_module_version": "1.2.0",
      "_view_name": "StyleView",
      "bar_color": null,
      "description_width": ""
     }
    },
    "4533b388a2aa490ea13623410ae043be": {
     "model_module": "@jupyter-widgets/controls",
     "model_module_version": "1.5.0",
     "model_name": "HTMLModel",
     "state": {
      "_dom_classes": [],
      "_model_module": "@jupyter-widgets/controls",
      "_model_module_version": "1.5.0",
      "_model_name": "HTMLModel",
      "_view_count": null,
      "_view_module": "@jupyter-widgets/controls",
      "_view_module_version": "1.5.0",
      "_view_name": "HTMLView",
      "description": "",
      "description_tooltip": null,
      "layout": "IPY_MODEL_7bc35b0f52c44b08aa10d0ff54755401",
      "placeholder": "​",
      "style": "IPY_MODEL_fc28deb5ea6d407699578ee033965805",
      "value": " 3847/3873 [00:08&lt;00:00, 454.97it/s]"
     }
    },
    "4602bfd108804e8a81527d64d5fbe682": {
     "model_module": "@jupyter-widgets/base",
     "model_module_version": "1.2.0",
     "model_name": "LayoutModel",
     "state": {
      "_model_module": "@jupyter-widgets/base",
      "_model_module_version": "1.2.0",
      "_model_name": "LayoutModel",
      "_view_count": null,
      "_view_module": "@jupyter-widgets/base",
      "_view_module_version": "1.2.0",
      "_view_name": "LayoutView",
      "align_content": null,
      "align_items": null,
      "align_self": null,
      "border": null,
      "bottom": null,
      "display": null,
      "flex": null,
      "flex_flow": null,
      "grid_area": null,
      "grid_auto_columns": null,
      "grid_auto_flow": null,
      "grid_auto_rows": null,
      "grid_column": null,
      "grid_gap": null,
      "grid_row": null,
      "grid_template_areas": null,
      "grid_template_columns": null,
      "grid_template_rows": null,
      "height": null,
      "justify_content": null,
      "justify_items": null,
      "left": null,
      "margin": null,
      "max_height": null,
      "max_width": null,
      "min_height": null,
      "min_width": null,
      "object_fit": null,
      "object_position": null,
      "order": null,
      "overflow": null,
      "overflow_x": null,
      "overflow_y": null,
      "padding": null,
      "right": null,
      "top": null,
      "visibility": null,
      "width": null
     }
    },
    "48edb7bb5fa2448b8a8e1479b7531870": {
     "model_module": "@jupyter-widgets/base",
     "model_module_version": "1.2.0",
     "model_name": "LayoutModel",
     "state": {
      "_model_module": "@jupyter-widgets/base",
      "_model_module_version": "1.2.0",
      "_model_name": "LayoutModel",
      "_view_count": null,
      "_view_module": "@jupyter-widgets/base",
      "_view_module_version": "1.2.0",
      "_view_name": "LayoutView",
      "align_content": null,
      "align_items": null,
      "align_self": null,
      "border": null,
      "bottom": null,
      "display": null,
      "flex": null,
      "flex_flow": null,
      "grid_area": null,
      "grid_auto_columns": null,
      "grid_auto_flow": null,
      "grid_auto_rows": null,
      "grid_column": null,
      "grid_gap": null,
      "grid_row": null,
      "grid_template_areas": null,
      "grid_template_columns": null,
      "grid_template_rows": null,
      "height": null,
      "justify_content": null,
      "justify_items": null,
      "left": null,
      "margin": null,
      "max_height": null,
      "max_width": null,
      "min_height": null,
      "min_width": null,
      "object_fit": null,
      "object_position": null,
      "order": null,
      "overflow": null,
      "overflow_x": null,
      "overflow_y": null,
      "padding": null,
      "right": null,
      "top": null,
      "visibility": null,
      "width": null
     }
    },
    "4907c6a262b34545b5bef6a1dd6d221b": {
     "model_module": "@jupyter-widgets/controls",
     "model_module_version": "1.5.0",
     "model_name": "HBoxModel",
     "state": {
      "_dom_classes": [],
      "_model_module": "@jupyter-widgets/controls",
      "_model_module_version": "1.5.0",
      "_model_name": "HBoxModel",
      "_view_count": null,
      "_view_module": "@jupyter-widgets/controls",
      "_view_module_version": "1.5.0",
      "_view_name": "HBoxView",
      "box_style": "",
      "children": [
       "IPY_MODEL_b5c3a5e35a9144e68d88540f1ac918a9",
       "IPY_MODEL_8f8ab8cd959e42c48a9e46ddf757ac4b",
       "IPY_MODEL_2814bba4e2a24462b90dbeafd55622f5"
      ],
      "layout": "IPY_MODEL_48edb7bb5fa2448b8a8e1479b7531870"
     }
    },
    "4b3b21330c3946c1a174465dc08d8087": {
     "model_module": "@jupyter-widgets/controls",
     "model_module_version": "1.5.0",
     "model_name": "HBoxModel",
     "state": {
      "_dom_classes": [],
      "_model_module": "@jupyter-widgets/controls",
      "_model_module_version": "1.5.0",
      "_model_name": "HBoxModel",
      "_view_count": null,
      "_view_module": "@jupyter-widgets/controls",
      "_view_module_version": "1.5.0",
      "_view_name": "HBoxView",
      "box_style": "",
      "children": [
       "IPY_MODEL_f68a77274ceb4e83a9e23eb64cdc7d2f",
       "IPY_MODEL_e426aef8bb5b4e61ba8758ce7fa573eb",
       "IPY_MODEL_4533b388a2aa490ea13623410ae043be"
      ],
      "layout": "IPY_MODEL_15ef2da85966403ea010f24252241624"
     }
    },
    "4d4405c998e44e45aa49d98a7da87c7a": {
     "model_module": "@jupyter-widgets/controls",
     "model_module_version": "1.5.0",
     "model_name": "HTMLModel",
     "state": {
      "_dom_classes": [],
      "_model_module": "@jupyter-widgets/controls",
      "_model_module_version": "1.5.0",
      "_model_name": "HTMLModel",
      "_view_count": null,
      "_view_module": "@jupyter-widgets/controls",
      "_view_module_version": "1.5.0",
      "_view_name": "HTMLView",
      "description": "",
      "description_tooltip": null,
      "layout": "IPY_MODEL_a0b4565dda414a77b77c8ea02f49677a",
      "placeholder": "​",
      "style": "IPY_MODEL_5d13d76e9ae3462cb1ccb0925657ac24",
      "value": " 4/4 [00:13&lt;00:00,  3.38s/it]"
     }
    },
    "5239138e0d0e49afafab5631ad75ec3a": {
     "model_module": "@jupyter-widgets/base",
     "model_module_version": "1.2.0",
     "model_name": "LayoutModel",
     "state": {
      "_model_module": "@jupyter-widgets/base",
      "_model_module_version": "1.2.0",
      "_model_name": "LayoutModel",
      "_view_count": null,
      "_view_module": "@jupyter-widgets/base",
      "_view_module_version": "1.2.0",
      "_view_name": "LayoutView",
      "align_content": null,
      "align_items": null,
      "align_self": null,
      "border": null,
      "bottom": null,
      "display": null,
      "flex": null,
      "flex_flow": null,
      "grid_area": null,
      "grid_auto_columns": null,
      "grid_auto_flow": null,
      "grid_auto_rows": null,
      "grid_column": null,
      "grid_gap": null,
      "grid_row": null,
      "grid_template_areas": null,
      "grid_template_columns": null,
      "grid_template_rows": null,
      "height": null,
      "justify_content": null,
      "justify_items": null,
      "left": null,
      "margin": null,
      "max_height": null,
      "max_width": null,
      "min_height": null,
      "min_width": null,
      "object_fit": null,
      "object_position": null,
      "order": null,
      "overflow": null,
      "overflow_x": null,
      "overflow_y": null,
      "padding": null,
      "right": null,
      "top": null,
      "visibility": null,
      "width": null
     }
    },
    "52ce2e791e88499daef0389bd35a24e2": {
     "model_module": "@jupyter-widgets/base",
     "model_module_version": "1.2.0",
     "model_name": "LayoutModel",
     "state": {
      "_model_module": "@jupyter-widgets/base",
      "_model_module_version": "1.2.0",
      "_model_name": "LayoutModel",
      "_view_count": null,
      "_view_module": "@jupyter-widgets/base",
      "_view_module_version": "1.2.0",
      "_view_name": "LayoutView",
      "align_content": null,
      "align_items": null,
      "align_self": null,
      "border": null,
      "bottom": null,
      "display": null,
      "flex": null,
      "flex_flow": null,
      "grid_area": null,
      "grid_auto_columns": null,
      "grid_auto_flow": null,
      "grid_auto_rows": null,
      "grid_column": null,
      "grid_gap": null,
      "grid_row": null,
      "grid_template_areas": null,
      "grid_template_columns": null,
      "grid_template_rows": null,
      "height": null,
      "justify_content": null,
      "justify_items": null,
      "left": null,
      "margin": null,
      "max_height": null,
      "max_width": null,
      "min_height": null,
      "min_width": null,
      "object_fit": null,
      "object_position": null,
      "order": null,
      "overflow": null,
      "overflow_x": null,
      "overflow_y": null,
      "padding": null,
      "right": null,
      "top": null,
      "visibility": null,
      "width": null
     }
    },
    "572c14f1ab34488cac8f16a6cd744546": {
     "model_module": "@jupyter-widgets/controls",
     "model_module_version": "1.5.0",
     "model_name": "DescriptionStyleModel",
     "state": {
      "_model_module": "@jupyter-widgets/controls",
      "_model_module_version": "1.5.0",
      "_model_name": "DescriptionStyleModel",
      "_view_count": null,
      "_view_module": "@jupyter-widgets/base",
      "_view_module_version": "1.2.0",
      "_view_name": "StyleView",
      "description_width": ""
     }
    },
    "573ded28070a4dd9a314e062f58f6dac": {
     "model_module": "@jupyter-widgets/base",
     "model_module_version": "1.2.0",
     "model_name": "LayoutModel",
     "state": {
      "_model_module": "@jupyter-widgets/base",
      "_model_module_version": "1.2.0",
      "_model_name": "LayoutModel",
      "_view_count": null,
      "_view_module": "@jupyter-widgets/base",
      "_view_module_version": "1.2.0",
      "_view_name": "LayoutView",
      "align_content": null,
      "align_items": null,
      "align_self": null,
      "border": null,
      "bottom": null,
      "display": null,
      "flex": null,
      "flex_flow": null,
      "grid_area": null,
      "grid_auto_columns": null,
      "grid_auto_flow": null,
      "grid_auto_rows": null,
      "grid_column": null,
      "grid_gap": null,
      "grid_row": null,
      "grid_template_areas": null,
      "grid_template_columns": null,
      "grid_template_rows": null,
      "height": null,
      "justify_content": null,
      "justify_items": null,
      "left": null,
      "margin": null,
      "max_height": null,
      "max_width": null,
      "min_height": null,
      "min_width": null,
      "object_fit": null,
      "object_position": null,
      "order": null,
      "overflow": null,
      "overflow_x": null,
      "overflow_y": null,
      "padding": null,
      "right": null,
      "top": null,
      "visibility": null,
      "width": null
     }
    },
    "5ad29ee1ab864727bcf474b512beebef": {
     "model_module": "@jupyter-widgets/controls",
     "model_module_version": "1.5.0",
     "model_name": "ProgressStyleModel",
     "state": {
      "_model_module": "@jupyter-widgets/controls",
      "_model_module_version": "1.5.0",
      "_model_name": "ProgressStyleModel",
      "_view_count": null,
      "_view_module": "@jupyter-widgets/base",
      "_view_module_version": "1.2.0",
      "_view_name": "StyleView",
      "bar_color": null,
      "description_width": ""
     }
    },
    "5c5c66e773f649baa8e2a1571a23d6ef": {
     "model_module": "@jupyter-widgets/controls",
     "model_module_version": "1.5.0",
     "model_name": "HTMLModel",
     "state": {
      "_dom_classes": [],
      "_model_module": "@jupyter-widgets/controls",
      "_model_module_version": "1.5.0",
      "_model_name": "HTMLModel",
      "_view_count": null,
      "_view_module": "@jupyter-widgets/controls",
      "_view_module_version": "1.5.0",
      "_view_name": "HTMLView",
      "description": "",
      "description_tooltip": null,
      "layout": "IPY_MODEL_52ce2e791e88499daef0389bd35a24e2",
      "placeholder": "​",
      "style": "IPY_MODEL_572c14f1ab34488cac8f16a6cd744546",
      "value": " 0/50 [00:00&lt;?, ?it/s]"
     }
    },
    "5d13d76e9ae3462cb1ccb0925657ac24": {
     "model_module": "@jupyter-widgets/controls",
     "model_module_version": "1.5.0",
     "model_name": "DescriptionStyleModel",
     "state": {
      "_model_module": "@jupyter-widgets/controls",
      "_model_module_version": "1.5.0",
      "_model_name": "DescriptionStyleModel",
      "_view_count": null,
      "_view_module": "@jupyter-widgets/base",
      "_view_module_version": "1.2.0",
      "_view_name": "StyleView",
      "description_width": ""
     }
    },
    "631a83c893664e829b7887b98d6507d4": {
     "model_module": "@jupyter-widgets/base",
     "model_module_version": "1.2.0",
     "model_name": "LayoutModel",
     "state": {
      "_model_module": "@jupyter-widgets/base",
      "_model_module_version": "1.2.0",
      "_model_name": "LayoutModel",
      "_view_count": null,
      "_view_module": "@jupyter-widgets/base",
      "_view_module_version": "1.2.0",
      "_view_name": "LayoutView",
      "align_content": null,
      "align_items": null,
      "align_self": null,
      "border": null,
      "bottom": null,
      "display": null,
      "flex": null,
      "flex_flow": null,
      "grid_area": null,
      "grid_auto_columns": null,
      "grid_auto_flow": null,
      "grid_auto_rows": null,
      "grid_column": null,
      "grid_gap": null,
      "grid_row": null,
      "grid_template_areas": null,
      "grid_template_columns": null,
      "grid_template_rows": null,
      "height": null,
      "justify_content": null,
      "justify_items": null,
      "left": null,
      "margin": null,
      "max_height": null,
      "max_width": null,
      "min_height": null,
      "min_width": null,
      "object_fit": null,
      "object_position": null,
      "order": null,
      "overflow": null,
      "overflow_x": null,
      "overflow_y": null,
      "padding": null,
      "right": null,
      "top": null,
      "visibility": null,
      "width": null
     }
    },
    "638fb368df6d42fc824ab2dbeef27817": {
     "model_module": "@jupyter-widgets/base",
     "model_module_version": "1.2.0",
     "model_name": "LayoutModel",
     "state": {
      "_model_module": "@jupyter-widgets/base",
      "_model_module_version": "1.2.0",
      "_model_name": "LayoutModel",
      "_view_count": null,
      "_view_module": "@jupyter-widgets/base",
      "_view_module_version": "1.2.0",
      "_view_name": "LayoutView",
      "align_content": null,
      "align_items": null,
      "align_self": null,
      "border": null,
      "bottom": null,
      "display": null,
      "flex": null,
      "flex_flow": null,
      "grid_area": null,
      "grid_auto_columns": null,
      "grid_auto_flow": null,
      "grid_auto_rows": null,
      "grid_column": null,
      "grid_gap": null,
      "grid_row": null,
      "grid_template_areas": null,
      "grid_template_columns": null,
      "grid_template_rows": null,
      "height": null,
      "justify_content": null,
      "justify_items": null,
      "left": null,
      "margin": null,
      "max_height": null,
      "max_width": null,
      "min_height": null,
      "min_width": null,
      "object_fit": null,
      "object_position": null,
      "order": null,
      "overflow": null,
      "overflow_x": null,
      "overflow_y": null,
      "padding": null,
      "right": null,
      "top": null,
      "visibility": null,
      "width": null
     }
    },
    "65f1719536904f679d4b31b4282dfdd5": {
     "model_module": "@jupyter-widgets/base",
     "model_module_version": "1.2.0",
     "model_name": "LayoutModel",
     "state": {
      "_model_module": "@jupyter-widgets/base",
      "_model_module_version": "1.2.0",
      "_model_name": "LayoutModel",
      "_view_count": null,
      "_view_module": "@jupyter-widgets/base",
      "_view_module_version": "1.2.0",
      "_view_name": "LayoutView",
      "align_content": null,
      "align_items": null,
      "align_self": null,
      "border": null,
      "bottom": null,
      "display": null,
      "flex": null,
      "flex_flow": null,
      "grid_area": null,
      "grid_auto_columns": null,
      "grid_auto_flow": null,
      "grid_auto_rows": null,
      "grid_column": null,
      "grid_gap": null,
      "grid_row": null,
      "grid_template_areas": null,
      "grid_template_columns": null,
      "grid_template_rows": null,
      "height": null,
      "justify_content": null,
      "justify_items": null,
      "left": null,
      "margin": null,
      "max_height": null,
      "max_width": null,
      "min_height": null,
      "min_width": null,
      "object_fit": null,
      "object_position": null,
      "order": null,
      "overflow": null,
      "overflow_x": null,
      "overflow_y": null,
      "padding": null,
      "right": null,
      "top": null,
      "visibility": null,
      "width": null
     }
    },
    "6985da9a64da435bb231f2210cc6791f": {
     "model_module": "@jupyter-widgets/controls",
     "model_module_version": "1.5.0",
     "model_name": "HBoxModel",
     "state": {
      "_dom_classes": [],
      "_model_module": "@jupyter-widgets/controls",
      "_model_module_version": "1.5.0",
      "_model_name": "HBoxModel",
      "_view_count": null,
      "_view_module": "@jupyter-widgets/controls",
      "_view_module_version": "1.5.0",
      "_view_name": "HBoxView",
      "box_style": "",
      "children": [
       "IPY_MODEL_7e6d9e91e76b42d2aaace614f7963a7c",
       "IPY_MODEL_71b7c959fe6e4072a4b839801bc663d8",
       "IPY_MODEL_d111f4875072446a900fa5626e4d91bd"
      ],
      "layout": "IPY_MODEL_5239138e0d0e49afafab5631ad75ec3a"
     }
    },
    "6ad61718d1294136bb5c8dfa92f12a47": {
     "model_module": "@jupyter-widgets/controls",
     "model_module_version": "1.5.0",
     "model_name": "DescriptionStyleModel",
     "state": {
      "_model_module": "@jupyter-widgets/controls",
      "_model_module_version": "1.5.0",
      "_model_name": "DescriptionStyleModel",
      "_view_count": null,
      "_view_module": "@jupyter-widgets/base",
      "_view_module_version": "1.2.0",
      "_view_name": "StyleView",
      "description_width": ""
     }
    },
    "6d187d48b6b848388952fe8f7dcc9966": {
     "model_module": "@jupyter-widgets/base",
     "model_module_version": "1.2.0",
     "model_name": "LayoutModel",
     "state": {
      "_model_module": "@jupyter-widgets/base",
      "_model_module_version": "1.2.0",
      "_model_name": "LayoutModel",
      "_view_count": null,
      "_view_module": "@jupyter-widgets/base",
      "_view_module_version": "1.2.0",
      "_view_name": "LayoutView",
      "align_content": null,
      "align_items": null,
      "align_self": null,
      "border": null,
      "bottom": null,
      "display": null,
      "flex": null,
      "flex_flow": null,
      "grid_area": null,
      "grid_auto_columns": null,
      "grid_auto_flow": null,
      "grid_auto_rows": null,
      "grid_column": null,
      "grid_gap": null,
      "grid_row": null,
      "grid_template_areas": null,
      "grid_template_columns": null,
      "grid_template_rows": null,
      "height": null,
      "justify_content": null,
      "justify_items": null,
      "left": null,
      "margin": null,
      "max_height": null,
      "max_width": null,
      "min_height": null,
      "min_width": null,
      "object_fit": null,
      "object_position": null,
      "order": null,
      "overflow": null,
      "overflow_x": null,
      "overflow_y": null,
      "padding": null,
      "right": null,
      "top": null,
      "visibility": null,
      "width": null
     }
    },
    "6e479b6767914122868216a3601d8a67": {
     "model_module": "@jupyter-widgets/controls",
     "model_module_version": "1.5.0",
     "model_name": "DescriptionStyleModel",
     "state": {
      "_model_module": "@jupyter-widgets/controls",
      "_model_module_version": "1.5.0",
      "_model_name": "DescriptionStyleModel",
      "_view_count": null,
      "_view_module": "@jupyter-widgets/base",
      "_view_module_version": "1.2.0",
      "_view_name": "StyleView",
      "description_width": ""
     }
    },
    "70c81e21b50b4729bbeb36816a4f48e9": {
     "model_module": "@jupyter-widgets/base",
     "model_module_version": "1.2.0",
     "model_name": "LayoutModel",
     "state": {
      "_model_module": "@jupyter-widgets/base",
      "_model_module_version": "1.2.0",
      "_model_name": "LayoutModel",
      "_view_count": null,
      "_view_module": "@jupyter-widgets/base",
      "_view_module_version": "1.2.0",
      "_view_name": "LayoutView",
      "align_content": null,
      "align_items": null,
      "align_self": null,
      "border": null,
      "bottom": null,
      "display": null,
      "flex": null,
      "flex_flow": null,
      "grid_area": null,
      "grid_auto_columns": null,
      "grid_auto_flow": null,
      "grid_auto_rows": null,
      "grid_column": null,
      "grid_gap": null,
      "grid_row": null,
      "grid_template_areas": null,
      "grid_template_columns": null,
      "grid_template_rows": null,
      "height": null,
      "justify_content": null,
      "justify_items": null,
      "left": null,
      "margin": null,
      "max_height": null,
      "max_width": null,
      "min_height": null,
      "min_width": null,
      "object_fit": null,
      "object_position": null,
      "order": null,
      "overflow": null,
      "overflow_x": null,
      "overflow_y": null,
      "padding": null,
      "right": null,
      "top": null,
      "visibility": null,
      "width": null
     }
    },
    "71b7c959fe6e4072a4b839801bc663d8": {
     "model_module": "@jupyter-widgets/controls",
     "model_module_version": "1.5.0",
     "model_name": "FloatProgressModel",
     "state": {
      "_dom_classes": [],
      "_model_module": "@jupyter-widgets/controls",
      "_model_module_version": "1.5.0",
      "_model_name": "FloatProgressModel",
      "_view_count": null,
      "_view_module": "@jupyter-widgets/controls",
      "_view_module_version": "1.5.0",
      "_view_name": "ProgressView",
      "bar_style": "success",
      "description": "",
      "description_tooltip": null,
      "layout": "IPY_MODEL_3a4b28b9b8774c938d42785ff5a60233",
      "max": 50,
      "min": 0,
      "orientation": "horizontal",
      "style": "IPY_MODEL_1ec9d1cdeaf14b1c8a71681e92de8fe9",
      "value": 50
     }
    },
    "720f2d4e2344409c839ae8b8b2221dd0": {
     "model_module": "@jupyter-widgets/controls",
     "model_module_version": "1.5.0",
     "model_name": "ProgressStyleModel",
     "state": {
      "_model_module": "@jupyter-widgets/controls",
      "_model_module_version": "1.5.0",
      "_model_name": "ProgressStyleModel",
      "_view_count": null,
      "_view_module": "@jupyter-widgets/base",
      "_view_module_version": "1.2.0",
      "_view_name": "StyleView",
      "bar_color": null,
      "description_width": ""
     }
    },
    "7bc35b0f52c44b08aa10d0ff54755401": {
     "model_module": "@jupyter-widgets/base",
     "model_module_version": "1.2.0",
     "model_name": "LayoutModel",
     "state": {
      "_model_module": "@jupyter-widgets/base",
      "_model_module_version": "1.2.0",
      "_model_name": "LayoutModel",
      "_view_count": null,
      "_view_module": "@jupyter-widgets/base",
      "_view_module_version": "1.2.0",
      "_view_name": "LayoutView",
      "align_content": null,
      "align_items": null,
      "align_self": null,
      "border": null,
      "bottom": null,
      "display": null,
      "flex": null,
      "flex_flow": null,
      "grid_area": null,
      "grid_auto_columns": null,
      "grid_auto_flow": null,
      "grid_auto_rows": null,
      "grid_column": null,
      "grid_gap": null,
      "grid_row": null,
      "grid_template_areas": null,
      "grid_template_columns": null,
      "grid_template_rows": null,
      "height": null,
      "justify_content": null,
      "justify_items": null,
      "left": null,
      "margin": null,
      "max_height": null,
      "max_width": null,
      "min_height": null,
      "min_width": null,
      "object_fit": null,
      "object_position": null,
      "order": null,
      "overflow": null,
      "overflow_x": null,
      "overflow_y": null,
      "padding": null,
      "right": null,
      "top": null,
      "visibility": null,
      "width": null
     }
    },
    "7bed684ceffa4837b18787d4a0ad811d": {
     "model_module": "@jupyter-widgets/controls",
     "model_module_version": "1.5.0",
     "model_name": "HTMLModel",
     "state": {
      "_dom_classes": [],
      "_model_module": "@jupyter-widgets/controls",
      "_model_module_version": "1.5.0",
      "_model_name": "HTMLModel",
      "_view_count": null,
      "_view_module": "@jupyter-widgets/controls",
      "_view_module_version": "1.5.0",
      "_view_name": "HTMLView",
      "description": "",
      "description_tooltip": null,
      "layout": "IPY_MODEL_638fb368df6d42fc824ab2dbeef27817",
      "placeholder": "​",
      "style": "IPY_MODEL_f5d843caf9bb4d3fa5b758e5564e2628",
      "value": "Sampling biased random walks:  99%"
     }
    },
    "7e6d9e91e76b42d2aaace614f7963a7c": {
     "model_module": "@jupyter-widgets/controls",
     "model_module_version": "1.5.0",
     "model_name": "HTMLModel",
     "state": {
      "_dom_classes": [],
      "_model_module": "@jupyter-widgets/controls",
      "_model_module_version": "1.5.0",
      "_model_name": "HTMLModel",
      "_view_count": null,
      "_view_module": "@jupyter-widgets/controls",
      "_view_module_version": "1.5.0",
      "_view_name": "HTMLView",
      "description": "",
      "description_tooltip": null,
      "layout": "IPY_MODEL_6d187d48b6b848388952fe8f7dcc9966",
      "placeholder": "​",
      "style": "IPY_MODEL_0acef93b04e544dc9151865da2e52fcd",
      "value": "100%"
     }
    },
    "83b0ad6d019341bf987212a79d28357f": {
     "model_module": "@jupyter-widgets/controls",
     "model_module_version": "1.5.0",
     "model_name": "DescriptionStyleModel",
     "state": {
      "_model_module": "@jupyter-widgets/controls",
      "_model_module_version": "1.5.0",
      "_model_name": "DescriptionStyleModel",
      "_view_count": null,
      "_view_module": "@jupyter-widgets/base",
      "_view_module_version": "1.2.0",
      "_view_name": "StyleView",
      "description_width": ""
     }
    },
    "885fcf72820f465193b80046db15e8e6": {
     "model_module": "@jupyter-widgets/base",
     "model_module_version": "1.2.0",
     "model_name": "LayoutModel",
     "state": {
      "_model_module": "@jupyter-widgets/base",
      "_model_module_version": "1.2.0",
      "_model_name": "LayoutModel",
      "_view_count": null,
      "_view_module": "@jupyter-widgets/base",
      "_view_module_version": "1.2.0",
      "_view_name": "LayoutView",
      "align_content": null,
      "align_items": null,
      "align_self": null,
      "border": null,
      "bottom": null,
      "display": null,
      "flex": null,
      "flex_flow": null,
      "grid_area": null,
      "grid_auto_columns": null,
      "grid_auto_flow": null,
      "grid_auto_rows": null,
      "grid_column": null,
      "grid_gap": null,
      "grid_row": null,
      "grid_template_areas": null,
      "grid_template_columns": null,
      "grid_template_rows": null,
      "height": null,
      "justify_content": null,
      "justify_items": null,
      "left": null,
      "margin": null,
      "max_height": null,
      "max_width": null,
      "min_height": null,
      "min_width": null,
      "object_fit": null,
      "object_position": null,
      "order": null,
      "overflow": null,
      "overflow_x": null,
      "overflow_y": null,
      "padding": null,
      "right": null,
      "top": null,
      "visibility": null,
      "width": null
     }
    },
    "898b4bb337c44c219cfd44a80e1753ff": {
     "model_module": "@jupyter-widgets/controls",
     "model_module_version": "1.5.0",
     "model_name": "HBoxModel",
     "state": {
      "_dom_classes": [],
      "_model_module": "@jupyter-widgets/controls",
      "_model_module_version": "1.5.0",
      "_model_name": "HBoxModel",
      "_view_count": null,
      "_view_module": "@jupyter-widgets/controls",
      "_view_module_version": "1.5.0",
      "_view_name": "HBoxView",
      "box_style": "",
      "children": [
       "IPY_MODEL_a64eeee1822e424d8da31b54da6de3c8",
       "IPY_MODEL_3c468d4a7bfd401799aa63384a9f0c20",
       "IPY_MODEL_0a145929fc374e6da960e7a5d2232fe4"
      ],
      "layout": "IPY_MODEL_573ded28070a4dd9a314e062f58f6dac"
     }
    },
    "8d6a82ace48c437d999975fa15239e89": {
     "model_module": "@jupyter-widgets/base",
     "model_module_version": "1.2.0",
     "model_name": "LayoutModel",
     "state": {
      "_model_module": "@jupyter-widgets/base",
      "_model_module_version": "1.2.0",
      "_model_name": "LayoutModel",
      "_view_count": null,
      "_view_module": "@jupyter-widgets/base",
      "_view_module_version": "1.2.0",
      "_view_name": "LayoutView",
      "align_content": null,
      "align_items": null,
      "align_self": null,
      "border": null,
      "bottom": null,
      "display": null,
      "flex": null,
      "flex_flow": null,
      "grid_area": null,
      "grid_auto_columns": null,
      "grid_auto_flow": null,
      "grid_auto_rows": null,
      "grid_column": null,
      "grid_gap": null,
      "grid_row": null,
      "grid_template_areas": null,
      "grid_template_columns": null,
      "grid_template_rows": null,
      "height": null,
      "justify_content": null,
      "justify_items": null,
      "left": null,
      "margin": null,
      "max_height": null,
      "max_width": null,
      "min_height": null,
      "min_width": null,
      "object_fit": null,
      "object_position": null,
      "order": null,
      "overflow": null,
      "overflow_x": null,
      "overflow_y": null,
      "padding": null,
      "right": null,
      "top": null,
      "visibility": null,
      "width": null
     }
    },
    "8e38ec14f0d848cebadc8d858c07d78e": {
     "model_module": "@jupyter-widgets/controls",
     "model_module_version": "1.5.0",
     "model_name": "HBoxModel",
     "state": {
      "_dom_classes": [],
      "_model_module": "@jupyter-widgets/controls",
      "_model_module_version": "1.5.0",
      "_model_name": "HBoxModel",
      "_view_count": null,
      "_view_module": "@jupyter-widgets/controls",
      "_view_module_version": "1.5.0",
      "_view_name": "HBoxView",
      "box_style": "",
      "children": [
       "IPY_MODEL_7bed684ceffa4837b18787d4a0ad811d",
       "IPY_MODEL_1423f260b7144bb59d39ca6e0bb3238f",
       "IPY_MODEL_ebce735551bb4a3d89cc8bd6039bbf90"
      ],
      "layout": "IPY_MODEL_9964242d5ad94a189e3e63c4e7accc6c"
     }
    },
    "8f8ab8cd959e42c48a9e46ddf757ac4b": {
     "model_module": "@jupyter-widgets/controls",
     "model_module_version": "1.5.0",
     "model_name": "FloatProgressModel",
     "state": {
      "_dom_classes": [],
      "_model_module": "@jupyter-widgets/controls",
      "_model_module_version": "1.5.0",
      "_model_name": "FloatProgressModel",
      "_view_count": null,
      "_view_module": "@jupyter-widgets/controls",
      "_view_module_version": "1.5.0",
      "_view_name": "ProgressView",
      "bar_style": "success",
      "description": "",
      "description_tooltip": null,
      "layout": "IPY_MODEL_9c0138daffbb418a93cb3c041ce7deda",
      "max": 50,
      "min": 0,
      "orientation": "horizontal",
      "style": "IPY_MODEL_a19cec5a811843c4aa50e9903a9860ef",
      "value": 50
     }
    },
    "916b327e4eb448a5aa3bed897f05b1d6": {
     "model_module": "@jupyter-widgets/controls",
     "model_module_version": "1.5.0",
     "model_name": "HBoxModel",
     "state": {
      "_dom_classes": [],
      "_model_module": "@jupyter-widgets/controls",
      "_model_module_version": "1.5.0",
      "_model_name": "HBoxModel",
      "_view_count": null,
      "_view_module": "@jupyter-widgets/controls",
      "_view_module_version": "1.5.0",
      "_view_name": "HBoxView",
      "box_style": "",
      "children": [
       "IPY_MODEL_154ce1a39d0f401eb656d38694a82af0",
       "IPY_MODEL_24e9a48604d749bd9fba62566c3be4ee",
       "IPY_MODEL_5c5c66e773f649baa8e2a1571a23d6ef"
      ],
      "layout": "IPY_MODEL_885fcf72820f465193b80046db15e8e6"
     }
    },
    "95f24bad29d64717bc2ce82a242c3951": {
     "model_module": "@jupyter-widgets/base",
     "model_module_version": "1.2.0",
     "model_name": "LayoutModel",
     "state": {
      "_model_module": "@jupyter-widgets/base",
      "_model_module_version": "1.2.0",
      "_model_name": "LayoutModel",
      "_view_count": null,
      "_view_module": "@jupyter-widgets/base",
      "_view_module_version": "1.2.0",
      "_view_name": "LayoutView",
      "align_content": null,
      "align_items": null,
      "align_self": null,
      "border": null,
      "bottom": null,
      "display": null,
      "flex": null,
      "flex_flow": null,
      "grid_area": null,
      "grid_auto_columns": null,
      "grid_auto_flow": null,
      "grid_auto_rows": null,
      "grid_column": null,
      "grid_gap": null,
      "grid_row": null,
      "grid_template_areas": null,
      "grid_template_columns": null,
      "grid_template_rows": null,
      "height": null,
      "justify_content": null,
      "justify_items": null,
      "left": null,
      "margin": null,
      "max_height": null,
      "max_width": null,
      "min_height": null,
      "min_width": null,
      "object_fit": null,
      "object_position": null,
      "order": null,
      "overflow": null,
      "overflow_x": null,
      "overflow_y": null,
      "padding": null,
      "right": null,
      "top": null,
      "visibility": null,
      "width": null
     }
    },
    "97d3ce3e402a490491e0df34b7899411": {
     "model_module": "@jupyter-widgets/base",
     "model_module_version": "1.2.0",
     "model_name": "LayoutModel",
     "state": {
      "_model_module": "@jupyter-widgets/base",
      "_model_module_version": "1.2.0",
      "_model_name": "LayoutModel",
      "_view_count": null,
      "_view_module": "@jupyter-widgets/base",
      "_view_module_version": "1.2.0",
      "_view_name": "LayoutView",
      "align_content": null,
      "align_items": null,
      "align_self": null,
      "border": null,
      "bottom": null,
      "display": null,
      "flex": null,
      "flex_flow": null,
      "grid_area": null,
      "grid_auto_columns": null,
      "grid_auto_flow": null,
      "grid_auto_rows": null,
      "grid_column": null,
      "grid_gap": null,
      "grid_row": null,
      "grid_template_areas": null,
      "grid_template_columns": null,
      "grid_template_rows": null,
      "height": null,
      "justify_content": null,
      "justify_items": null,
      "left": null,
      "margin": null,
      "max_height": null,
      "max_width": null,
      "min_height": null,
      "min_width": null,
      "object_fit": null,
      "object_position": null,
      "order": null,
      "overflow": null,
      "overflow_x": null,
      "overflow_y": null,
      "padding": null,
      "right": null,
      "top": null,
      "visibility": null,
      "width": null
     }
    },
    "9964242d5ad94a189e3e63c4e7accc6c": {
     "model_module": "@jupyter-widgets/base",
     "model_module_version": "1.2.0",
     "model_name": "LayoutModel",
     "state": {
      "_model_module": "@jupyter-widgets/base",
      "_model_module_version": "1.2.0",
      "_model_name": "LayoutModel",
      "_view_count": null,
      "_view_module": "@jupyter-widgets/base",
      "_view_module_version": "1.2.0",
      "_view_name": "LayoutView",
      "align_content": null,
      "align_items": null,
      "align_self": null,
      "border": null,
      "bottom": null,
      "display": null,
      "flex": null,
      "flex_flow": null,
      "grid_area": null,
      "grid_auto_columns": null,
      "grid_auto_flow": null,
      "grid_auto_rows": null,
      "grid_column": null,
      "grid_gap": null,
      "grid_row": null,
      "grid_template_areas": null,
      "grid_template_columns": null,
      "grid_template_rows": null,
      "height": null,
      "justify_content": null,
      "justify_items": null,
      "left": null,
      "margin": null,
      "max_height": null,
      "max_width": null,
      "min_height": null,
      "min_width": null,
      "object_fit": null,
      "object_position": null,
      "order": null,
      "overflow": null,
      "overflow_x": null,
      "overflow_y": null,
      "padding": null,
      "right": null,
      "top": null,
      "visibility": null,
      "width": null
     }
    },
    "9ac017d104414680acffdc4aa1b4ae95": {
     "model_module": "@jupyter-widgets/controls",
     "model_module_version": "1.5.0",
     "model_name": "DescriptionStyleModel",
     "state": {
      "_model_module": "@jupyter-widgets/controls",
      "_model_module_version": "1.5.0",
      "_model_name": "DescriptionStyleModel",
      "_view_count": null,
      "_view_module": "@jupyter-widgets/base",
      "_view_module_version": "1.2.0",
      "_view_name": "StyleView",
      "description_width": ""
     }
    },
    "9c0138daffbb418a93cb3c041ce7deda": {
     "model_module": "@jupyter-widgets/base",
     "model_module_version": "1.2.0",
     "model_name": "LayoutModel",
     "state": {
      "_model_module": "@jupyter-widgets/base",
      "_model_module_version": "1.2.0",
      "_model_name": "LayoutModel",
      "_view_count": null,
      "_view_module": "@jupyter-widgets/base",
      "_view_module_version": "1.2.0",
      "_view_name": "LayoutView",
      "align_content": null,
      "align_items": null,
      "align_self": null,
      "border": null,
      "bottom": null,
      "display": null,
      "flex": null,
      "flex_flow": null,
      "grid_area": null,
      "grid_auto_columns": null,
      "grid_auto_flow": null,
      "grid_auto_rows": null,
      "grid_column": null,
      "grid_gap": null,
      "grid_row": null,
      "grid_template_areas": null,
      "grid_template_columns": null,
      "grid_template_rows": null,
      "height": null,
      "justify_content": null,
      "justify_items": null,
      "left": null,
      "margin": null,
      "max_height": null,
      "max_width": null,
      "min_height": null,
      "min_width": null,
      "object_fit": null,
      "object_position": null,
      "order": null,
      "overflow": null,
      "overflow_x": null,
      "overflow_y": null,
      "padding": null,
      "right": null,
      "top": null,
      "visibility": null,
      "width": null
     }
    },
    "a0b4565dda414a77b77c8ea02f49677a": {
     "model_module": "@jupyter-widgets/base",
     "model_module_version": "1.2.0",
     "model_name": "LayoutModel",
     "state": {
      "_model_module": "@jupyter-widgets/base",
      "_model_module_version": "1.2.0",
      "_model_name": "LayoutModel",
      "_view_count": null,
      "_view_module": "@jupyter-widgets/base",
      "_view_module_version": "1.2.0",
      "_view_name": "LayoutView",
      "align_content": null,
      "align_items": null,
      "align_self": null,
      "border": null,
      "bottom": null,
      "display": null,
      "flex": null,
      "flex_flow": null,
      "grid_area": null,
      "grid_auto_columns": null,
      "grid_auto_flow": null,
      "grid_auto_rows": null,
      "grid_column": null,
      "grid_gap": null,
      "grid_row": null,
      "grid_template_areas": null,
      "grid_template_columns": null,
      "grid_template_rows": null,
      "height": null,
      "justify_content": null,
      "justify_items": null,
      "left": null,
      "margin": null,
      "max_height": null,
      "max_width": null,
      "min_height": null,
      "min_width": null,
      "object_fit": null,
      "object_position": null,
      "order": null,
      "overflow": null,
      "overflow_x": null,
      "overflow_y": null,
      "padding": null,
      "right": null,
      "top": null,
      "visibility": null,
      "width": null
     }
    },
    "a0ebf54e1b2843fbbf5454ad371bd045": {
     "model_module": "@jupyter-widgets/base",
     "model_module_version": "1.2.0",
     "model_name": "LayoutModel",
     "state": {
      "_model_module": "@jupyter-widgets/base",
      "_model_module_version": "1.2.0",
      "_model_name": "LayoutModel",
      "_view_count": null,
      "_view_module": "@jupyter-widgets/base",
      "_view_module_version": "1.2.0",
      "_view_name": "LayoutView",
      "align_content": null,
      "align_items": null,
      "align_self": null,
      "border": null,
      "bottom": null,
      "display": null,
      "flex": null,
      "flex_flow": null,
      "grid_area": null,
      "grid_auto_columns": null,
      "grid_auto_flow": null,
      "grid_auto_rows": null,
      "grid_column": null,
      "grid_gap": null,
      "grid_row": null,
      "grid_template_areas": null,
      "grid_template_columns": null,
      "grid_template_rows": null,
      "height": null,
      "justify_content": null,
      "justify_items": null,
      "left": null,
      "margin": null,
      "max_height": null,
      "max_width": null,
      "min_height": null,
      "min_width": null,
      "object_fit": null,
      "object_position": null,
      "order": null,
      "overflow": null,
      "overflow_x": null,
      "overflow_y": null,
      "padding": null,
      "right": null,
      "top": null,
      "visibility": null,
      "width": null
     }
    },
    "a19cec5a811843c4aa50e9903a9860ef": {
     "model_module": "@jupyter-widgets/controls",
     "model_module_version": "1.5.0",
     "model_name": "ProgressStyleModel",
     "state": {
      "_model_module": "@jupyter-widgets/controls",
      "_model_module_version": "1.5.0",
      "_model_name": "ProgressStyleModel",
      "_view_count": null,
      "_view_module": "@jupyter-widgets/base",
      "_view_module_version": "1.2.0",
      "_view_name": "StyleView",
      "bar_color": null,
      "description_width": ""
     }
    },
    "a1c7ada61d2d45449d8e001bc2c5c1eb": {
     "model_module": "@jupyter-widgets/controls",
     "model_module_version": "1.5.0",
     "model_name": "HBoxModel",
     "state": {
      "_dom_classes": [],
      "_model_module": "@jupyter-widgets/controls",
      "_model_module_version": "1.5.0",
      "_model_name": "HBoxModel",
      "_view_count": null,
      "_view_module": "@jupyter-widgets/controls",
      "_view_module_version": "1.5.0",
      "_view_name": "HBoxView",
      "box_style": "",
      "children": [
       "IPY_MODEL_db936dd0672e45798da317ea006dc3fb",
       "IPY_MODEL_c77737d4a3c043f6a409117e74b568f8",
       "IPY_MODEL_06dca8f971a148bb95cf8573b2fdf44b"
      ],
      "layout": "IPY_MODEL_09e087a721da4d42bb4b17d4927a9df5"
     }
    },
    "a5c8b61165404fb19e046e68d073b867": {
     "model_module": "@jupyter-widgets/base",
     "model_module_version": "1.2.0",
     "model_name": "LayoutModel",
     "state": {
      "_model_module": "@jupyter-widgets/base",
      "_model_module_version": "1.2.0",
      "_model_name": "LayoutModel",
      "_view_count": null,
      "_view_module": "@jupyter-widgets/base",
      "_view_module_version": "1.2.0",
      "_view_name": "LayoutView",
      "align_content": null,
      "align_items": null,
      "align_self": null,
      "border": null,
      "bottom": null,
      "display": null,
      "flex": null,
      "flex_flow": null,
      "grid_area": null,
      "grid_auto_columns": null,
      "grid_auto_flow": null,
      "grid_auto_rows": null,
      "grid_column": null,
      "grid_gap": null,
      "grid_row": null,
      "grid_template_areas": null,
      "grid_template_columns": null,
      "grid_template_rows": null,
      "height": null,
      "justify_content": null,
      "justify_items": null,
      "left": null,
      "margin": null,
      "max_height": null,
      "max_width": null,
      "min_height": null,
      "min_width": null,
      "object_fit": null,
      "object_position": null,
      "order": null,
      "overflow": null,
      "overflow_x": null,
      "overflow_y": null,
      "padding": null,
      "right": null,
      "top": null,
      "visibility": null,
      "width": null
     }
    },
    "a64eeee1822e424d8da31b54da6de3c8": {
     "model_module": "@jupyter-widgets/controls",
     "model_module_version": "1.5.0",
     "model_name": "HTMLModel",
     "state": {
      "_dom_classes": [],
      "_model_module": "@jupyter-widgets/controls",
      "_model_module_version": "1.5.0",
      "_model_name": "HTMLModel",
      "_view_count": null,
      "_view_module": "@jupyter-widgets/controls",
      "_view_module_version": "1.5.0",
      "_view_name": "HTMLView",
      "description": "",
      "description_tooltip": null,
      "layout": "IPY_MODEL_95f24bad29d64717bc2ce82a242c3951",
      "placeholder": "​",
      "style": "IPY_MODEL_242d514ee3304cc7a23676e394c7c316",
      "value": "100%"
     }
    },
    "b5c3a5e35a9144e68d88540f1ac918a9": {
     "model_module": "@jupyter-widgets/controls",
     "model_module_version": "1.5.0",
     "model_name": "HTMLModel",
     "state": {
      "_dom_classes": [],
      "_model_module": "@jupyter-widgets/controls",
      "_model_module_version": "1.5.0",
      "_model_name": "HTMLModel",
      "_view_count": null,
      "_view_module": "@jupyter-widgets/controls",
      "_view_module_version": "1.5.0",
      "_view_name": "HTMLView",
      "description": "",
      "description_tooltip": null,
      "layout": "IPY_MODEL_a5c8b61165404fb19e046e68d073b867",
      "placeholder": "​",
      "style": "IPY_MODEL_eb3d9404e1574e7bb6320692a0032d8d",
      "value": "100%"
     }
    },
    "c444f03dff6e40f6909d547e5739a018": {
     "model_module": "@jupyter-widgets/controls",
     "model_module_version": "1.5.0",
     "model_name": "DescriptionStyleModel",
     "state": {
      "_model_module": "@jupyter-widgets/controls",
      "_model_module_version": "1.5.0",
      "_model_name": "DescriptionStyleModel",
      "_view_count": null,
      "_view_module": "@jupyter-widgets/base",
      "_view_module_version": "1.2.0",
      "_view_name": "StyleView",
      "description_width": ""
     }
    },
    "c77737d4a3c043f6a409117e74b568f8": {
     "model_module": "@jupyter-widgets/controls",
     "model_module_version": "1.5.0",
     "model_name": "FloatProgressModel",
     "state": {
      "_dom_classes": [],
      "_model_module": "@jupyter-widgets/controls",
      "_model_module_version": "1.5.0",
      "_model_name": "FloatProgressModel",
      "_view_count": null,
      "_view_module": "@jupyter-widgets/controls",
      "_view_module_version": "1.5.0",
      "_view_name": "ProgressView",
      "bar_style": "success",
      "description": "",
      "description_tooltip": null,
      "layout": "IPY_MODEL_20efdad956f842b0a8b8bbe607980dac",
      "max": 3873,
      "min": 0,
      "orientation": "horizontal",
      "style": "IPY_MODEL_720f2d4e2344409c839ae8b8b2221dd0",
      "value": 3873
     }
    },
    "cdc31d5ca00b462b9833642149ebc566": {
     "model_module": "@jupyter-widgets/base",
     "model_module_version": "1.2.0",
     "model_name": "LayoutModel",
     "state": {
      "_model_module": "@jupyter-widgets/base",
      "_model_module_version": "1.2.0",
      "_model_name": "LayoutModel",
      "_view_count": null,
      "_view_module": "@jupyter-widgets/base",
      "_view_module_version": "1.2.0",
      "_view_name": "LayoutView",
      "align_content": null,
      "align_items": null,
      "align_self": null,
      "border": null,
      "bottom": null,
      "display": null,
      "flex": null,
      "flex_flow": null,
      "grid_area": null,
      "grid_auto_columns": null,
      "grid_auto_flow": null,
      "grid_auto_rows": null,
      "grid_column": null,
      "grid_gap": null,
      "grid_row": null,
      "grid_template_areas": null,
      "grid_template_columns": null,
      "grid_template_rows": null,
      "height": null,
      "justify_content": null,
      "justify_items": null,
      "left": null,
      "margin": null,
      "max_height": null,
      "max_width": null,
      "min_height": null,
      "min_width": null,
      "object_fit": null,
      "object_position": null,
      "order": null,
      "overflow": null,
      "overflow_x": null,
      "overflow_y": null,
      "padding": null,
      "right": null,
      "top": null,
      "visibility": null,
      "width": null
     }
    },
    "d111f4875072446a900fa5626e4d91bd": {
     "model_module": "@jupyter-widgets/controls",
     "model_module_version": "1.5.0",
     "model_name": "HTMLModel",
     "state": {
      "_dom_classes": [],
      "_model_module": "@jupyter-widgets/controls",
      "_model_module_version": "1.5.0",
      "_model_name": "HTMLModel",
      "_view_count": null,
      "_view_module": "@jupyter-widgets/controls",
      "_view_module_version": "1.5.0",
      "_view_name": "HTMLView",
      "description": "",
      "description_tooltip": null,
      "layout": "IPY_MODEL_2693102ee9cc42eba3cdd0ccdb10884b",
      "placeholder": "​",
      "style": "IPY_MODEL_2da9ced8dc904e599ee003e286068842",
      "value": " 50/50 [00:25&lt;00:00,  2.18it/s]"
     }
    },
    "d9899d4516b54c90809425be23aed45d": {
     "model_module": "@jupyter-widgets/controls",
     "model_module_version": "1.5.0",
     "model_name": "FloatProgressModel",
     "state": {
      "_dom_classes": [],
      "_model_module": "@jupyter-widgets/controls",
      "_model_module_version": "1.5.0",
      "_model_name": "FloatProgressModel",
      "_view_count": null,
      "_view_module": "@jupyter-widgets/controls",
      "_view_module_version": "1.5.0",
      "_view_name": "ProgressView",
      "bar_style": "success",
      "description": "",
      "description_tooltip": null,
      "layout": "IPY_MODEL_a0ebf54e1b2843fbbf5454ad371bd045",
      "max": 4,
      "min": 0,
      "orientation": "horizontal",
      "style": "IPY_MODEL_dc300baf7ca94ec89d8f5f615fe2b799",
      "value": 4
     }
    },
    "db936dd0672e45798da317ea006dc3fb": {
     "model_module": "@jupyter-widgets/controls",
     "model_module_version": "1.5.0",
     "model_name": "HTMLModel",
     "state": {
      "_dom_classes": [],
      "_model_module": "@jupyter-widgets/controls",
      "_model_module_version": "1.5.0",
      "_model_name": "HTMLModel",
      "_view_count": null,
      "_view_module": "@jupyter-widgets/controls",
      "_view_module_version": "1.5.0",
      "_view_name": "HTMLView",
      "description": "",
      "description_tooltip": null,
      "layout": "IPY_MODEL_4602bfd108804e8a81527d64d5fbe682",
      "placeholder": "​",
      "style": "IPY_MODEL_83b0ad6d019341bf987212a79d28357f",
      "value": "100%"
     }
    },
    "dc300baf7ca94ec89d8f5f615fe2b799": {
     "model_module": "@jupyter-widgets/controls",
     "model_module_version": "1.5.0",
     "model_name": "ProgressStyleModel",
     "state": {
      "_model_module": "@jupyter-widgets/controls",
      "_model_module_version": "1.5.0",
      "_model_name": "ProgressStyleModel",
      "_view_count": null,
      "_view_module": "@jupyter-widgets/base",
      "_view_module_version": "1.2.0",
      "_view_name": "StyleView",
      "bar_color": null,
      "description_width": ""
     }
    },
    "e426aef8bb5b4e61ba8758ce7fa573eb": {
     "model_module": "@jupyter-widgets/controls",
     "model_module_version": "1.5.0",
     "model_name": "FloatProgressModel",
     "state": {
      "_dom_classes": [],
      "_model_module": "@jupyter-widgets/controls",
      "_model_module_version": "1.5.0",
      "_model_name": "FloatProgressModel",
      "_view_count": null,
      "_view_module": "@jupyter-widgets/controls",
      "_view_module_version": "1.5.0",
      "_view_name": "ProgressView",
      "bar_style": "",
      "description": "",
      "description_tooltip": null,
      "layout": "IPY_MODEL_631a83c893664e829b7887b98d6507d4",
      "max": 3873,
      "min": 0,
      "orientation": "horizontal",
      "style": "IPY_MODEL_389807371fdb4dddbcf2415e3e633538",
      "value": 3873
     }
    },
    "eb3d9404e1574e7bb6320692a0032d8d": {
     "model_module": "@jupyter-widgets/controls",
     "model_module_version": "1.5.0",
     "model_name": "DescriptionStyleModel",
     "state": {
      "_model_module": "@jupyter-widgets/controls",
      "_model_module_version": "1.5.0",
      "_model_name": "DescriptionStyleModel",
      "_view_count": null,
      "_view_module": "@jupyter-widgets/base",
      "_view_module_version": "1.2.0",
      "_view_name": "StyleView",
      "description_width": ""
     }
    },
    "ebce735551bb4a3d89cc8bd6039bbf90": {
     "model_module": "@jupyter-widgets/controls",
     "model_module_version": "1.5.0",
     "model_name": "HTMLModel",
     "state": {
      "_dom_classes": [],
      "_model_module": "@jupyter-widgets/controls",
      "_model_module_version": "1.5.0",
      "_model_name": "HTMLModel",
      "_view_count": null,
      "_view_module": "@jupyter-widgets/controls",
      "_view_module_version": "1.5.0",
      "_view_name": "HTMLView",
      "description": "",
      "description_tooltip": null,
      "layout": "IPY_MODEL_cdc31d5ca00b462b9833642149ebc566",
      "placeholder": "​",
      "style": "IPY_MODEL_6e479b6767914122868216a3601d8a67",
      "value": " 3847/3873 [00:09&lt;00:00, 481.14it/s]"
     }
    },
    "ed71268e0c39467a8271148bb68d0753": {
     "model_module": "@jupyter-widgets/controls",
     "model_module_version": "1.5.0",
     "model_name": "DescriptionStyleModel",
     "state": {
      "_model_module": "@jupyter-widgets/controls",
      "_model_module_version": "1.5.0",
      "_model_name": "DescriptionStyleModel",
      "_view_count": null,
      "_view_module": "@jupyter-widgets/base",
      "_view_module_version": "1.2.0",
      "_view_name": "StyleView",
      "description_width": ""
     }
    },
    "f4dff16cc9a1438c9adf2bd2da197035": {
     "model_module": "@jupyter-widgets/base",
     "model_module_version": "1.2.0",
     "model_name": "LayoutModel",
     "state": {
      "_model_module": "@jupyter-widgets/base",
      "_model_module_version": "1.2.0",
      "_model_name": "LayoutModel",
      "_view_count": null,
      "_view_module": "@jupyter-widgets/base",
      "_view_module_version": "1.2.0",
      "_view_name": "LayoutView",
      "align_content": null,
      "align_items": null,
      "align_self": null,
      "border": null,
      "bottom": null,
      "display": null,
      "flex": null,
      "flex_flow": null,
      "grid_area": null,
      "grid_auto_columns": null,
      "grid_auto_flow": null,
      "grid_auto_rows": null,
      "grid_column": null,
      "grid_gap": null,
      "grid_row": null,
      "grid_template_areas": null,
      "grid_template_columns": null,
      "grid_template_rows": null,
      "height": null,
      "justify_content": null,
      "justify_items": null,
      "left": null,
      "margin": null,
      "max_height": null,
      "max_width": null,
      "min_height": null,
      "min_width": null,
      "object_fit": null,
      "object_position": null,
      "order": null,
      "overflow": null,
      "overflow_x": null,
      "overflow_y": null,
      "padding": null,
      "right": null,
      "top": null,
      "visibility": null,
      "width": null
     }
    },
    "f5d843caf9bb4d3fa5b758e5564e2628": {
     "model_module": "@jupyter-widgets/controls",
     "model_module_version": "1.5.0",
     "model_name": "DescriptionStyleModel",
     "state": {
      "_model_module": "@jupyter-widgets/controls",
      "_model_module_version": "1.5.0",
      "_model_name": "DescriptionStyleModel",
      "_view_count": null,
      "_view_module": "@jupyter-widgets/base",
      "_view_module_version": "1.2.0",
      "_view_name": "StyleView",
      "description_width": ""
     }
    },
    "f68a77274ceb4e83a9e23eb64cdc7d2f": {
     "model_module": "@jupyter-widgets/controls",
     "model_module_version": "1.5.0",
     "model_name": "HTMLModel",
     "state": {
      "_dom_classes": [],
      "_model_module": "@jupyter-widgets/controls",
      "_model_module_version": "1.5.0",
      "_model_name": "HTMLModel",
      "_view_count": null,
      "_view_module": "@jupyter-widgets/controls",
      "_view_module_version": "1.5.0",
      "_view_name": "HTMLView",
      "description": "",
      "description_tooltip": null,
      "layout": "IPY_MODEL_65f1719536904f679d4b31b4282dfdd5",
      "placeholder": "​",
      "style": "IPY_MODEL_6ad61718d1294136bb5c8dfa92f12a47",
      "value": "Sampling biased random walks:  99%"
     }
    },
    "fc28deb5ea6d407699578ee033965805": {
     "model_module": "@jupyter-widgets/controls",
     "model_module_version": "1.5.0",
     "model_name": "DescriptionStyleModel",
     "state": {
      "_model_module": "@jupyter-widgets/controls",
      "_model_module_version": "1.5.0",
      "_model_name": "DescriptionStyleModel",
      "_view_count": null,
      "_view_module": "@jupyter-widgets/base",
      "_view_module_version": "1.2.0",
      "_view_name": "StyleView",
      "description_width": ""
     }
    },
    "fcbd086ac66f40eeb578d7f2c3dc8dcf": {
     "model_module": "@jupyter-widgets/base",
     "model_module_version": "1.2.0",
     "model_name": "LayoutModel",
     "state": {
      "_model_module": "@jupyter-widgets/base",
      "_model_module_version": "1.2.0",
      "_model_name": "LayoutModel",
      "_view_count": null,
      "_view_module": "@jupyter-widgets/base",
      "_view_module_version": "1.2.0",
      "_view_name": "LayoutView",
      "align_content": null,
      "align_items": null,
      "align_self": null,
      "border": null,
      "bottom": null,
      "display": null,
      "flex": null,
      "flex_flow": null,
      "grid_area": null,
      "grid_auto_columns": null,
      "grid_auto_flow": null,
      "grid_auto_rows": null,
      "grid_column": null,
      "grid_gap": null,
      "grid_row": null,
      "grid_template_areas": null,
      "grid_template_columns": null,
      "grid_template_rows": null,
      "height": null,
      "justify_content": null,
      "justify_items": null,
      "left": null,
      "margin": null,
      "max_height": null,
      "max_width": null,
      "min_height": null,
      "min_width": null,
      "object_fit": null,
      "object_position": null,
      "order": null,
      "overflow": null,
      "overflow_x": null,
      "overflow_y": null,
      "padding": null,
      "right": null,
      "top": null,
      "visibility": null,
      "width": null
     }
    },
    "ffbd6ce4d2ec436b808edd8a79eb5ac5": {
     "model_module": "@jupyter-widgets/base",
     "model_module_version": "1.2.0",
     "model_name": "LayoutModel",
     "state": {
      "_model_module": "@jupyter-widgets/base",
      "_model_module_version": "1.2.0",
      "_model_name": "LayoutModel",
      "_view_count": null,
      "_view_module": "@jupyter-widgets/base",
      "_view_module_version": "1.2.0",
      "_view_name": "LayoutView",
      "align_content": null,
      "align_items": null,
      "align_self": null,
      "border": null,
      "bottom": null,
      "display": null,
      "flex": null,
      "flex_flow": null,
      "grid_area": null,
      "grid_auto_columns": null,
      "grid_auto_flow": null,
      "grid_auto_rows": null,
      "grid_column": null,
      "grid_gap": null,
      "grid_row": null,
      "grid_template_areas": null,
      "grid_template_columns": null,
      "grid_template_rows": null,
      "height": null,
      "justify_content": null,
      "justify_items": null,
      "left": null,
      "margin": null,
      "max_height": null,
      "max_width": null,
      "min_height": null,
      "min_width": null,
      "object_fit": null,
      "object_position": null,
      "order": null,
      "overflow": null,
      "overflow_x": null,
      "overflow_y": null,
      "padding": null,
      "right": null,
      "top": null,
      "visibility": null,
      "width": null
     }
    }
   }
  }
 },
 "nbformat": 4,
 "nbformat_minor": 5
}
