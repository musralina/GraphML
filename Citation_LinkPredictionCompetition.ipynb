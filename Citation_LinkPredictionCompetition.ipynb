{
 "cells": [
  {
   "cell_type": "code",
   "execution_count": 1,
   "id": "05c2e6fd",
   "metadata": {},
   "outputs": [],
   "source": [
    "from sklearn.metrics import roc_curve, auc\n",
    "import numpy as np\n",
    "import matplotlib.pyplot as plt\n",
    "import pandas as pd\n",
    "from tqdm.notebook import tqdm\n",
    "from sklearn.model_selection import train_test_split\n",
    "from sklearn.metrics import accuracy_score\n",
    "import xgboost\n",
    "from sklearn import preprocessing"
   ]
  },
  {
   "cell_type": "code",
   "execution_count": 2,
   "id": "27a850f0",
   "metadata": {},
   "outputs": [
    {
     "data": {
      "text/html": [
       "<div>\n",
       "<style scoped>\n",
       "    .dataframe tbody tr th:only-of-type {\n",
       "        vertical-align: middle;\n",
       "    }\n",
       "\n",
       "    .dataframe tbody tr th {\n",
       "        vertical-align: top;\n",
       "    }\n",
       "\n",
       "    .dataframe thead th {\n",
       "        text-align: right;\n",
       "    }\n",
       "</style>\n",
       "<table border=\"1\" class=\"dataframe\">\n",
       "  <thead>\n",
       "    <tr style=\"text-align: right;\">\n",
       "      <th></th>\n",
       "      <th>0</th>\n",
       "      <th>1</th>\n",
       "      <th>2</th>\n",
       "      <th>3</th>\n",
       "      <th>4</th>\n",
       "      <th>5</th>\n",
       "      <th>6</th>\n",
       "      <th>7</th>\n",
       "      <th>8</th>\n",
       "      <th>9</th>\n",
       "      <th>...</th>\n",
       "      <th>22</th>\n",
       "      <th>23</th>\n",
       "      <th>24</th>\n",
       "      <th>25</th>\n",
       "      <th>26</th>\n",
       "      <th>27</th>\n",
       "      <th>28</th>\n",
       "      <th>29</th>\n",
       "      <th>30</th>\n",
       "      <th>31</th>\n",
       "    </tr>\n",
       "  </thead>\n",
       "  <tbody>\n",
       "    <tr>\n",
       "      <th>0</th>\n",
       "      <td>0.077034</td>\n",
       "      <td>-0.065027</td>\n",
       "      <td>-0.135552</td>\n",
       "      <td>0.007305</td>\n",
       "      <td>-0.019618</td>\n",
       "      <td>-0.129522</td>\n",
       "      <td>-0.394962</td>\n",
       "      <td>-0.096774</td>\n",
       "      <td>-0.549495</td>\n",
       "      <td>-0.229680</td>\n",
       "      <td>...</td>\n",
       "      <td>0.329416</td>\n",
       "      <td>0.634487</td>\n",
       "      <td>-0.183202</td>\n",
       "      <td>0.280506</td>\n",
       "      <td>0.017737</td>\n",
       "      <td>-0.141899</td>\n",
       "      <td>0.300271</td>\n",
       "      <td>-0.148616</td>\n",
       "      <td>0.042472</td>\n",
       "      <td>-0.092819</td>\n",
       "    </tr>\n",
       "    <tr>\n",
       "      <th>1</th>\n",
       "      <td>0.090406</td>\n",
       "      <td>-0.055498</td>\n",
       "      <td>-0.199454</td>\n",
       "      <td>-0.073101</td>\n",
       "      <td>0.129980</td>\n",
       "      <td>-0.168792</td>\n",
       "      <td>-0.498300</td>\n",
       "      <td>0.012366</td>\n",
       "      <td>-0.517318</td>\n",
       "      <td>-0.344800</td>\n",
       "      <td>...</td>\n",
       "      <td>0.262000</td>\n",
       "      <td>0.534585</td>\n",
       "      <td>-0.284113</td>\n",
       "      <td>0.193362</td>\n",
       "      <td>-0.017993</td>\n",
       "      <td>0.133143</td>\n",
       "      <td>0.415925</td>\n",
       "      <td>-0.205510</td>\n",
       "      <td>-0.057315</td>\n",
       "      <td>-0.221824</td>\n",
       "    </tr>\n",
       "    <tr>\n",
       "      <th>2</th>\n",
       "      <td>0.036018</td>\n",
       "      <td>-0.276833</td>\n",
       "      <td>-0.006313</td>\n",
       "      <td>0.365836</td>\n",
       "      <td>-0.054446</td>\n",
       "      <td>-0.388111</td>\n",
       "      <td>-0.310889</td>\n",
       "      <td>-0.128666</td>\n",
       "      <td>-0.691407</td>\n",
       "      <td>-0.319269</td>\n",
       "      <td>...</td>\n",
       "      <td>0.416217</td>\n",
       "      <td>0.616074</td>\n",
       "      <td>-0.175263</td>\n",
       "      <td>0.126960</td>\n",
       "      <td>0.048850</td>\n",
       "      <td>0.135687</td>\n",
       "      <td>0.397666</td>\n",
       "      <td>0.022077</td>\n",
       "      <td>0.115069</td>\n",
       "      <td>-0.050359</td>\n",
       "    </tr>\n",
       "    <tr>\n",
       "      <th>3</th>\n",
       "      <td>0.103949</td>\n",
       "      <td>0.141362</td>\n",
       "      <td>-0.234800</td>\n",
       "      <td>0.038294</td>\n",
       "      <td>0.029006</td>\n",
       "      <td>-0.042764</td>\n",
       "      <td>-0.260278</td>\n",
       "      <td>-0.073697</td>\n",
       "      <td>-0.443563</td>\n",
       "      <td>-0.339663</td>\n",
       "      <td>...</td>\n",
       "      <td>0.144633</td>\n",
       "      <td>0.384818</td>\n",
       "      <td>-0.301781</td>\n",
       "      <td>0.235658</td>\n",
       "      <td>-0.114685</td>\n",
       "      <td>0.138715</td>\n",
       "      <td>0.108334</td>\n",
       "      <td>-0.113345</td>\n",
       "      <td>-0.067795</td>\n",
       "      <td>-0.181579</td>\n",
       "    </tr>\n",
       "    <tr>\n",
       "      <th>4</th>\n",
       "      <td>-0.031268</td>\n",
       "      <td>0.008753</td>\n",
       "      <td>-0.352797</td>\n",
       "      <td>-0.175202</td>\n",
       "      <td>0.124375</td>\n",
       "      <td>-0.166064</td>\n",
       "      <td>-0.467233</td>\n",
       "      <td>-0.056786</td>\n",
       "      <td>-0.466632</td>\n",
       "      <td>-0.372931</td>\n",
       "      <td>...</td>\n",
       "      <td>0.415152</td>\n",
       "      <td>0.578069</td>\n",
       "      <td>-0.262672</td>\n",
       "      <td>0.017259</td>\n",
       "      <td>-0.017925</td>\n",
       "      <td>0.197143</td>\n",
       "      <td>0.425531</td>\n",
       "      <td>-0.134342</td>\n",
       "      <td>0.073450</td>\n",
       "      <td>-0.063862</td>\n",
       "    </tr>\n",
       "  </tbody>\n",
       "</table>\n",
       "<p>5 rows × 32 columns</p>\n",
       "</div>"
      ],
      "text/plain": [
       "         0         1         2         3         4         5         6   \\\n",
       "0  0.077034 -0.065027 -0.135552  0.007305 -0.019618 -0.129522 -0.394962   \n",
       "1  0.090406 -0.055498 -0.199454 -0.073101  0.129980 -0.168792 -0.498300   \n",
       "2  0.036018 -0.276833 -0.006313  0.365836 -0.054446 -0.388111 -0.310889   \n",
       "3  0.103949  0.141362 -0.234800  0.038294  0.029006 -0.042764 -0.260278   \n",
       "4 -0.031268  0.008753 -0.352797 -0.175202  0.124375 -0.166064 -0.467233   \n",
       "\n",
       "         7         8         9   ...        22        23        24        25  \\\n",
       "0 -0.096774 -0.549495 -0.229680  ...  0.329416  0.634487 -0.183202  0.280506   \n",
       "1  0.012366 -0.517318 -0.344800  ...  0.262000  0.534585 -0.284113  0.193362   \n",
       "2 -0.128666 -0.691407 -0.319269  ...  0.416217  0.616074 -0.175263  0.126960   \n",
       "3 -0.073697 -0.443563 -0.339663  ...  0.144633  0.384818 -0.301781  0.235658   \n",
       "4 -0.056786 -0.466632 -0.372931  ...  0.415152  0.578069 -0.262672  0.017259   \n",
       "\n",
       "         26        27        28        29        30        31  \n",
       "0  0.017737 -0.141899  0.300271 -0.148616  0.042472 -0.092819  \n",
       "1 -0.017993  0.133143  0.415925 -0.205510 -0.057315 -0.221824  \n",
       "2  0.048850  0.135687  0.397666  0.022077  0.115069 -0.050359  \n",
       "3 -0.114685  0.138715  0.108334 -0.113345 -0.067795 -0.181579  \n",
       "4 -0.017925  0.197143  0.425531 -0.134342  0.073450 -0.063862  \n",
       "\n",
       "[5 rows x 32 columns]"
      ]
     },
     "execution_count": 2,
     "metadata": {},
     "output_type": "execute_result"
    }
   ],
   "source": [
    "data_node = pd.read_csv('node_feat.txt', sep=' ', header =None)\n",
    "data_node.head(5)"
   ]
  },
  {
   "cell_type": "code",
   "execution_count": 3,
   "id": "053f50f9",
   "metadata": {},
   "outputs": [
    {
     "data": {
      "text/html": [
       "<div>\n",
       "<style scoped>\n",
       "    .dataframe tbody tr th:only-of-type {\n",
       "        vertical-align: middle;\n",
       "    }\n",
       "\n",
       "    .dataframe tbody tr th {\n",
       "        vertical-align: top;\n",
       "    }\n",
       "\n",
       "    .dataframe thead th {\n",
       "        text-align: right;\n",
       "    }\n",
       "</style>\n",
       "<table border=\"1\" class=\"dataframe\">\n",
       "  <thead>\n",
       "    <tr style=\"text-align: right;\">\n",
       "      <th></th>\n",
       "      <th>0</th>\n",
       "      <th>1</th>\n",
       "      <th>2</th>\n",
       "      <th>3</th>\n",
       "      <th>4</th>\n",
       "      <th>5</th>\n",
       "      <th>6</th>\n",
       "      <th>7</th>\n",
       "      <th>8</th>\n",
       "      <th>9</th>\n",
       "      <th>...</th>\n",
       "      <th>22</th>\n",
       "      <th>23</th>\n",
       "      <th>24</th>\n",
       "      <th>25</th>\n",
       "      <th>26</th>\n",
       "      <th>27</th>\n",
       "      <th>28</th>\n",
       "      <th>29</th>\n",
       "      <th>30</th>\n",
       "      <th>31</th>\n",
       "    </tr>\n",
       "  </thead>\n",
       "  <tbody>\n",
       "    <tr>\n",
       "      <th>count</th>\n",
       "      <td>12588.000000</td>\n",
       "      <td>12588.000000</td>\n",
       "      <td>12588.000000</td>\n",
       "      <td>12588.000000</td>\n",
       "      <td>12588.000000</td>\n",
       "      <td>12588.000000</td>\n",
       "      <td>12588.000000</td>\n",
       "      <td>12588.000000</td>\n",
       "      <td>12588.000000</td>\n",
       "      <td>12588.000000</td>\n",
       "      <td>...</td>\n",
       "      <td>12588.000000</td>\n",
       "      <td>12588.000000</td>\n",
       "      <td>12588.000000</td>\n",
       "      <td>12588.000000</td>\n",
       "      <td>12588.000000</td>\n",
       "      <td>12588.000000</td>\n",
       "      <td>12588.000000</td>\n",
       "      <td>12588.000000</td>\n",
       "      <td>12588.000000</td>\n",
       "      <td>12588.000000</td>\n",
       "    </tr>\n",
       "    <tr>\n",
       "      <th>mean</th>\n",
       "      <td>0.090193</td>\n",
       "      <td>-0.079525</td>\n",
       "      <td>-0.191610</td>\n",
       "      <td>0.030007</td>\n",
       "      <td>0.008997</td>\n",
       "      <td>0.072283</td>\n",
       "      <td>-0.252537</td>\n",
       "      <td>-0.103589</td>\n",
       "      <td>-0.402835</td>\n",
       "      <td>-0.342028</td>\n",
       "      <td>...</td>\n",
       "      <td>0.299722</td>\n",
       "      <td>0.337550</td>\n",
       "      <td>-0.223755</td>\n",
       "      <td>0.223197</td>\n",
       "      <td>0.050400</td>\n",
       "      <td>-0.032009</td>\n",
       "      <td>0.226407</td>\n",
       "      <td>0.038605</td>\n",
       "      <td>0.011955</td>\n",
       "      <td>-0.065193</td>\n",
       "    </tr>\n",
       "    <tr>\n",
       "      <th>std</th>\n",
       "      <td>0.121774</td>\n",
       "      <td>0.113718</td>\n",
       "      <td>0.123126</td>\n",
       "      <td>0.132649</td>\n",
       "      <td>0.133527</td>\n",
       "      <td>0.188416</td>\n",
       "      <td>0.129135</td>\n",
       "      <td>0.113652</td>\n",
       "      <td>0.158540</td>\n",
       "      <td>0.122041</td>\n",
       "      <td>...</td>\n",
       "      <td>0.120253</td>\n",
       "      <td>0.132676</td>\n",
       "      <td>0.207476</td>\n",
       "      <td>0.172227</td>\n",
       "      <td>0.133497</td>\n",
       "      <td>0.142489</td>\n",
       "      <td>0.252871</td>\n",
       "      <td>0.160819</td>\n",
       "      <td>0.114222</td>\n",
       "      <td>0.158416</td>\n",
       "    </tr>\n",
       "    <tr>\n",
       "      <th>min</th>\n",
       "      <td>-0.838912</td>\n",
       "      <td>-0.946322</td>\n",
       "      <td>-0.787688</td>\n",
       "      <td>-0.728387</td>\n",
       "      <td>-0.584124</td>\n",
       "      <td>-0.840386</td>\n",
       "      <td>-0.876168</td>\n",
       "      <td>-0.758103</td>\n",
       "      <td>-1.257275</td>\n",
       "      <td>-1.231022</td>\n",
       "      <td>...</td>\n",
       "      <td>-0.278896</td>\n",
       "      <td>-0.247378</td>\n",
       "      <td>-1.210938</td>\n",
       "      <td>-0.534148</td>\n",
       "      <td>-0.668559</td>\n",
       "      <td>-0.764766</td>\n",
       "      <td>-0.778509</td>\n",
       "      <td>-0.427536</td>\n",
       "      <td>-0.468028</td>\n",
       "      <td>-0.611171</td>\n",
       "    </tr>\n",
       "    <tr>\n",
       "      <th>25%</th>\n",
       "      <td>0.015398</td>\n",
       "      <td>-0.148150</td>\n",
       "      <td>-0.267881</td>\n",
       "      <td>-0.051878</td>\n",
       "      <td>-0.077811</td>\n",
       "      <td>-0.040884</td>\n",
       "      <td>-0.329359</td>\n",
       "      <td>-0.176297</td>\n",
       "      <td>-0.488478</td>\n",
       "      <td>-0.411889</td>\n",
       "      <td>...</td>\n",
       "      <td>0.225654</td>\n",
       "      <td>0.252785</td>\n",
       "      <td>-0.318863</td>\n",
       "      <td>0.118512</td>\n",
       "      <td>-0.037451</td>\n",
       "      <td>-0.124591</td>\n",
       "      <td>0.198051</td>\n",
       "      <td>-0.066524</td>\n",
       "      <td>-0.061589</td>\n",
       "      <td>-0.173881</td>\n",
       "    </tr>\n",
       "    <tr>\n",
       "      <th>50%</th>\n",
       "      <td>0.088614</td>\n",
       "      <td>-0.073038</td>\n",
       "      <td>-0.192843</td>\n",
       "      <td>0.030884</td>\n",
       "      <td>0.002645</td>\n",
       "      <td>0.047862</td>\n",
       "      <td>-0.254719</td>\n",
       "      <td>-0.109022</td>\n",
       "      <td>-0.404042</td>\n",
       "      <td>-0.333987</td>\n",
       "      <td>...</td>\n",
       "      <td>0.303901</td>\n",
       "      <td>0.335452</td>\n",
       "      <td>-0.189443</td>\n",
       "      <td>0.206041</td>\n",
       "      <td>0.041247</td>\n",
       "      <td>-0.037187</td>\n",
       "      <td>0.300782</td>\n",
       "      <td>-0.000689</td>\n",
       "      <td>0.006209</td>\n",
       "      <td>-0.093370</td>\n",
       "    </tr>\n",
       "    <tr>\n",
       "      <th>75%</th>\n",
       "      <td>0.167183</td>\n",
       "      <td>-0.004077</td>\n",
       "      <td>-0.118292</td>\n",
       "      <td>0.112625</td>\n",
       "      <td>0.088846</td>\n",
       "      <td>0.150181</td>\n",
       "      <td>-0.182835</td>\n",
       "      <td>-0.035248</td>\n",
       "      <td>-0.320991</td>\n",
       "      <td>-0.265317</td>\n",
       "      <td>...</td>\n",
       "      <td>0.377640</td>\n",
       "      <td>0.417276</td>\n",
       "      <td>-0.095346</td>\n",
       "      <td>0.301201</td>\n",
       "      <td>0.127548</td>\n",
       "      <td>0.052250</td>\n",
       "      <td>0.376541</td>\n",
       "      <td>0.094537</td>\n",
       "      <td>0.077484</td>\n",
       "      <td>0.015797</td>\n",
       "    </tr>\n",
       "    <tr>\n",
       "      <th>max</th>\n",
       "      <td>0.835071</td>\n",
       "      <td>0.422870</td>\n",
       "      <td>0.760966</td>\n",
       "      <td>0.720146</td>\n",
       "      <td>0.877524</td>\n",
       "      <td>1.170290</td>\n",
       "      <td>0.586612</td>\n",
       "      <td>0.598054</td>\n",
       "      <td>0.714933</td>\n",
       "      <td>0.607762</td>\n",
       "      <td>...</td>\n",
       "      <td>0.876032</td>\n",
       "      <td>1.305560</td>\n",
       "      <td>0.986242</td>\n",
       "      <td>1.008080</td>\n",
       "      <td>0.785764</td>\n",
       "      <td>0.840138</td>\n",
       "      <td>0.955922</td>\n",
       "      <td>0.791234</td>\n",
       "      <td>0.784560</td>\n",
       "      <td>0.655755</td>\n",
       "    </tr>\n",
       "  </tbody>\n",
       "</table>\n",
       "<p>8 rows × 32 columns</p>\n",
       "</div>"
      ],
      "text/plain": [
       "                 0             1             2             3             4   \\\n",
       "count  12588.000000  12588.000000  12588.000000  12588.000000  12588.000000   \n",
       "mean       0.090193     -0.079525     -0.191610      0.030007      0.008997   \n",
       "std        0.121774      0.113718      0.123126      0.132649      0.133527   \n",
       "min       -0.838912     -0.946322     -0.787688     -0.728387     -0.584124   \n",
       "25%        0.015398     -0.148150     -0.267881     -0.051878     -0.077811   \n",
       "50%        0.088614     -0.073038     -0.192843      0.030884      0.002645   \n",
       "75%        0.167183     -0.004077     -0.118292      0.112625      0.088846   \n",
       "max        0.835071      0.422870      0.760966      0.720146      0.877524   \n",
       "\n",
       "                 5             6             7             8             9   \\\n",
       "count  12588.000000  12588.000000  12588.000000  12588.000000  12588.000000   \n",
       "mean       0.072283     -0.252537     -0.103589     -0.402835     -0.342028   \n",
       "std        0.188416      0.129135      0.113652      0.158540      0.122041   \n",
       "min       -0.840386     -0.876168     -0.758103     -1.257275     -1.231022   \n",
       "25%       -0.040884     -0.329359     -0.176297     -0.488478     -0.411889   \n",
       "50%        0.047862     -0.254719     -0.109022     -0.404042     -0.333987   \n",
       "75%        0.150181     -0.182835     -0.035248     -0.320991     -0.265317   \n",
       "max        1.170290      0.586612      0.598054      0.714933      0.607762   \n",
       "\n",
       "       ...            22            23            24            25  \\\n",
       "count  ...  12588.000000  12588.000000  12588.000000  12588.000000   \n",
       "mean   ...      0.299722      0.337550     -0.223755      0.223197   \n",
       "std    ...      0.120253      0.132676      0.207476      0.172227   \n",
       "min    ...     -0.278896     -0.247378     -1.210938     -0.534148   \n",
       "25%    ...      0.225654      0.252785     -0.318863      0.118512   \n",
       "50%    ...      0.303901      0.335452     -0.189443      0.206041   \n",
       "75%    ...      0.377640      0.417276     -0.095346      0.301201   \n",
       "max    ...      0.876032      1.305560      0.986242      1.008080   \n",
       "\n",
       "                 26            27            28            29            30  \\\n",
       "count  12588.000000  12588.000000  12588.000000  12588.000000  12588.000000   \n",
       "mean       0.050400     -0.032009      0.226407      0.038605      0.011955   \n",
       "std        0.133497      0.142489      0.252871      0.160819      0.114222   \n",
       "min       -0.668559     -0.764766     -0.778509     -0.427536     -0.468028   \n",
       "25%       -0.037451     -0.124591      0.198051     -0.066524     -0.061589   \n",
       "50%        0.041247     -0.037187      0.300782     -0.000689      0.006209   \n",
       "75%        0.127548      0.052250      0.376541      0.094537      0.077484   \n",
       "max        0.785764      0.840138      0.955922      0.791234      0.784560   \n",
       "\n",
       "                 31  \n",
       "count  12588.000000  \n",
       "mean      -0.065193  \n",
       "std        0.158416  \n",
       "min       -0.611171  \n",
       "25%       -0.173881  \n",
       "50%       -0.093370  \n",
       "75%        0.015797  \n",
       "max        0.655755  \n",
       "\n",
       "[8 rows x 32 columns]"
      ]
     },
     "execution_count": 3,
     "metadata": {},
     "output_type": "execute_result"
    }
   ],
   "source": [
    "data_node.describe()"
   ]
  },
  {
   "cell_type": "code",
   "execution_count": 4,
   "id": "157c7404",
   "metadata": {},
   "outputs": [
    {
     "data": {
      "image/png": "[encoded data removed]",
      "text/plain": [
       "<Figure size 432x288 with 2 Axes>"
      ]
     },
     "metadata": {},
     "output_type": "display_data"
    }
   ],
   "source": [
    "import seaborn as sns; sns.set_theme()\n",
    "ax = sns.heatmap(data_node)"
   ]
  },
  {
   "cell_type": "code",
   "execution_count": 5,
   "id": "dd3308fc",
   "metadata": {},
   "outputs": [
    {
     "data": {
      "text/html": [
       "<div>\n",
       "<style scoped>\n",
       "    .dataframe tbody tr th:only-of-type {\n",
       "        vertical-align: middle;\n",
       "    }\n",
       "\n",
       "    .dataframe tbody tr th {\n",
       "        vertical-align: top;\n",
       "    }\n",
       "\n",
       "    .dataframe thead th {\n",
       "        text-align: right;\n",
       "    }\n",
       "</style>\n",
       "<table border=\"1\" class=\"dataframe\">\n",
       "  <thead>\n",
       "    <tr style=\"text-align: right;\">\n",
       "      <th></th>\n",
       "      <th>0</th>\n",
       "      <th>1</th>\n",
       "    </tr>\n",
       "  </thead>\n",
       "  <tbody>\n",
       "    <tr>\n",
       "      <th>0</th>\n",
       "      <td>0</td>\n",
       "      <td>2</td>\n",
       "    </tr>\n",
       "    <tr>\n",
       "      <th>1</th>\n",
       "      <td>1</td>\n",
       "      <td>19</td>\n",
       "    </tr>\n",
       "    <tr>\n",
       "      <th>2</th>\n",
       "      <td>1</td>\n",
       "      <td>21</td>\n",
       "    </tr>\n",
       "    <tr>\n",
       "      <th>3</th>\n",
       "      <td>1</td>\n",
       "      <td>23</td>\n",
       "    </tr>\n",
       "    <tr>\n",
       "      <th>4</th>\n",
       "      <td>1</td>\n",
       "      <td>15</td>\n",
       "    </tr>\n",
       "  </tbody>\n",
       "</table>\n",
       "</div>"
      ],
      "text/plain": [
       "   0   1\n",
       "0  0   2\n",
       "1  1  19\n",
       "2  1  21\n",
       "3  1  23\n",
       "4  1  15"
      ]
     },
     "execution_count": 5,
     "metadata": {},
     "output_type": "execute_result"
    }
   ],
   "source": [
    "data_edges = pd.read_csv('train_edges.txt', sep=' ', header = None)\n",
    "data_UnlEdges = pd.read_csv('unlabeled_edges.txt', sep=' ', header = None)\n",
    "data_edges.head(5)"
   ]
  },
  {
   "cell_type": "code",
   "execution_count": 6,
   "id": "d9aba32b",
   "metadata": {},
   "outputs": [
    {
     "data": {
      "text/plain": [
       "<bound method DataFrame.value_counts of            0      1\n",
       "0          0      2\n",
       "1          1     19\n",
       "2          1     21\n",
       "3          1     23\n",
       "4          1     15\n",
       "...      ...    ...\n",
       "14317  12584  12587\n",
       "14318  12585   8677\n",
       "14319  12585   6166\n",
       "14320  12586  10708\n",
       "14321  12586  10728\n",
       "\n",
       "[14322 rows x 2 columns]>"
      ]
     },
     "execution_count": 6,
     "metadata": {},
     "output_type": "execute_result"
    }
   ],
   "source": [
    "data_edges.value_counts"
   ]
  },
  {
   "cell_type": "code",
   "execution_count": 7,
   "id": "7b581f99",
   "metadata": {},
   "outputs": [
    {
     "data": {
      "text/html": [
       "<div>\n",
       "<style scoped>\n",
       "    .dataframe tbody tr th:only-of-type {\n",
       "        vertical-align: middle;\n",
       "    }\n",
       "\n",
       "    .dataframe tbody tr th {\n",
       "        vertical-align: top;\n",
       "    }\n",
       "\n",
       "    .dataframe thead th {\n",
       "        text-align: right;\n",
       "    }\n",
       "</style>\n",
       "<table border=\"1\" class=\"dataframe\">\n",
       "  <thead>\n",
       "    <tr style=\"text-align: right;\">\n",
       "      <th></th>\n",
       "      <th>0</th>\n",
       "      <th>1</th>\n",
       "    </tr>\n",
       "  </thead>\n",
       "  <tbody>\n",
       "    <tr>\n",
       "      <th>0</th>\n",
       "      <td>11468</td>\n",
       "      <td>1677</td>\n",
       "    </tr>\n",
       "    <tr>\n",
       "      <th>1</th>\n",
       "      <td>3508</td>\n",
       "      <td>8904</td>\n",
       "    </tr>\n",
       "    <tr>\n",
       "      <th>2</th>\n",
       "      <td>6724</td>\n",
       "      <td>2318</td>\n",
       "    </tr>\n",
       "    <tr>\n",
       "      <th>3</th>\n",
       "      <td>11662</td>\n",
       "      <td>9673</td>\n",
       "    </tr>\n",
       "    <tr>\n",
       "      <th>4</th>\n",
       "      <td>2035</td>\n",
       "      <td>3693</td>\n",
       "    </tr>\n",
       "  </tbody>\n",
       "</table>\n",
       "</div>"
      ],
      "text/plain": [
       "       0     1\n",
       "0  11468  1677\n",
       "1   3508  8904\n",
       "2   6724  2318\n",
       "3  11662  9673\n",
       "4   2035  3693"
      ]
     },
     "execution_count": 7,
     "metadata": {},
     "output_type": "execute_result"
    }
   ],
   "source": [
    "data_UnlEdges.head(5)"
   ]
  },
  {
   "cell_type": "code",
   "execution_count": 8,
   "id": "e1276405",
   "metadata": {},
   "outputs": [
    {
     "name": "stdout",
     "output_type": "stream",
     "text": [
      "data_node shape:  (12588, 32)\n",
      "data_edges shape:  (14322, 2)\n",
      "data_UnlEdges shape:  (44014, 2)\n"
     ]
    }
   ],
   "source": [
    "print('data_node shape: ', data_node.shape)\n",
    "print('data_edges shape: ', data_edges.shape)\n",
    "print('data_UnlEdges shape: ', data_UnlEdges.shape)"
   ]
  },
  {
   "cell_type": "code",
   "execution_count": 9,
   "id": "8a30a90c",
   "metadata": {},
   "outputs": [
    {
     "data": {
      "text/html": [
       "<div>\n",
       "<style scoped>\n",
       "    .dataframe tbody tr th:only-of-type {\n",
       "        vertical-align: middle;\n",
       "    }\n",
       "\n",
       "    .dataframe tbody tr th {\n",
       "        vertical-align: top;\n",
       "    }\n",
       "\n",
       "    .dataframe thead th {\n",
       "        text-align: right;\n",
       "    }\n",
       "</style>\n",
       "<table border=\"1\" class=\"dataframe\">\n",
       "  <thead>\n",
       "    <tr style=\"text-align: right;\">\n",
       "      <th></th>\n",
       "      <th>0</th>\n",
       "      <th>1</th>\n",
       "    </tr>\n",
       "  </thead>\n",
       "  <tbody>\n",
       "    <tr>\n",
       "      <th>0</th>\n",
       "      <td>0</td>\n",
       "      <td>2</td>\n",
       "    </tr>\n",
       "    <tr>\n",
       "      <th>1</th>\n",
       "      <td>1</td>\n",
       "      <td>19</td>\n",
       "    </tr>\n",
       "    <tr>\n",
       "      <th>2</th>\n",
       "      <td>1</td>\n",
       "      <td>21</td>\n",
       "    </tr>\n",
       "    <tr>\n",
       "      <th>3</th>\n",
       "      <td>1</td>\n",
       "      <td>23</td>\n",
       "    </tr>\n",
       "    <tr>\n",
       "      <th>4</th>\n",
       "      <td>1</td>\n",
       "      <td>15</td>\n",
       "    </tr>\n",
       "  </tbody>\n",
       "</table>\n",
       "</div>"
      ],
      "text/plain": [
       "   0   1\n",
       "0  0   2\n",
       "1  1  19\n",
       "2  1  21\n",
       "3  1  23\n",
       "4  1  15"
      ]
     },
     "execution_count": 9,
     "metadata": {},
     "output_type": "execute_result"
    }
   ],
   "source": [
    "data_edges.head(5)"
   ]
  },
  {
   "cell_type": "code",
   "execution_count": 10,
   "id": "e309ce79",
   "metadata": {},
   "outputs": [
    {
     "data": {
      "image/png": "[encoded data removed]",
      "text/plain": [
       "<Figure size 432x288 with 1 Axes>"
      ]
     },
     "metadata": {},
     "output_type": "display_data"
    }
   ],
   "source": [
    "import networkx as nx\n",
    "G = nx.DiGraph() #directional\n",
    "G.add_edges_from([(r1, r2) for r1, r2 in zip(data_edges[0][0:20], data_edges[1][0:20])]) #draw first 20\n",
    "nx.draw(G, cmap = plt.get_cmap('jet'), with_labels=True)"
   ]
  },
  {
   "cell_type": "code",
   "execution_count": 11,
   "id": "a588a574",
   "metadata": {},
   "outputs": [],
   "source": [
    "train_nodes = list(data_edges.itertuples(index=False, name=None))\n",
    "def negative_sampling(data_edge):\n",
    "    ### BEGIN SOLUTION\n",
    "    pos_edges = data_edge\n",
    "    nodes = np.unique(pos_edges)\n",
    "    neg_edges = []\n",
    "    for u, v in tqdm(pos_edges):\n",
    "        while True:\n",
    "            neg_v = np.random.choice(nodes)\n",
    "            if (u == neg_v) or ((u, neg_v) in pos_edges) or ((neg_v, u) in pos_edges):\n",
    "                continue\n",
    "            neg_edges.append((u, neg_v))\n",
    "            break\n",
    "    return neg_edges"
   ]
  },
  {
   "cell_type": "code",
   "execution_count": 12,
   "id": "c696f2f7",
   "metadata": {},
   "outputs": [
    {
     "data": {
      "application/vnd.jupyter.widget-view+json": {
       "model_id": "2ec82b7372ae461f812e5380a427f393",
       "version_major": 2,
       "version_minor": 0
      },
      "text/plain": [
       "  0%|          | 0/14322 [00:00<?, ?it/s]"
      ]
     },
     "metadata": {},
     "output_type": "display_data"
    }
   ],
   "source": [
    "neg_edges = negative_sampling(train_nodes)\n",
    "pos_edges = train_nodes"
   ]
  },
  {
   "cell_type": "code",
   "execution_count": 13,
   "id": "c5afa825",
   "metadata": {},
   "outputs": [
    {
     "data": {
      "text/plain": [
       "14322"
      ]
     },
     "execution_count": 13,
     "metadata": {},
     "output_type": "execute_result"
    }
   ],
   "source": [
    "len(pos_edges)"
   ]
  },
  {
   "cell_type": "code",
   "execution_count": 14,
   "id": "8079debe",
   "metadata": {},
   "outputs": [],
   "source": [
    "x = np.random.RandomState(seed=42).permutation(pos_edges + neg_edges)\n",
    "#x = np.random.permutation()\n",
    "y = [int((u, v) in pos_edges) for (u, v) in x]\n",
    "\n",
    "x_df = pd.DataFrame(x) #neg + pos"
   ]
  },
  {
   "cell_type": "code",
   "execution_count": 15,
   "id": "bf550a97",
   "metadata": {},
   "outputs": [
    {
     "name": "stdout",
     "output_type": "stream",
     "text": [
      "Number of nodes: 12588\n",
      "Number of edges: 28643\n"
     ]
    }
   ],
   "source": [
    "G.add_edges_from([(r1, r2) for r1, r2 in zip(x_df[0], x_df[1])])\n",
    "nodes = list(G.nodes())\n",
    "n = G.number_of_nodes()\n",
    "m = G.number_of_edges()\n",
    "print('Number of nodes:', n)\n",
    "print('Number of edges:', m)"
   ]
  },
  {
   "cell_type": "code",
   "execution_count": null,
   "id": "06762140",
   "metadata": {},
   "outputs": [],
   "source": []
  },
  {
   "cell_type": "code",
   "execution_count": 16,
   "id": "07c3eb41",
   "metadata": {},
   "outputs": [],
   "source": [
    "pr_dict = nx.pagerank(G)\n",
    "degree_list = nx.degree(G)\n",
    "degCent = nx.degree_centrality(G)"
   ]
  },
  {
   "cell_type": "code",
   "execution_count": 17,
   "id": "905ae974",
   "metadata": {},
   "outputs": [],
   "source": [
    "betCent = nx.betweenness_centrality(G, normalized=True, endpoints=True, k = 50)"
   ]
  },
  {
   "cell_type": "code",
   "execution_count": 18,
   "id": "39d8384e",
   "metadata": {},
   "outputs": [
    {
     "name": "stderr",
     "output_type": "stream",
     "text": [
      "/Library/Frameworks/Python.framework/Versions/3.9/lib/python3.9/site-packages/networkx/algorithms/link_analysis/hits_alg.py:78: FutureWarning: adjacency_matrix will return a scipy.sparse array instead of a matrix in Networkx 3.0.\n",
      "  A = nx.adjacency_matrix(G, nodelist=list(G), dtype=float)\n"
     ]
    }
   ],
   "source": [
    "hubs_dict, auth_dict = nx.hits(G)"
   ]
  },
  {
   "cell_type": "code",
   "execution_count": 19,
   "id": "0ab33013",
   "metadata": {},
   "outputs": [
    {
     "data": {
      "text/plain": [
       "12588"
      ]
     },
     "execution_count": 19,
     "metadata": {},
     "output_type": "execute_result"
    }
   ],
   "source": [
    "degree_dict = {}\n",
    "for i, j  in degree_list:\n",
    "    degree_dict[i] = j\n",
    "len(degree_dict)\n"
   ]
  },
  {
   "cell_type": "code",
   "execution_count": 20,
   "id": "5c5c6842",
   "metadata": {},
   "outputs": [],
   "source": [
    "data_node_new = data_node"
   ]
  },
  {
   "cell_type": "code",
   "execution_count": 21,
   "id": "e972e65f",
   "metadata": {},
   "outputs": [
    {
     "data": {
      "application/vnd.jupyter.widget-view+json": {
       "model_id": "3983b1d7f5fa4a4f88609ed38e312d59",
       "version_major": 2,
       "version_minor": 0
      },
      "text/plain": [
       "Computing transition probabilities:   0%|          | 0/12588 [00:00<?, ?it/s]"
      ]
     },
     "metadata": {},
     "output_type": "display_data"
    },
    {
     "name": "stderr",
     "output_type": "stream",
     "text": [
      "Generating walks (CPU: 1): 100%|████████████████| 10/10 [00:06<00:00,  1.56it/s]\n"
     ]
    }
   ],
   "source": [
    "from node2vec import Node2Vec as n2v\n",
    "# Generate walks\n",
    "NV_dimensions=5\n",
    "g_emb = n2v(G, dimensions=NV_dimensions)\n",
    "\n",
    "# Learn embeddings \n",
    "model_emb = g_emb.fit(window=5, min_count=1)\n",
    "\n",
    "emb_df = (\n",
    "    pd.DataFrame(\n",
    "        [model_emb.wv.get_vector(str(n)) for n in G.nodes()],\n",
    "        index = G.nodes\n",
    "    )\n",
    ")"
   ]
  },
  {
   "cell_type": "code",
   "execution_count": 22,
   "id": "d3d39652",
   "metadata": {},
   "outputs": [
    {
     "data": {
      "text/html": [
       "<div>\n",
       "<style scoped>\n",
       "    .dataframe tbody tr th:only-of-type {\n",
       "        vertical-align: middle;\n",
       "    }\n",
       "\n",
       "    .dataframe tbody tr th {\n",
       "        vertical-align: top;\n",
       "    }\n",
       "\n",
       "    .dataframe thead th {\n",
       "        text-align: right;\n",
       "    }\n",
       "</style>\n",
       "<table border=\"1\" class=\"dataframe\">\n",
       "  <thead>\n",
       "    <tr style=\"text-align: right;\">\n",
       "      <th></th>\n",
       "      <th>0</th>\n",
       "      <th>1</th>\n",
       "      <th>2</th>\n",
       "      <th>3</th>\n",
       "      <th>4</th>\n",
       "    </tr>\n",
       "  </thead>\n",
       "  <tbody>\n",
       "    <tr>\n",
       "      <th>0</th>\n",
       "      <td>0.855875</td>\n",
       "      <td>0.374520</td>\n",
       "      <td>0.268222</td>\n",
       "      <td>-0.891154</td>\n",
       "      <td>-0.554853</td>\n",
       "    </tr>\n",
       "    <tr>\n",
       "      <th>2</th>\n",
       "      <td>0.736508</td>\n",
       "      <td>-0.029042</td>\n",
       "      <td>0.477638</td>\n",
       "      <td>-0.818174</td>\n",
       "      <td>-0.321644</td>\n",
       "    </tr>\n",
       "    <tr>\n",
       "      <th>1</th>\n",
       "      <td>1.031778</td>\n",
       "      <td>0.305861</td>\n",
       "      <td>0.571008</td>\n",
       "      <td>-0.819784</td>\n",
       "      <td>-0.661985</td>\n",
       "    </tr>\n",
       "    <tr>\n",
       "      <th>19</th>\n",
       "      <td>0.075976</td>\n",
       "      <td>0.155548</td>\n",
       "      <td>0.090145</td>\n",
       "      <td>0.182809</td>\n",
       "      <td>-0.033067</td>\n",
       "    </tr>\n",
       "    <tr>\n",
       "      <th>21</th>\n",
       "      <td>1.359844</td>\n",
       "      <td>0.395386</td>\n",
       "      <td>0.845638</td>\n",
       "      <td>-1.221835</td>\n",
       "      <td>-0.496278</td>\n",
       "    </tr>\n",
       "  </tbody>\n",
       "</table>\n",
       "</div>"
      ],
      "text/plain": [
       "           0         1         2         3         4\n",
       "0   0.855875  0.374520  0.268222 -0.891154 -0.554853\n",
       "2   0.736508 -0.029042  0.477638 -0.818174 -0.321644\n",
       "1   1.031778  0.305861  0.571008 -0.819784 -0.661985\n",
       "19  0.075976  0.155548  0.090145  0.182809 -0.033067\n",
       "21  1.359844  0.395386  0.845638 -1.221835 -0.496278"
      ]
     },
     "execution_count": 22,
     "metadata": {},
     "output_type": "execute_result"
    }
   ],
   "source": [
    "emb_df.head(NV_dimensions)"
   ]
  },
  {
   "cell_type": "code",
   "execution_count": 23,
   "id": "18f8c473",
   "metadata": {},
   "outputs": [],
   "source": [
    "\n",
    "nodeN2V_dict = []\n",
    "for i in range(NV_dimensions):\n",
    "    nodeN2V_dict.append('nodeN2V_dict{}'.format(i))"
   ]
  },
  {
   "cell_type": "code",
   "execution_count": 24,
   "id": "056b076b",
   "metadata": {},
   "outputs": [],
   "source": [
    "for j in range(NV_dimensions):\n",
    "    nodeN2V_dict[j] = {}\n",
    "    for i in range(len(emb_df)):\n",
    "        nodeN2V_dict[j][i] = emb_df[j][i]"
   ]
  },
  {
   "cell_type": "code",
   "execution_count": 25,
   "id": "a444e043",
   "metadata": {},
   "outputs": [],
   "source": [
    "nodeWeight_dict = []\n",
    "for i in range(data_node.shape[1]):\n",
    "    nodeWeight_dict.append('nodeWeight_dict{}'.format(i))"
   ]
  },
  {
   "cell_type": "code",
   "execution_count": 26,
   "id": "f3a566e6",
   "metadata": {},
   "outputs": [],
   "source": [
    "for j in range(data_node.shape[1]):\n",
    "    nodeWeight_dict[j] = {}\n",
    "    for i in range(len(data_node_new)):\n",
    "        nodeWeight_dict[j][i] = data_node_new[j][i]"
   ]
  },
  {
   "cell_type": "code",
   "execution_count": 27,
   "id": "46e6a3e3",
   "metadata": {},
   "outputs": [],
   "source": [
    "final_data_list = []\n",
    "def transform_data(df, lr) :\n",
    "    \n",
    "    for index, row in df.iterrows():\n",
    "        src = row[0]\n",
    "        tgt = row[1]\n",
    "        \n",
    "        data_list = []\n",
    "        data_list.append(pr_dict[src])\n",
    "        data_list.append(hubs_dict[src])\n",
    "        data_list.append(auth_dict[src])\n",
    "        data_list.append(degCent[src])\n",
    "        data_list.append(betCent[src])\n",
    "        data_list.append(degree_dict[src])\n",
    "        data_list.append(pr_dict[tgt])\n",
    "        data_list.append(hubs_dict[tgt])\n",
    "        data_list.append(auth_dict[tgt])\n",
    "        data_list.append(degCent[tgt])\n",
    "        data_list.append(betCent[tgt])\n",
    "        data_list.append(degree_dict[tgt])\n",
    "        \n",
    "        nb_src = [n for n in G.neighbors(src)]\n",
    "        nb_tgt = [c for c in G.neighbors(tgt)]\n",
    "        nb_src_weight = 0\n",
    "        nb_tgt_weight = 0\n",
    "        for d in range(data_node.shape[1]):\n",
    "\n",
    "            nb_src_weight = lr*(nodeWeight_dict[d][src] + sum(nodeWeight_dict[d][i] for i in nb_src))/(len(nb_src)+1)\n",
    "            nb_tgt_weight = lr*(nodeWeight_dict[d][tgt] + sum(nodeWeight_dict[d][i] for i in nb_tgt))/(len(nb_tgt)+1)\n",
    "            data_list.append(nb_src_weight)\n",
    "            data_list.append(nb_tgt_weight)\n",
    "        \n",
    "        for i in range(NV_dimensions):\n",
    "            data_list.append(nodeN2V_dict[i][src])\n",
    "            data_list.append(nodeN2V_dict[i][tgt])\n",
    "        \n",
    "\n",
    "        data_list.append(y[index])\n",
    "        \n",
    "        final_data_list.append(data_list)\n",
    "\n",
    "    col_list = ['SrcPageRank','SrcHubs', 'SrcAuth','SrcDegCnt','SrcBetCnt','SrcDeg',\n",
    "           'TgtPageRank','TgtHubs', 'TgtAuth','TgtDegCnt','TgtBetCnt','TgtDeg',  'NSW0',\n",
    "                'NSW1','NSW2','NSW3','NSW4','NSW5',\n",
    "                'NSW6','NSW7','NSW8','NSW9','NSW10',\n",
    "                'NSW11','NSW12','NSW13','NSW14','NSW15',\n",
    "                'NSW16','NSW17','NSW18','NSW19','NSW20','NSW21', 'NSW22','NSW23','NSW24','NSW25',\n",
    "                'NSW26','NSW27','NSW28','NSW29','NSW30',\n",
    "                'NSW31','NTW0',\n",
    "                'NTW1','NTW2','NTW3','NTW4','NTW5',\n",
    "                'NTW6','NTW7','NTW8','NTW9','NTW10',\n",
    "                'NTW11','NTW12','NTW13','NTW14','NTW15',\n",
    "                'NTW16','NTW17','NTW18','NTW19','NTW20','NTW21','NTW22','NTW23','NTW24','NTW25',\n",
    "                'NTW26','NTW27','NTW28','NTW29','NTW30',\n",
    "                'NTW31', 'N2Vs0','N2Vs1','N2Vs2','N2Vs3','N2Vs4','N2Vt0','N2Vt1','N2Vt2','N2Vt3','N2Vt4','Link']\n",
    "    new_df = pd.DataFrame(final_data_list, columns = col_list)        \n",
    "    return new_df"
   ]
  },
  {
   "cell_type": "code",
   "execution_count": null,
   "id": "407dcc91",
   "metadata": {},
   "outputs": [],
   "source": [
    "\n",
    "lrs = [1.5]\n",
    "for lr in lrs:\n",
    "    new_df = transform_data(x_df, lr)   \n",
    "    x_all = new_df.drop('Link', axis =1)\n",
    "    y_all = new_df['Link']\n",
    "    X_train, X_test, y_train, y_test = train_test_split(x_all, y_all, test_size=0.2, random_state=42)\n",
    "    classifier = xgboost.XGBClassifier()\n",
    "    classifier.fit(X_train, y_train)\n",
    "\n",
    "    y_train_pred = classifier.predict(X_train)\n",
    "    y_test_pred = classifier.predict(X_test)\n",
    "    acc_train = accuracy_score(y_train, y_train_pred)\n",
    "    acc_test = accuracy_score(y_test, y_test_pred)\n",
    "    print('acc_train: ', acc_train)\n",
    "    print('acc_test: ', acc_test)\n"
   ]
  },
  {
   "cell_type": "code",
   "execution_count": null,
   "id": "f633f930",
   "metadata": {},
   "outputs": [],
   "source": [
    "#new_df.describe()"
   ]
  },
  {
   "cell_type": "code",
   "execution_count": null,
   "id": "68624f0f",
   "metadata": {},
   "outputs": [],
   "source": [
    "#new_df.corr()\n",
    "dsa"
   ]
  },
  {
   "cell_type": "code",
   "execution_count": null,
   "id": "fef4e65c",
   "metadata": {},
   "outputs": [],
   "source": [
    "#new_df.shape"
   ]
  },
  {
   "cell_type": "code",
   "execution_count": null,
   "id": "510d9f1b",
   "metadata": {},
   "outputs": [],
   "source": [
    "#x_all['SrcDeg'] = x_all['SrcDeg'] /x_all['SrcDeg'].abs().max()\n",
    "\n",
    "#x_all['SrcDeg'] = (x_all['SrcDeg'] - x_all['SrcDeg'].min())/(x_all['SrcDeg'].max() - x_all['SrcDeg'].min())"
   ]
  },
  {
   "cell_type": "code",
   "execution_count": null,
   "id": "7ab421fc",
   "metadata": {},
   "outputs": [],
   "source": [
    "test_nodes = list(data_UnlEdges.itertuples(index=False, name=None))"
   ]
  },
  {
   "cell_type": "code",
   "execution_count": null,
   "id": "753e7854",
   "metadata": {},
   "outputs": [],
   "source": [
    "G.add_edges_from([(r1, r2) for r1, r2 in zip(data_UnlEdges[0], data_UnlEdges[1])])\n",
    "nodes = list(G.nodes())\n",
    "n = G.number_of_nodes()\n",
    "m = G.number_of_edges()\n",
    "print('Number of nodes:', n)\n",
    "print('Number of edges:', m)"
   ]
  },
  {
   "cell_type": "code",
   "execution_count": null,
   "id": "e829a84e",
   "metadata": {},
   "outputs": [],
   "source": [
    "pr_dict = nx.pagerank(G)\n",
    "degree_list = nx.degree(G)\n",
    "degCent = nx.degree_centrality(G)\n",
    "betCent = nx.betweenness_centrality(G, normalized=True, endpoints=True, k = 50)\n",
    "hubs_dict, auth_dict = nx.hits(G)\n",
    "degree_dict = {}\n",
    "for i, j  in degree_list:\n",
    "    degree_dict[i] = j\n",
    "len(degree_dict)"
   ]
  },
  {
   "cell_type": "code",
   "execution_count": null,
   "id": "b6d9b55b",
   "metadata": {},
   "outputs": [],
   "source": [
    "data_list_test = []\n",
    "def transform_data_test(df, lr) :\n",
    "    \n",
    "    for index, row in df.iterrows():\n",
    "        src = row[0]\n",
    "        tgt = row[1]\n",
    "        \n",
    "        data_list = []\n",
    "        data_list.append(pr_dict[src])\n",
    "        data_list.append(hubs_dict[src])\n",
    "        data_list.append(auth_dict[src])\n",
    "        data_list.append(degCent[src])\n",
    "        data_list.append(betCent[src])\n",
    "        data_list.append(degree_dict[src])\n",
    "        data_list.append(pr_dict[tgt])\n",
    "        data_list.append(hubs_dict[tgt])\n",
    "        data_list.append(auth_dict[tgt])\n",
    "        data_list.append(degCent[tgt])\n",
    "        data_list.append(betCent[tgt])\n",
    "        data_list.append(degree_dict[tgt])\n",
    "        \n",
    "        nb_src = [n for n in G.neighbors(src)]\n",
    "        nb_tgt = [c for c in G.neighbors(tgt)]\n",
    "        nb_src_weight = 0\n",
    "        nb_tgt_weight = 0\n",
    "        for d in range(data_node.shape[1]):\n",
    "\n",
    "            nb_src_weight = lr*(nodeWeight_dict[d][src] + sum(nodeWeight_dict[d][i] for i in nb_src))/(len(nb_src)+1)\n",
    "            nb_tgt_weight = lr*(nodeWeight_dict[d][tgt] + sum(nodeWeight_dict[d][i] for i in nb_tgt))/(len(nb_tgt)+1)\n",
    "            data_list.append(nb_src_weight)\n",
    "            data_list.append(nb_tgt_weight)\n",
    "        \n",
    "        for i in range(NV_dimensions):\n",
    "            data_list.append(nodeN2V_dict[i][src])\n",
    "            data_list.append(nodeN2V_dict[i][tgt])\n",
    "\n",
    "        \n",
    "        data_list_test.append(data_list)\n",
    "\n",
    "    col_list = ['SrcPageRank','SrcHubs', 'SrcAuth','SrcDegCnt','SrcBetCnt','SrcDeg',\n",
    "           'TgtPageRank','TgtHubs', 'TgtAuth','TgtDegCnt','TgtBetCnt','TgtDeg',  'NSW0',\n",
    "                'NSW1','NSW2','NSW3','NSW4','NSW5',\n",
    "                'NSW6','NSW7','NSW8','NSW9','NSW10',\n",
    "                'NSW11','NSW12','NSW13','NSW14','NSW15',\n",
    "                'NSW16','NSW17','NSW18','NSW19','NSW20','NSW21', 'NSW22','NSW23','NSW24','NSW25',\n",
    "                'NSW26','NSW27','NSW28','NSW29','NSW30',\n",
    "                'NSW31','NTW0',\n",
    "                'NTW1','NTW2','NTW3','NTW4','NTW5',\n",
    "                'NTW6','NTW7','NTW8','NTW9','NTW10',\n",
    "                'NTW11','NTW12','NTW13','NTW14','NTW15',\n",
    "                'NTW16','NTW17','NTW18','NTW19','NTW20','NTW21','NTW22','NTW23','NTW24','NTW25',\n",
    "                'NTW26','NTW27','NTW28','NTW29','NTW30',\n",
    "                'NTW31', 'N2Vs0','N2Vs1','N2Vs2','N2Vs3','N2Vs4','N2Vt0','N2Vt1','N2Vt2','N2Vt3','N2Vt4']\n",
    "    new_df = pd.DataFrame(data_list_test, columns = col_list)        \n",
    "    return new_df"
   ]
  },
  {
   "cell_type": "code",
   "execution_count": null,
   "id": "2bd14f2f",
   "metadata": {},
   "outputs": [],
   "source": [
    "lr = 0.05\n",
    "new_df_test = transform_data_test(data_UnlEdges, lr)        \n",
    "print(len(data_list_test))        \n",
    "print(len(new_df))"
   ]
  },
  {
   "cell_type": "code",
   "execution_count": null,
   "id": "7f52ef5a",
   "metadata": {},
   "outputs": [],
   "source": [
    "x_all_test = new_df_test\n"
   ]
  },
  {
   "cell_type": "code",
   "execution_count": null,
   "id": "d7cc9dbc",
   "metadata": {},
   "outputs": [],
   "source": [
    "#x_all_test['SrcDeg'] = (x_all_test['SrcDeg'] - x_all_test['SrcDeg'].min())/(x_all_test['SrcDeg'].max() - x_all_test['SrcDeg'].min())"
   ]
  },
  {
   "cell_type": "code",
   "execution_count": null,
   "id": "1bc62eb0",
   "metadata": {},
   "outputs": [],
   "source": [
    "y_test_pred = classifier.predict(x_all_test)"
   ]
  },
  {
   "cell_type": "code",
   "execution_count": null,
   "id": "84938357",
   "metadata": {},
   "outputs": [],
   "source": [
    "y_test_pred"
   ]
  },
  {
   "cell_type": "code",
   "execution_count": null,
   "id": "335650b6",
   "metadata": {},
   "outputs": [],
   "source": [
    "f = open('pred_link.txt', 'w')\n",
    "for item in y_test_pred:\n",
    "    f.write(\"%s\\n\" % item)\n",
    "# Close opend file\n",
    "f.close()"
   ]
  },
  {
   "cell_type": "code",
   "execution_count": null,
   "id": "b9aba475",
   "metadata": {},
   "outputs": [],
   "source": []
  },
  {
   "cell_type": "code",
   "execution_count": null,
   "id": "a8bd70f2",
   "metadata": {},
   "outputs": [],
   "source": []
  },
  {
   "cell_type": "code",
   "execution_count": null,
   "id": "5308e93c",
   "metadata": {},
   "outputs": [],
   "source": []
  }
 ],
 "metadata": {
  "kernelspec": {
   "display_name": "Python 3 (ipykernel)",
   "language": "python",
   "name": "python3"
  },
  "language_info": {
   "codemirror_mode": {
    "name": "ipython",
    "version": 3
   },
   "file_extension": ".py",
   "mimetype": "text/x-python",
   "name": "python",
   "nbconvert_exporter": "python",
   "pygments_lexer": "ipython3",
   "version": "3.9.7"
  }
 },
 "nbformat": 4,
 "nbformat_minor": 5
}
